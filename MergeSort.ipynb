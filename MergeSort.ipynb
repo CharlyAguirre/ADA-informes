{
  "nbformat": 4,
  "nbformat_minor": 0,
  "metadata": {
    "colab": {
      "name": "MergeSort.ipynb",
      "provenance": [],
      "authorship_tag": "ABX9TyMI826NMJMi/GS8yMfY3JvF",
      "include_colab_link": true
    },
    "kernelspec": {
      "name": "python3",
      "display_name": "Python 3"
    },
    "language_info": {
      "name": "python"
    }
  },
  "cells": [
    {
      "cell_type": "markdown",
      "metadata": {
        "id": "view-in-github",
        "colab_type": "text"
      },
      "source": [
        "<a href=\"https://colab.research.google.com/github/CharlyAguirre/ADA-informes/blob/main/MergeSort.ipynb\" target=\"_parent\"><img src=\"https://colab.research.google.com/assets/colab-badge.svg\" alt=\"Open In Colab\"/></a>"
      ]
    },
    {
      "cell_type": "markdown",
      "source": [
        "# 1. Problema de ordenamiento\n",
        "\n",
        "**Entrada:** Un arreglo de números que puede o no estar ordenados [x1, x2, x3, ..., xn]\n",
        "\n",
        "**Salida:** Un nuevo arreglo con los mismos datos de entrada, pero ordenados según corresponda (menor a mayor en este caso) [x1 ≤ x2 ≤ x3 ≤ ... ≤ xn]\n",
        "\n",
        "Los problemas de ordenamiento son muy recurrentes al momento de plantear la solución a un problema, pero ¿por qué? Estos son planteados con el fin de mantener un orden en la solución y también para una correcta y fácil manipulación de estos datos al momento de ser utilizados para la resolución de un problema mayor.\n",
        "\n",
        "\n"
      ],
      "metadata": {
        "id": "N9hYKUso5fBp"
      }
    },
    {
      "cell_type": "markdown",
      "source": [
        "# 2. MergeSort\n",
        "\n",
        "Este algoritmo de ordenamiento se basa en la primicia de divide y vencerás, este algoritmo se utiliza a si mismo de manera recursiva para para poder realizar el ordenamiento del arreglo que se le es entregado, también contiene dentro una función llamada merge."
      ],
      "metadata": {
        "id": "2aDy_t4j9s2v"
      }
    },
    {
      "cell_type": "markdown",
      "source": [
        "## 2.1 Descripción del MergeSort\n",
        "\n",
        "Como se mencionó anteriormente el MergeSort se llama de manera recursiva pero para que sirve esto te puedes preguntar, esto sirve ya que el MergeSort va dividiendo el arreglo que se le entrega en dos mediante el manejo de los índices de las posiciones de los datos, esto se repite sucesivamente hasta que se llega a que los sub-arreglos en los que fue dividido el arreglo principal tengas como largo un solo dato, luego de esto es llamada la función merge para que empiece a combinar y ordenar de menor a mayor los sub arreglos desde los que tienen largo uno hasta llegar al largo n.\n"
      ],
      "metadata": {
        "id": "wFykm3n5AdhK"
      }
    },
    {
      "cell_type": "markdown",
      "source": [
        "## 2.2 Ejemplo paso a paso del MergeSort\n",
        "\n",
        "Para empezar, tomaremos de ejemplo el arreglo [4,9,2,1,7,6].\n",
        "\n",
        "Lo primero que el MergeSort es dividir este arreglo en 2 dejándolo de la siguiente manera.\n",
        "\n",
        "Arreglo de la izquierda: [4,9,2]\t\tArreglo de la derecha: [1,7,6]\n",
        "\n",
        "Ahora estos dos arreglos se le pasan de nuevo al MergeSort y este los divide en 2 nueva mente quedando de esta manera.\n",
        "\n",
        "Arreglo 1: [4,9,2]\tArreglo de la izquierda: [4,9]\t\tArreglo de la derecha:[2\n",
        "]\n",
        "Como este proceso se tiene que repetir hasta llegar a los a sub-arreglo de largo 1 solo basta repetir esto una vez en los arreglos de la izquierda.\n",
        "\n",
        "Arreglo 2: [4,9]\t\tArreglo de la izquierda: [4]\t\tArreglo de la derecha:[9]\n",
        "\n",
        "Llegados a este punto el algoritmo empieza a llamar a la función merge para empezar a combinar estos sub-arreglos, para combinarlos primero los compara para observar cual es el mayor y cuál es el menor. \n",
        "\n",
        " [4] < [9] al observar esto la función merge devuelve [4,9]\n",
        "\n",
        "Ahora volvemos donde quedo el arreglo [2] y la función merge empieza de nuevo.\n",
        "[4] < [2] compara. Al no ser real los intercambia y combina los arreglos quedando: [2,4,9].\n",
        "\n",
        "Esto fue por el lado de la izquierda de la primera división, por el lado de la dereche haciendo este mismo proceso llegaría un sub-arreglo de ya ordenado: [1,6,7].\n",
        "\n",
        "Ahora la función merge es llamada de nuevo y empieza a comparar los datos.\n",
        "Arreglo Izquierdo: [2,4,9]\tArreglo derecho: [1,6,7]\n",
        "\n",
        "[2] < [1] NO **->**Arreglo: [1]\n",
        "\n",
        "[2] < [6] SI **->** Arreglo: [1,2]\n",
        "\n",
        "[6] < [4] NO **->** Arreglo: [1,2,4]\n",
        "\n",
        "[6] < [9] SI **->** Arreglo: [1,2,4,6]\n",
        "\n",
        "[9] < [7] NO **->** Arreglo: [1,2,4,6,7,9] (al ser la última comparación posible el nueve es el último dato)\n",
        "\n",
        "Arreglo de entrada: [4,9,2,1,7,6]\n",
        "\n",
        "Arreglo de Salida: [1,2,4,6,7,9]\n",
        "\n",
        "\n"
      ],
      "metadata": {
        "id": "NAdZj9TGPke9"
      }
    }
  ]
}