{
  "nbformat": 4,
  "nbformat_minor": 0,
  "metadata": {
    "colab": {
      "name": "MergeSort.ipynb",
      "provenance": [],
      "authorship_tag": "ABX9TyNJbMSw/VL1jf3J8D+zISE3",
      "include_colab_link": true
    },
    "kernelspec": {
      "name": "python3",
      "display_name": "Python 3"
    },
    "language_info": {
      "name": "python"
    }
  },
  "cells": [
    {
      "cell_type": "markdown",
      "metadata": {
        "id": "view-in-github",
        "colab_type": "text"
      },
      "source": [
        "<a href=\"https://colab.research.google.com/github/CharlyAguirre/ADA-informes/blob/main/MergeSort.ipynb\" target=\"_parent\"><img src=\"https://colab.research.google.com/assets/colab-badge.svg\" alt=\"Open In Colab\"/></a>"
      ]
    },
    {
      "cell_type": "markdown",
      "source": [
        "# 1. Problema de ordenamiento\n",
        "\n",
        "**Entrada:** Un arreglo de números que puede o no estar ordenados [x1, x2, x3, ..., xn]\n",
        "\n",
        "**Salida:** Un nuevo arreglo con los mismos datos de entrada, pero ordenados según de menor a mayor [x1 ≤ x2 ≤ x3 ≤ ... ≤ xn]\n",
        "\n",
        "Los problemas de ordenamiento son muy recurrentes al momento de plantear la solución a un problema, pero ¿por qué? Estos son planteados con el fin de mantener un orden en la solución, también para una correcta y fácil manipulación de estos datos al momento de ser utilizados para la resolución de un problema mayor.\n",
        "\n",
        "\n"
      ],
      "metadata": {
        "id": "N9hYKUso5fBp"
      }
    },
    {
      "cell_type": "markdown",
      "source": [
        "# 2. MergeSort\n",
        "\n",
        "Este algoritmo de ordenamiento se basa en la primicia de divide y vencerás, este algoritmo se utiliza a si mismo de manera recursiva para poder realizar el ordenamiento del arreglo que se le es entregado, también contiene dentro una función llamada merge."
      ],
      "metadata": {
        "id": "2aDy_t4j9s2v"
      }
    },
    {
      "cell_type": "markdown",
      "source": [
        "## 2.1 Descripción del MergeSort\n",
        "\n",
        "Como se mencionó anteriormente el MergeSort se llama de manera recursiva pero para que sirve esto te puedes preguntar, esto sirve ya que el MergeSort va dividiendo el arreglo que se le entrega en dos mediante el manejo de los índices de las posiciones de los datos, esto se repite sucesivamente hasta que se llega a unos sub-arreglos en los que fue dividido el arreglo principal que tengan como largo un solo dato, luego de esto es llamada la función merge para que empiece a combinar y ordenar de menor a mayor los sub arreglos desde los que tienen largo uno hasta llegar al largo n.\n"
      ],
      "metadata": {
        "id": "wFykm3n5AdhK"
      }
    },
    {
      "cell_type": "markdown",
      "source": [
        "## 2.2 Ejemplo paso a paso del MergeSort\n",
        "\n",
        "Para empezar, tomaremos de ejemplo el arreglo [4,9,2,1,7,6].\n",
        "\n",
        "Lo primero que el MergeSort es dividir este arreglo en 2 dejándolo de la siguiente manera.\n",
        "\n",
        "Arreglo de la izquierda: [4,9,2]\t\tArreglo de la derecha: [1,7,6]\n",
        "\n",
        "Ahora estos dos arreglos se le pasan de nuevo al MergeSort y este los divide en 2 nueva mente quedando de esta manera.\n",
        "\n",
        "Arreglo 1: [4,9,2]\tArreglo de la izquierda: [4,9]\t\tArreglo de la derecha:[2\n",
        "]\n",
        "Como este proceso se tiene que repetir hasta llegar a los a sub-arreglo de largo 1 solo basta repetir esto una vez en los arreglos de la izquierda.\n",
        "\n",
        "Arreglo 2: [4,9]\t\tArreglo de la izquierda: [4]\t\tArreglo de la derecha:[9]\n",
        "\n",
        "Llegados a este punto el algoritmo empieza a llamar a la función merge para empezar a combinar estos sub-arreglos, para combinarlos primero los compara para observar cual es el mayor y cuál es el menor. \n",
        "\n",
        " [4] < [9] al observar esto la función merge devuelve [4,9]\n",
        "\n",
        "Ahora volvemos donde quedo el arreglo [2] y la función merge empieza de nuevo.\n",
        "[4] < [2] compara. Al no ser real los intercambia y combina los arreglos quedando: [2,4,9].\n",
        "\n",
        "Esto fue por el lado de la izquierda de la primera división, por el lado de la dereche haciendo este mismo proceso llegaría un sub-arreglo de ya ordenado: [1,6,7].\n",
        "\n",
        "Ahora la función merge es llamada de nuevo y empieza a comparar los datos.\n",
        "Arreglo Izquierdo: [2,4,9]\tArreglo derecho: [1,6,7]\n",
        "\n",
        "[2] < [1] NO **->**Arreglo: [1]\n",
        "\n",
        "[2] < [6] SI **->** Arreglo: [1,2]\n",
        "\n",
        "[6] < [4] NO **->** Arreglo: [1,2,4]\n",
        "\n",
        "[6] < [9] SI **->** Arreglo: [1,2,4,6]\n",
        "\n",
        "[9] < [7] NO **->** Arreglo: [1,2,4,6,7,9] (al ser la última comparación posible el nueve es el último dato)\n",
        "\n",
        "Arreglo de entrada: [4,9,2,1,7,6]\n",
        "\n",
        "Arreglo de Salida: [1,2,4,6,7,9]\n",
        "\n",
        "\n"
      ],
      "metadata": {
        "id": "NAdZj9TGPke9"
      }
    },
    {
      "cell_type": "markdown",
      "source": [
        "## 2.3 Codigo del MergeSort\n",
        "\n",
        "\n"
      ],
      "metadata": {
        "id": "EJjrtlxolgsj"
      }
    },
    {
      "cell_type": "code",
      "source": [
        "def MergeSort(arreglo, verbose = False):\n",
        "  \n",
        "  #variable que parte el arreglo que se le entrega al mergeSort a la mitad\n",
        "  mitad = len(arreglo) // 2\n",
        "  \n",
        "  #condicion para deterner la recursion al momento de llegar a len(arreglo) = 1\n",
        "  if len(arreglo) < 2:\n",
        "      return arreglo\n",
        "\n",
        "  if(verbose == True):\n",
        "    print(\"Arreglo izquierdo: \", arreglo[:mitad])\n",
        "\n",
        "  \"\"\"llamando de forma recursiva al mergeSort para dividir el arreglo hasta que \n",
        "  llegen a len = 1\"\"\"\n",
        "  arregloDere = MergeSort(arreglo[:mitad], verbose)\n",
        "\n",
        "  if(verbose == True):\n",
        "    print(\"Arreglo derecho: \", arreglo[mitad:])\n",
        "\n",
        "  arregloIzqui = MergeSort(arreglo[mitad:], verbose)\n",
        "  \n",
        "  #llamado a la funcion merge para que junte los dos arreglos ya ordenados en uno solo\n",
        "  arreglo = merge(arregloDere, arregloIzqui, verbose)\n",
        "\n",
        "  return arreglo\n",
        "\n",
        "def merge(arregloDere, arregloIzqui, verbose):\n",
        "    \n",
        "    i, j = 0, 0 \n",
        "    arreglo = [] \n",
        "\n",
        "    if(verbose == True):\n",
        "\n",
        "      print(\"Los arreglos a combinar son \", arregloDere , \"por la izquierda  y por la derecha \", arregloIzqui)\n",
        "\n",
        " \n",
        "   #while que para realizar las comparaciones para las combinaciones de arreglos\n",
        "    while(i < len(arregloDere) and j < len(arregloIzqui)):\n",
        "\n",
        "      #condicon de control para ir agregando los datos a un nuevo arreglo de menor a mayor\n",
        "        if (arregloDere[i] < arregloIzqui[j]):\n",
        "            arreglo.append(arregloDere[i])\n",
        "            i += 1\n",
        "        else:\n",
        "            arreglo.append(arregloIzqui[j])\n",
        "            j += 1\n",
        " \n",
        "   # Agregamos los resultados a la lista\n",
        "    arreglo += arregloDere[i:]\n",
        "    arreglo += arregloIzqui[j:]\n",
        " \n",
        "    # Retornamos el resultados\n",
        "    return arreglo\n",
        "\n",
        "\n",
        "arregloInicial = [31,3,88,1]\n",
        "print(\"Entrada: \",arregloInicial)\n",
        "\n",
        "arregloOrdenado = MergeSort(arregloInicial)  \n",
        "print(\"Salida : \",arregloOrdenado)"
      ],
      "metadata": {
        "colab": {
          "base_uri": "https://localhost:8080/"
        },
        "id": "VOzcb_BJmV0o",
        "outputId": "09239227-5f56-4071-e428-2867cdebd027"
      },
      "execution_count": 10,
      "outputs": [
        {
          "output_type": "stream",
          "name": "stdout",
          "text": [
            "Entrada:  [31, 3, 88, 1]\n",
            "Salida :  [1, 3, 31, 88]\n"
          ]
        }
      ]
    }
  ]
}