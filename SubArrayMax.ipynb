{
  "nbformat": 4,
  "nbformat_minor": 0,
  "metadata": {
    "colab": {
      "name": "SubArrayMax",
      "provenance": [],
      "include_colab_link": true
    },
    "kernelspec": {
      "name": "python3",
      "display_name": "Python 3"
    },
    "language_info": {
      "name": "python"
    }
  },
  "cells": [
    {
      "cell_type": "markdown",
      "metadata": {
        "id": "view-in-github",
        "colab_type": "text"
      },
      "source": [
        "<a href=\"https://colab.research.google.com/github/CharlyAguirre/ADA-informes/blob/main/SubArrayMax.ipynb\" target=\"_parent\"><img src=\"https://colab.research.google.com/assets/colab-badge.svg\" alt=\"Open In Colab\"/></a>"
      ]
    },
    {
      "cell_type": "markdown",
      "source": [
        "# 1. Problema\n",
        "\n",
        "**Entrada:** El algoritmo recibe un arreglo en cual contiene dato de una secuencia de sucesos(estos no estan necesaria mente ordenados de menor a mayor), tambien recibe el indice mayor del arreglo y el indice menor del arreglo.\n",
        "\n",
        "**[x1, x2, x3, ... ,xn]**\n",
        "\n",
        "\n",
        "**Salida:** El arreglo entrega el indice menor y el indice mayor de un sub-arreglo perteneciente al arreglo que se le fue entregado en la entrada, tambien entrega la suma de los datos de este sub-arreglo.\n",
        "\n",
        "**[x1 + x2 + x3 + ... + xn] = sumaMaxima**\n",
        "\n",
        "**indice menor = posicion x1** \n",
        "\n",
        "**Indice mayor  = posicion xn**\n",
        "\n",
        "El problema del subarreglo maximo fue propuesto por Ulf Grenander en 1977, este fue propuesto como una manera simplificada a la estimacion de maxima verosimilidud. Este problema consiste en encontrar un sub-arreglo en el cual al sumar los datos que se encuentran dentro de el es la suma maxima que se puede encontrar en una cadena de datos que esta dentro de un arreglo que se te es entregado. Una de la aplicaciones que tiene este algoritmo es en la vision por computadora en el que mediante de un mapa de bits se busca encontrar el area mas brillante de una imagen.\n"
      ],
      "metadata": {
        "id": "TzhUIUH9Bq_m"
      }
    },
    {
      "cell_type": "markdown",
      "source": [
        "# 2. SubArrayMax\n",
        "\n",
        "Este algoritmo tiene varias formas de ser implementado, las cuales son: \n",
        "\n",
        "1.   Por fuerza bruta.\n",
        "2.   Programacion dinamica.\n",
        "3.   Reduccion a las rutas mas cortas.\n",
        "4.   **Divide y venceras.**\n",
        "\n",
        "Esta ultima sera la estudiadad e explicada en este informe.\n",
        "\n",
        "El metodo de divide y venceras consiste en ir dividiendo el promebla que se le es entregado en varios sub-problemas de este mas pequeños y asi sea mas facil a la hora de empezar a resolver estos problemas, llegados a este punto empezar a combinar las soluciones de estos problemas hasta combinar todas las soluciones obtenidas."
      ],
      "metadata": {
        "id": "nM_Q9IReE95G"
      }
    },
    {
      "cell_type": "markdown",
      "source": [
        "## 2.1 Descripcion del SubArrayMax \n",
        "\n",
        "Como fue explicado en el punto anterior usaremos la forma de implementacion de divide y venceras por lo que el algortimo sera implementado de manera recursiva, con al recursion nos referimos a que el algoritmo se ira llamando a si mismo una y otra vez hasta que se llege a un arreglo de largo 1.\n",
        "\n",
        "Una vez teniendo ya el problema dividido empezaremos a combinar las soluciones encontradas, para esto primero combinaremos los dos sub-arreglos nos entrega la recursion del algoritmo, la combinacion se hace a partir de otra funcion la cual llamaremos subArrayMid, esta funcion buscara el  sub-arreglo mayor que pase por el medio, la cual consiste en pararse en el medio de arreglo he ir sumado primero hacia la izquierda los datos del arreglo, cada vez que se sume un nuevo dato se compara con la suma anterior y se es mayor se guarda, esto se realiza hasta llegar al low del arreglo, despues se repite lo mismo pero desde el medio hacia la derecha. Una vez optenidos estos dos sub-arreglos se combinan para tener el sub-arreglo que pasa por el medio.\n",
        "\n",
        "Ya para finalizar se comparan las sumas optenidas, la del sub-arreglo de la izquierda, la del sub-arreglo de la derecha y la suma del sub-arreglo que pasa por el medio, la mayor de estas 3 sumas es la que es retornada junto con los datos correspondientes a cada sub-arreglo."
      ],
      "metadata": {
        "id": "XE7r8yGnHXD7"
      }
    },
    {
      "cell_type": "code",
      "execution_count": 12,
      "metadata": {
        "id": "bV9VWTVo14Q4",
        "colab": {
          "base_uri": "https://localhost:8080/",
          "height": 415
        },
        "outputId": "fd1abedb-204b-42e8-8228-b00b8e2f3e56"
      },
      "outputs": [
        {
          "output_type": "error",
          "ename": "RecursionError",
          "evalue": "ignored",
          "traceback": [
            "\u001b[0;31m---------------------------------------------------------------------------\u001b[0m",
            "\u001b[0;31mRecursionError\u001b[0m                            Traceback (most recent call last)",
            "\u001b[0;32m<ipython-input-12-32a61491535c>\u001b[0m in \u001b[0;36m<module>\u001b[0;34m\u001b[0m\n\u001b[1;32m     60\u001b[0m \u001b[0mhigh\u001b[0m \u001b[0;34m=\u001b[0m \u001b[0mlen\u001b[0m\u001b[0;34m(\u001b[0m\u001b[0ma\u001b[0m\u001b[0;34m)\u001b[0m\u001b[0;34m\u001b[0m\u001b[0;34m\u001b[0m\u001b[0m\n\u001b[1;32m     61\u001b[0m \u001b[0;34m\u001b[0m\u001b[0m\n\u001b[0;32m---> 62\u001b[0;31m \u001b[0ma\u001b[0m\u001b[0;34m,\u001b[0m \u001b[0mlow\u001b[0m\u001b[0;34m,\u001b[0m \u001b[0mhigh\u001b[0m\u001b[0;34m,\u001b[0m \u001b[0msumaMax\u001b[0m \u001b[0;34m=\u001b[0m \u001b[0msubArrayMax\u001b[0m\u001b[0;34m(\u001b[0m\u001b[0ma\u001b[0m\u001b[0;34m,\u001b[0m\u001b[0mlow\u001b[0m\u001b[0;34m,\u001b[0m\u001b[0mhigh\u001b[0m\u001b[0;34m)\u001b[0m\u001b[0;34m\u001b[0m\u001b[0;34m\u001b[0m\u001b[0m\n\u001b[0m\u001b[1;32m     63\u001b[0m \u001b[0;34m\u001b[0m\u001b[0m\n\u001b[1;32m     64\u001b[0m \u001b[0mprint\u001b[0m\u001b[0;34m(\u001b[0m\u001b[0ma\u001b[0m\u001b[0;34m[\u001b[0m\u001b[0mlow\u001b[0m\u001b[0;34m:\u001b[0m\u001b[0mhigh\u001b[0m\u001b[0;34m]\u001b[0m\u001b[0;34m)\u001b[0m\u001b[0;34m\u001b[0m\u001b[0;34m\u001b[0m\u001b[0m\n",
            "\u001b[0;32m<ipython-input-12-32a61491535c>\u001b[0m in \u001b[0;36msubArrayMax\u001b[0;34m(a, low, high, sumaMax, verbose)\u001b[0m\n\u001b[1;32m     11\u001b[0m   \u001b[0maLeft\u001b[0m\u001b[0;34m,\u001b[0m \u001b[0mlowLeft\u001b[0m\u001b[0;34m,\u001b[0m \u001b[0mhighLeft\u001b[0m\u001b[0;34m,\u001b[0m \u001b[0msumaMaxLeft\u001b[0m \u001b[0;34m=\u001b[0m \u001b[0msubArrayMax\u001b[0m\u001b[0;34m(\u001b[0m\u001b[0ma\u001b[0m\u001b[0;34m,\u001b[0m \u001b[0mlow\u001b[0m\u001b[0;34m,\u001b[0m \u001b[0mmitad\u001b[0m\u001b[0;34m,\u001b[0m \u001b[0msumaMax\u001b[0m\u001b[0;34m)\u001b[0m\u001b[0;34m\u001b[0m\u001b[0;34m\u001b[0m\u001b[0m\n\u001b[1;32m     12\u001b[0m \u001b[0;34m\u001b[0m\u001b[0m\n\u001b[0;32m---> 13\u001b[0;31m   \u001b[0maRigh\u001b[0m\u001b[0;34m,\u001b[0m \u001b[0mlowRigh\u001b[0m\u001b[0;34m,\u001b[0m \u001b[0mhighRigh\u001b[0m\u001b[0;34m,\u001b[0m \u001b[0msumaMaxRigh\u001b[0m \u001b[0;34m=\u001b[0m \u001b[0msubArrayMax\u001b[0m\u001b[0;34m(\u001b[0m\u001b[0ma\u001b[0m\u001b[0;34m,\u001b[0m \u001b[0mmitad\u001b[0m \u001b[0;34m+\u001b[0m \u001b[0;36m1\u001b[0m\u001b[0;34m,\u001b[0m \u001b[0mhigh\u001b[0m\u001b[0;34m,\u001b[0m \u001b[0msumaMax\u001b[0m\u001b[0;34m)\u001b[0m\u001b[0;34m\u001b[0m\u001b[0;34m\u001b[0m\u001b[0m\n\u001b[0m\u001b[1;32m     14\u001b[0m \u001b[0;34m\u001b[0m\u001b[0m\n\u001b[1;32m     15\u001b[0m   \u001b[0ma\u001b[0m\u001b[0;34m,\u001b[0m \u001b[0mlow\u001b[0m\u001b[0;34m,\u001b[0m \u001b[0mhigh\u001b[0m\u001b[0;34m,\u001b[0m \u001b[0msumaMax\u001b[0m \u001b[0;34m=\u001b[0m \u001b[0msubArrayMid\u001b[0m\u001b[0;34m(\u001b[0m\u001b[0ma\u001b[0m\u001b[0;34m,\u001b[0m \u001b[0mlowLeft\u001b[0m\u001b[0;34m,\u001b[0m \u001b[0mhighRigh\u001b[0m\u001b[0;34m,\u001b[0m \u001b[0msumaMaxLeft\u001b[0m\u001b[0;34m,\u001b[0m \u001b[0msumaMaxRigh\u001b[0m\u001b[0;34m,\u001b[0m \u001b[0mverbose\u001b[0m\u001b[0;34m)\u001b[0m\u001b[0;34m\u001b[0m\u001b[0;34m\u001b[0m\u001b[0m\n",
            "\u001b[0;32m<ipython-input-12-32a61491535c>\u001b[0m in \u001b[0;36msubArrayMax\u001b[0;34m(a, low, high, sumaMax, verbose)\u001b[0m\n\u001b[1;32m      9\u001b[0m   \u001b[0mmitad\u001b[0m \u001b[0;34m=\u001b[0m \u001b[0mhigh\u001b[0m \u001b[0;34m//\u001b[0m \u001b[0;36m2\u001b[0m\u001b[0;34m\u001b[0m\u001b[0;34m\u001b[0m\u001b[0m\n\u001b[1;32m     10\u001b[0m \u001b[0;34m\u001b[0m\u001b[0m\n\u001b[0;32m---> 11\u001b[0;31m   \u001b[0maLeft\u001b[0m\u001b[0;34m,\u001b[0m \u001b[0mlowLeft\u001b[0m\u001b[0;34m,\u001b[0m \u001b[0mhighLeft\u001b[0m\u001b[0;34m,\u001b[0m \u001b[0msumaMaxLeft\u001b[0m \u001b[0;34m=\u001b[0m \u001b[0msubArrayMax\u001b[0m\u001b[0;34m(\u001b[0m\u001b[0ma\u001b[0m\u001b[0;34m,\u001b[0m \u001b[0mlow\u001b[0m\u001b[0;34m,\u001b[0m \u001b[0mmitad\u001b[0m\u001b[0;34m,\u001b[0m \u001b[0msumaMax\u001b[0m\u001b[0;34m)\u001b[0m\u001b[0;34m\u001b[0m\u001b[0;34m\u001b[0m\u001b[0m\n\u001b[0m\u001b[1;32m     12\u001b[0m \u001b[0;34m\u001b[0m\u001b[0m\n\u001b[1;32m     13\u001b[0m   \u001b[0maRigh\u001b[0m\u001b[0;34m,\u001b[0m \u001b[0mlowRigh\u001b[0m\u001b[0;34m,\u001b[0m \u001b[0mhighRigh\u001b[0m\u001b[0;34m,\u001b[0m \u001b[0msumaMaxRigh\u001b[0m \u001b[0;34m=\u001b[0m \u001b[0msubArrayMax\u001b[0m\u001b[0;34m(\u001b[0m\u001b[0ma\u001b[0m\u001b[0;34m,\u001b[0m \u001b[0mmitad\u001b[0m \u001b[0;34m+\u001b[0m \u001b[0;36m1\u001b[0m\u001b[0;34m,\u001b[0m \u001b[0mhigh\u001b[0m\u001b[0;34m,\u001b[0m \u001b[0msumaMax\u001b[0m\u001b[0;34m)\u001b[0m\u001b[0;34m\u001b[0m\u001b[0;34m\u001b[0m\u001b[0m\n",
            "... last 1 frames repeated, from the frame below ...\n",
            "\u001b[0;32m<ipython-input-12-32a61491535c>\u001b[0m in \u001b[0;36msubArrayMax\u001b[0;34m(a, low, high, sumaMax, verbose)\u001b[0m\n\u001b[1;32m      9\u001b[0m   \u001b[0mmitad\u001b[0m \u001b[0;34m=\u001b[0m \u001b[0mhigh\u001b[0m \u001b[0;34m//\u001b[0m \u001b[0;36m2\u001b[0m\u001b[0;34m\u001b[0m\u001b[0;34m\u001b[0m\u001b[0m\n\u001b[1;32m     10\u001b[0m \u001b[0;34m\u001b[0m\u001b[0m\n\u001b[0;32m---> 11\u001b[0;31m   \u001b[0maLeft\u001b[0m\u001b[0;34m,\u001b[0m \u001b[0mlowLeft\u001b[0m\u001b[0;34m,\u001b[0m \u001b[0mhighLeft\u001b[0m\u001b[0;34m,\u001b[0m \u001b[0msumaMaxLeft\u001b[0m \u001b[0;34m=\u001b[0m \u001b[0msubArrayMax\u001b[0m\u001b[0;34m(\u001b[0m\u001b[0ma\u001b[0m\u001b[0;34m,\u001b[0m \u001b[0mlow\u001b[0m\u001b[0;34m,\u001b[0m \u001b[0mmitad\u001b[0m\u001b[0;34m,\u001b[0m \u001b[0msumaMax\u001b[0m\u001b[0;34m)\u001b[0m\u001b[0;34m\u001b[0m\u001b[0;34m\u001b[0m\u001b[0m\n\u001b[0m\u001b[1;32m     12\u001b[0m \u001b[0;34m\u001b[0m\u001b[0m\n\u001b[1;32m     13\u001b[0m   \u001b[0maRigh\u001b[0m\u001b[0;34m,\u001b[0m \u001b[0mlowRigh\u001b[0m\u001b[0;34m,\u001b[0m \u001b[0mhighRigh\u001b[0m\u001b[0;34m,\u001b[0m \u001b[0msumaMaxRigh\u001b[0m \u001b[0;34m=\u001b[0m \u001b[0msubArrayMax\u001b[0m\u001b[0;34m(\u001b[0m\u001b[0ma\u001b[0m\u001b[0;34m,\u001b[0m \u001b[0mmitad\u001b[0m \u001b[0;34m+\u001b[0m \u001b[0;36m1\u001b[0m\u001b[0;34m,\u001b[0m \u001b[0mhigh\u001b[0m\u001b[0;34m,\u001b[0m \u001b[0msumaMax\u001b[0m\u001b[0;34m)\u001b[0m\u001b[0;34m\u001b[0m\u001b[0;34m\u001b[0m\u001b[0m\n",
            "\u001b[0;31mRecursionError\u001b[0m: maximum recursion depth exceeded in comparison"
          ]
        }
      ],
      "source": [
        "def subArrayMax(a,low,high,sumaMax = 0,verbose = False):\n",
        "\n",
        "  if(len(a) == high):\n",
        "\n",
        "    sumaMax = a[low]\n",
        "\n",
        "    return a,low,high,sumaMax\n",
        "\n",
        "  mitad = high // 2 \n",
        "\n",
        "  aLeft, lowLeft, highLeft, sumaMaxLeft = subArrayMax(a[mitad:], low, mitad, sumaMax)\n",
        "\n",
        "  aRigh, lowRigh, highRigh, sumaMaxRigh = subArrayMax(a[:mitad], mitad + 1, high, sumaMax)\n",
        "\n",
        "  amid, lowMid, highMid, sumaMax = subArrayMid(a, lowLeft, highRigh, sumaMaxLeft, sumaMaxRigh, verbose)\n",
        "\n",
        "  if(sumaMax == sumaMaxLeft): return aLeft, lowLeft, highLeft, sumaMaxLeft\n",
        "\n",
        "  elif(sumaMax == sumaMaxRigh): return aRigh, lowRigh, highRigh, sumaMaxRigh\n",
        "\n",
        "  return aMid, lowMid, highMid, sumaMax\n",
        "\n",
        "def subArrayMid(a, low, high, sumaMaxLeft, sumaMaxRigh, verbose):\n",
        "\n",
        "  mitad = high // 2 \n",
        "  sumaMidLeft = 0\n",
        "  sumaMidRigh = 0\n",
        "  sumaMaxMidLeft = -10000000000000000000000000\n",
        "  sumaMaxMidRigh = -10000000000000000000000000\n",
        "\n",
        "  for i in range(mitad, low):\n",
        "\n",
        "    sumaMidLeft += a[i]\n",
        "\n",
        "    if(sumaMax < sumaMidLeft):\n",
        "\n",
        "      sumaMaxMidLeft = sumaMidLeft\n",
        "      lowMid = i\n",
        "\n",
        "  for i in range(mitad +1, high):\n",
        "\n",
        "    sumaMidRigh += a[i]\n",
        "\n",
        "    if(sumaMaxMidRigh < sumaMidRigh):\n",
        "\n",
        "      sumaMaxMidRigh = sumaMidRigh\n",
        "      highMid = i\n",
        "  \n",
        "  sumaMaxMid = sumaMaxMidRigh + sumaMaxMidLeft\n",
        "\n",
        "  if(sumaMaxMid < sumaMaxLeft): return a, low, high, sumaMaxLeft\n",
        "\n",
        "  elif(sumaMaxMid < sumaMaxRigh): return a, low, high, sumaMaxRigh\n",
        "\n",
        "  return a, lowMid, highMid, sumaMax\n",
        "\n",
        "\n",
        "a = [1,2,3,-2]\n",
        "low = 0\n",
        "high = len(a)\n",
        "\n",
        "a, low, high, sumaMax = subArrayMax(a,low,high)\n",
        "\n",
        "print(a[low:high])\n",
        "\n",
        "print(sumaMax)\n"
      ]
    }
  ]
}