{
  "nbformat": 4,
  "nbformat_minor": 0,
  "metadata": {
    "colab": {
      "name": "SubArrayMax",
      "provenance": [],
      "include_colab_link": true
    },
    "kernelspec": {
      "name": "python3",
      "display_name": "Python 3"
    },
    "language_info": {
      "name": "python"
    }
  },
  "cells": [
    {
      "cell_type": "markdown",
      "metadata": {
        "id": "view-in-github",
        "colab_type": "text"
      },
      "source": [
        "<a href=\"https://colab.research.google.com/github/CharlyAguirre/ADA-informes/blob/main/SubArrayMax.ipynb\" target=\"_parent\"><img src=\"https://colab.research.google.com/assets/colab-badge.svg\" alt=\"Open In Colab\"/></a>"
      ]
    },
    {
      "cell_type": "markdown",
      "source": [
        "# 1. Problema.\n",
        "\n",
        "**Entrada:** El algoritmo recibe un arreglo en cual contiene dato de una secuencia de sucesos(estos no están necesaria mente ordenados de menor a mayor), también recibe el índice mayor del arreglo y el índice menor del arreglo.\n",
        "\n",
        "**[x1, x2, x3, ... ,xn]**\n",
        "\n",
        "\n",
        "**Salida:** El arreglo entrega el índice menor y el índice mayor de un sub-arreglo perteneciente al arreglo que se le fue entregado en la entrada, también entrega la suma de los datos de este sub-arreglo.\n",
        "\n",
        "**[x1 + x2 + x3 + ... + xn] = sumaMaxima**\n",
        "\n",
        "**índice menor = posición x1** \n",
        "\n",
        "**índice mayor = posición xn**\n",
        "\n",
        "\n"
      ],
      "metadata": {
        "id": "TzhUIUH9Bq_m"
      }
    },
    {
      "cell_type": "markdown",
      "source": [
        "![SubArrayMax.png](data:image/png;base64,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)"
      ],
      "metadata": {
        "id": "uCXEKoZOYzOg"
      }
    },
    {
      "cell_type": "markdown",
      "source": [
        "El problema del sub-arreglo máximo fue propuesto por Ulf Grenander en 1977, este fue propuesto como una manera simplificada a la estimación de máxima verosimilitud. Este problema consiste en encontrar un sub-arreglo en el cual al sumar los datos que se encuentran dentro de él es la suma máxima que se puede encontrar en una cadena de datos que está dentro de un arreglo que se te es entregado. Una de las aplicaciones que tiene este algoritmo es en la visión por computadora en el que mediante de un mapa de bits se busca encontrar el área más brillante de una imagen."
      ],
      "metadata": {
        "id": "3HwjTqh8Y2od"
      }
    },
    {
      "cell_type": "markdown",
      "source": [
        "# 2. SubArrayMax.\n",
        "\n",
        "Este algoritmo tiene varias formas de ser implementado, las cuales son: \n",
        "\n",
        "1.   Por fuerza bruta.\n",
        "2.   Programación dinámica.\n",
        "3.   Reducción a las rutas más cortas.\n",
        "4.   **Divide y vencerás.**\n",
        "\n",
        "Esta última será la estudiada e explicada en este informe.\n",
        "\n",
        "El método de divide y vencerás consiste en ir dividiendo el problema que se le es entregado en varios sub-problemas de este más pequeños y así sea más fácil a la hora de empezar a resolver estos problemas, llegados a este punto empezar a combinar las soluciones de estos problemas hasta combinar todas las soluciones obtenidas.\n"
      ],
      "metadata": {
        "id": "nM_Q9IReE95G"
      }
    },
    {
      "cell_type": "markdown",
      "source": [
        "## 2.1 Descripción del SubArrayMax. \n",
        "\n",
        "Como fue explicado en el punto anterior usaremos la forma de implementación de divide y vencerás por lo que el algoritmo será implementado de manera recursiva, con la recursión nos referimos a que el algoritmo se ira llamando a sí mismo una y otra vez hasta que se llegue a un arreglo de largo 1.\n",
        "\n",
        "Una vez teniendo ya el problema dividido empezaremos a combinar las soluciones encontradas, para esto primero combinaremos los dos sub-arreglos nos entrega la recursión del algoritmo, la combinación se hace a partir de otra función la cual llamaremos subArrayMid, esta función buscara el  sub-arreglo mayor que pase por el medio, la cual consiste en pararse en el medio de arreglo he ir sumado primero hacia la izquierda los datos del arreglo, cada vez que se sume un nuevo dato se compara con la suma anterior y se es mayor se guarda, esto se realiza hasta llegar al low del arreglo, después se repite lo mismo pero desde el medio hacia la derecha. Una vez obtenidos estos dos sub-arreglos se combinan para tener el sub-arreglo que pasa por el medio.\n",
        "\n",
        "Ya para finalizar se comparan las sumas obtenidas, la del sub-arreglo de la izquierda, la del sub-arreglo de la derecha y la suma del sub-arreglo que pasa por el medio, la mayor de estas 3 sumas es la que es retornada junto con los datos correspondientes a cada sub-arreglo.\n"
      ],
      "metadata": {
        "id": "XE7r8yGnHXD7"
      }
    },
    {
      "cell_type": "markdown",
      "source": [
        "## 2.2 Ejemplo paso a paso subArrayMax.\n",
        "\n",
        "Para ver un poco mejor lo explicado en el punto anterior haremos una simulación paso a paso lo que tendría que hacer un algoritmo para encontrar el SubArrayMax que es implementado con el método de divide y vencerás.\n",
        "\n",
        "Para el ejemplo usaremos el arreglo: [-3, 4, 1, -2, -3, 7, -5]\n",
        "\n",
        "Siguiendo los pasos descritos con anterioridad dividimos el arreglo en 2 hasta llegar a arreglos de largo 1.\n",
        "\n",
        "[-3, 4, 1, -2, -3, 7, -5]\n",
        "\n",
        "\n",
        "Primera división: **[-3, 4, 1, -2] -- [-3, 7, -5]**\n",
        "\n",
        "Segunda división: **[-3, 4] -- [1, -2] -- [-3, 7] -- [-5]**\n",
        "\n",
        "Tercera división: **[-3] -- [4] -- [1] -- [-2] -- [-3] -- [7]**\n",
        "\n",
        "Ya teniendo el arreglo dividido en sub-arreglos de largo 1 seguimos con las combinaciones y comparaciones, lo haremos de izquierda a derecha.\n",
        "\n",
        "Tenemos [-3] con **low,high = 0 y sumaMax = -3**  y lo comparamos [4] con **low,high = 1 y sumaMax = 4**. \n",
        "\n",
        "Ahora toca combinar los dos sub-arreglos y obtener el sub-arreglo mayor que pasa por el medio, pero al ser de largo 2 tenemos [-3,4] con **low = 0 y high = 1 y sumaMax = 1**.\n",
        "\n",
        "Comparamos las sumaMax de cada sub-arreglo **-3 < 1 < 4** la función devuelve el sub-arreglo 4 junto con sus datos.\n",
        "\n",
        "Tenemos [1] con **low,high = 2 y sumaMax = 1**  y lo comparamos [-2] con **low,high = 3 y sumaMax = -2**.\n",
        "\n",
        "Ahora toca combinar los dos sub-arreglos y obtener el sub-arreglo mayor que pasa por el medio, pero al ser de largo 2 tenemos [1,-2] con **low = 2 y high = 3 y sumaMax = -1**.\n",
        "\n",
        "Comparamos las sumaMax de cada sub-arreglo -2 < -1 < 1 la función devuelve el sub-arreglo 1 junto con sus datos.\n",
        "\n",
        "Tenemos [-3] con **low,high = 4 y sumaMax = -3**  y lo comparamos [7] con **low,high = 5 y sumaMax = 7**.\n",
        "\n",
        "Ahora toca combinar los dos sub-arreglos y obtener el sub-arreglo mayor que pasa por el medio, pero al ser de largo 2 tenemos [-3,7] con **low = 4 y high = 5 y sumaMax = 4**\n",
        "\n",
        "Comparamos las sumaMax de cada sub-arreglo **-3 < 4 < 7** la función devuelve el sub-arreglo 7 junto con sus datos\n",
        "\n",
        "Con esto terminamos la tercera división.\n",
        "\n",
        "Ahora pasamos a la segunda división por lo que tenemos que comparar la combinación de [-3, 4] y [1,-2], sabiendo ya el sub-arreglo mayor de cada uno de ellos.\n",
        "\n",
        "Al combinar los dos sub-arreglo anteriores queda [-3, 4, 1, -2], ahora nos paramos en el medio y buscamos el sub-arreglo mayor derecho y el izquierdo de este sub-arreglo el sub-arreglo de la izquierda es [4] y el sub-arreglo de la derecha es [1] y estos dos sub-arreglos los combinamos [4,1] con **low = 1 y high = 2, con sumaMax = 5**.\n",
        "\n",
        "Ahora esta sumaMax la comparamos con las devueltas del paso anterior que eran sumaMax = 4, sumaMax = 1 y lo comparamos con el nuevo sub-arreglo que obtuvimos antes con sumaMax = 5. Como 1 < 4 < 5 se devuelven los datos del sub-arreglo [4,1].\n",
        "\n",
        "Seguimos con los demás sub-arreglos, ahora tenemos [-3,7] y [-5]. Al combinarlos tenemos [-3, 7, -5] y el sub-arreglo que pasa por el medio es [7,-5] con **low = 5, high = 6 y sumaMax = 2**.\n",
        "\n",
        "Pasamos al momento de la comparación de las sumaMax, las cuales son 7, -5 y 2. Como **-5 < 2 < 7** devolvemos el sub-arreglo [7] junto con sus datos.\n",
        "\n",
        "Con esto terminamos la segunda división.\n",
        "\n",
        "Ahora en la primera división tenemos los sub-arreglos [-3, 4, 1, -2] , [-3, 7, -5], de cada uno de estos sub-arreglos tiene su sub-arregloMax y sus datos. Tenemos que combinarlos estos dos sub-arreglos y nos queda [-3, 4, 1, -2, -3, 7, -5] nos paramos en el medio para el sub-arreglo izquierdo parte del -2 y llega al -3, vamos sumando sucesivamente **-2 + 1 = -1 + 4 = 3** + (-3) = 0 si observas la suma -2 + 1 + 4 es más grande que la suma de todos los números por lo que el sub-arregloMax izquierdo es [4, 1, -2]. \n",
        "\n",
        "Ahora vamos al sub-arreglo derecho parte del -3 y llega al -5. Empezamos **-3 + 7 = 4** + (-5) = -1. El sub-arregloMax derecho es [-3, 7].\n",
        "\n",
        "Ya con estos sub-arreglosMax los combinamos y queda [4, 1, -2, -3, 7], con **low = 1, high = 5 y sumaMax = 7**. Los datos que teníamos con anterioridad que eran el sub-arreglo [4,1] con **low = 1, high = 2 y sumaMax = 5**, el sub-arreglo [7] con **low, high = 5 y sumaMax = 7**.\n",
        "\n",
        "Al comparar las sumasMax quedaría **5 < 7 =< 7** por lo que se podría devolver el sub-arreglo [4, 1, -2, -3, 7] con sus datos o el sub-arreglo [7] con sus datos, ya que sus sumaMax son iguales.\n"
      ],
      "metadata": {
        "id": "bg56VzBGuXtM"
      }
    },
    {
      "cell_type": "markdown",
      "source": [
        "## 2.3 Codigo subArrayMax."
      ],
      "metadata": {
        "id": "V3HRtZinugad"
      }
    },
    {
      "cell_type": "code",
      "execution_count": 201,
      "metadata": {
        "id": "bV9VWTVo14Q4",
        "colab": {
          "base_uri": "https://localhost:8080/"
        },
        "outputId": "06609994-8180-4e37-f188-9946fd727bca"
      },
      "outputs": [
        {
          "output_type": "stream",
          "name": "stdout",
          "text": [
            "Del arreglo  [-2, -1, -3, 5, -7]\n",
            "La suma maxima es 5 su low es 3 y high es 3\n"
          ]
        }
      ],
      "source": [
        "\n",
        "def maxSubArrayMax(a, low, high, verbose = False):\n",
        " \n",
        "\n",
        "    # Condicon para detener la recursion\n",
        "    if (low == high):\n",
        "\n",
        "        return a, a[low], low, high\n",
        " \n",
        "    #Divicion del arreglo en 2\n",
        "    mid = (low + high) // 2\n",
        "\n",
        "    #Recursiones de la fucion maxSubArrayMax pero con la mitad del arreglo\n",
        "    a , sumaMaxLeft, lowLeft, highLeft = maxSubArrayMax(a, low, mid)\n",
        "\n",
        "    a , sumaMaxRigh, lowRigh, highRigh = maxSubArrayMax(a, mid+1, high)\n",
        "\n",
        "    sumaMax, lowMid, highMid = subArrayMid(a, low, mid, high, verbose)\n",
        "\n",
        "    if(verbose == True):\n",
        "\n",
        "      print(\"Comparo las siguientes sumas maximas\", sumaMaxLeft, sumaMaxRigh, sumaMax)\n",
        "\n",
        "\n",
        "    # Condiciones de control para retornar la suma maxima junto con su low y su high\n",
        "    if(sumaMax < sumaMaxLeft and sumaMaxRigh < sumaMaxLeft): \n",
        "      \n",
        "      if(verbose == True):\n",
        "\n",
        "        print(\"La suma maxima es \", sumaMaxLeft, \"del sub-arreglo\", end=\" \")\n",
        "\n",
        "        for i in range(low,high+1):\n",
        "\n",
        "          print(a[i], end= \",\")\n",
        "      \n",
        "        print(\" \")\n",
        "    \n",
        "    elif(sumaMax < sumaMaxRigh and sumaMaxLeft < sumaMaxRigh):\n",
        "      \n",
        "      if(verbose == True):\n",
        "\n",
        "        print(\"La suma maxima es \", sumaMaxRigh, \"del sub-arreglo\", end=\" \")\n",
        "\n",
        "        for i in range(low,high+1):\n",
        "\n",
        "          print(a[i], end= \",\")\n",
        "      \n",
        "        print(\" \")\n",
        "      \n",
        "    if(verbose == True):\n",
        "\n",
        "      print(\"La suma maxima es \", sumaMax, \"del sub-arreglo\", end=\" \")\n",
        "\n",
        "      for i in range(low,high+1):\n",
        "\n",
        "        print(a[i], end= \",\")\n",
        "      \n",
        "      print(\" \")\n",
        "\n",
        "    return a, lowMid, highMid, sumaMax\n",
        "\n",
        "def subArrayMid(a, low, mid, high, verbose):\n",
        " \n",
        "    sumaMax = 0\n",
        "\n",
        "    #Numeros arbitrarios para que en la primera pasada se cumpla un condicion de control\n",
        "    sumaMaxMidLeft  = -10000\n",
        "    sumaMaxMidRigh  = -10000\n",
        " \n",
        "    for i in range(mid, low-1, -1):\n",
        "      \n",
        "      sumaMax +=  a[i]\n",
        "\n",
        "      #Ciclo repetitivo para recorrer el sub-arreglo del medio hacia la izquierda\n",
        "      if(verbose == True):\n",
        "\n",
        "        print(sumaMax, \">\" ,sumaMaxMidLeft)\n",
        "\n",
        "      \n",
        "      #Condicion de control para actualizar la sumaMaxima del medio hacia la izquierda\n",
        "      if (sumaMax > sumaMaxMidLeft):\n",
        "\n",
        "          sumaMaxMidLeft  = sumaMax\n",
        "          lowLeft = i\n",
        "\n",
        "          if(verbose == True):\n",
        "\n",
        "            print(\"Se actualiza sumaMaxMidLeft y low\")\n",
        "            print(\"sumaMaxMidLeft =\", sumaMaxMidLeft)\n",
        "            print(\"low =\", lowLeft)\n",
        "\n",
        "      elif(verbose == True):\n",
        "\n",
        "        print(\"No se actualiza\")\n",
        "\n",
        " \n",
        "    sumaMax = 0\n",
        "    \n",
        "    #Ciclo repetitivo para recorrer el sub-arreglo del medio hacia la derecha\n",
        "    for i in range(mid + 1, high + 1):\n",
        "      \n",
        "      sumaMax += a[i]\n",
        "\n",
        "      if(verbose == True):\n",
        "        \n",
        "        print(sumaMax, \">\" ,sumaMaxMidRigh)\n",
        "\n",
        "      #Condicion de control para actualizar la sumaMaxima del medio hacia la derecha\n",
        "      if (sumaMax > sumaMaxMidRigh ):\n",
        "\n",
        "          sumaMaxMidRigh = sumaMax\n",
        "          highRigh = i\n",
        "\n",
        "          if(verbose == True):\n",
        "\n",
        "            print(\"Se actualiza sumaMaxMidRigh y high\")\n",
        "            print(\"sumaMaxMidRigh =\", sumaMaxMidRigh)\n",
        "            print(\"high =\", highRigh)\n",
        "\n",
        "      elif(verbose == True):\n",
        "\n",
        "          print(\"No se actualiza\")\n",
        "\n",
        "    #Suma maxima al combinar los dos sub-arreglos y optener el sub-arreglo que pasa por el medio\n",
        "    sumaMaxima = sumaMaxMidLeft  + sumaMaxMidRigh\n",
        "\n",
        "    if(verbose == True):\n",
        "\n",
        "      print(\"La suma maxima es\", sumaMaxima, \"del sub-arreglo\", end=\" \")\n",
        "\n",
        "      for i in range(low,high+1):\n",
        "\n",
        "        print(a[i], end= \",\")\n",
        "      \n",
        "      print(\" \")\n",
        "\n",
        "\n",
        "    #Condiciones de control para devolver la suma maxima de entre las 3 que entregan los procesos anteriores\n",
        "    if(sumaMaxima < sumaMaxMidLeft and sumaMaxMidRigh < sumaMaxMidLeft): return sumaMaxMidLeft, lowLeft, mid\n",
        "\n",
        "    elif(sumaMaxima < sumaMaxMidRigh and sumaMaxMidLeft < sumaMaxMidRigh): return sumaMaxMidRigh, mid + 1, highRigh\n",
        "\n",
        "    return sumaMaxima , lowLeft, highRigh\n",
        " \n",
        "# Arreglo de entrada \n",
        "a = [-2, -1, -3, 5, -7]\n",
        "largo = len(a)\n",
        " \n",
        "arr, l, h, sumaMax = maxSubArrayMax(a, 0, largo-1)\n",
        "\n",
        "print(\"Del arreglo \",a)\n",
        "\n",
        "print(\"La suma maxima es\", sumaMax, \"su low es\", l ,\"y high es\", h)\n"
      ]
    },
    {
      "cell_type": "markdown",
      "source": [
        "## 2.4 Ejecución paso a paso del subArrayMax (verbose = True)\n",
        "\n",
        "Con la variable verbose = true podemos observar paso a paso como es que se desarrolla el algoritmo.\n"
      ],
      "metadata": {
        "id": "GJCsTEz3Pvvj"
      }
    },
    {
      "cell_type": "code",
      "source": [
        "import random\n",
        "arreglo = random.sample(range(-100, 100), 6)\n",
        "\n",
        "print(\"Arreglo de entrada : \", arreglo)\n",
        "\n",
        "largo = len(arreglo)\n",
        "\n",
        "arreglo, l, h, sumaMax = maxSubArrayMax(arreglo, 0, largo-1, verbose=True)\n",
        "\n",
        "print(\"La suma maxima es\", sumaMax, \"su low es\", l ,\"y high es\", h)\n"
      ],
      "metadata": {
        "colab": {
          "base_uri": "https://localhost:8080/"
        },
        "id": "PBx_Bp_WQCnG",
        "outputId": "f176e881-85dc-458e-80e1-d6173b273cb8"
      },
      "execution_count": 204,
      "outputs": [
        {
          "output_type": "stream",
          "name": "stdout",
          "text": [
            "Arreglo de entrada :  [-10, 60, -64, 72, 49, 41]\n",
            "-64 > -10000\n",
            "Se actualiza sumaMaxMidLeft y low\n",
            "sumaMaxMidLeft = -64\n",
            "low = 2\n",
            "-4 > -64\n",
            "Se actualiza sumaMaxMidLeft y low\n",
            "sumaMaxMidLeft = -4\n",
            "low = 1\n",
            "-14 > -4\n",
            "No se actualiza\n",
            "72 > -10000\n",
            "Se actualiza sumaMaxMidRigh y high\n",
            "sumaMaxMidRigh = 72\n",
            "high = 3\n",
            "121 > 72\n",
            "Se actualiza sumaMaxMidRigh y high\n",
            "sumaMaxMidRigh = 121\n",
            "high = 4\n",
            "162 > 121\n",
            "Se actualiza sumaMaxMidRigh y high\n",
            "sumaMaxMidRigh = 162\n",
            "high = 5\n",
            "La suma maxima es 158 del sub-arreglo -10,60,-64,72,49,41, \n",
            "Comparo las siguientes sumas maximas 1 3 162\n",
            "La suma maxima es  162 del sub-arreglo -10,60,-64,72,49,41, \n",
            "La suma maxima es 162 su low es 3 y high es 5\n"
          ]
        }
      ]
    },
    {
      "cell_type": "markdown",
      "source": [
        "# 3. Tiempo de ejecución \n",
        "\n",
        "## 3.1 Teorema para el tiempo de ejecución\n",
        "\n",
        "El tiempo de ejecución de manera teórica tiene el algoritmo para encontrar el SubArrayMax en notación O es de **O(n log n)** para todos sus casos.\n",
        "\n",
        "## 3.2 comprobación del teorema\n",
        "\n",
        "Primero armamos la función de recurrencia **T(n) = 2T(n/2) + O(n)**, pero te puedes preguntar Como llegamos a esta?\n",
        "\n",
        "Primero **2T(n/2)** la **T** significa que el algoritmo es llamado recursivamente, el **2** a la izquierda de la T representa la cantidad de hijos o en este caso sub-arreglos que deja cara recursión del arreglo, la expresión **(n/2)** es el sub-arreglo entregado a la recursión de la función y por último la **O(n)** que también lo podemos representar como **cn** como se ven en la imagen, esta notación representa el coste de tiempo en la división y combinación de los niveles.\n",
        "\n",
        "En la siguiente imagen podemos ver una representación más grafica de la función de recurrencia.\n"
      ],
      "metadata": {
        "id": "H76pJGEfuwv9"
      }
    },
    {
      "cell_type": "markdown",
      "source": [
        "![altura subarryamax.png](data:image/png;base64,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)"
      ],
      "metadata": {
        "id": "et5302N0MCxl"
      }
    },
    {
      "cell_type": "markdown",
      "source": [
        "Si observamos nuestra función **T(n) = 2T(n/2) + O(n)** podemos observar que una opción para comprobar nuestro teorema seria aplicar el teorema maestro, este teorema propone que mediante una fórmula que sea **T(n) ≤ aT(n/b) + O(n^d)** existen 3 casos para el cálculo de recurrencia. \n",
        "\n",
        "\n",
        "1.   Si a = b^d --> en notación O será O(n^d log n)\n",
        "2.   Si a < b^d --> en notación O será O(n^d)\n",
        "3.   Si a > b^d --> en notación O será O(n^log base b a)\n",
        "\n",
        "Para aplicar este teorema vemos que nuestra **a = 2, b = 2 y d = 1** por lo que estamos en el primer caso por lo siguiente **2 = 2^1** lo cual es correcto por lo que nuestro tiempo de ejecución en notación O seria O(n log n).\n",
        " \n",
        "\n",
        "Gracias a lo optenido por el teorema maestro podemos concluir que nuestro teorema en el tiempo de ejecucion era correcto.\n",
        "\n"
      ],
      "metadata": {
        "id": "Uxnozt-7MGjz"
      }
    },
    {
      "cell_type": "markdown",
      "source": [
        "# 4. Correctitud\n",
        "\n",
        "Para este algoritmo realizaremos dos teoremas de correctitud, uno para la función recursiva y otro para función que busca el sub-arregloMax que pasa por el medio.\n",
        "\n",
        "## 4.1 Teorema 1 de correctitud para la función subArrayMid\n",
        "\n",
        "El algoritmo subArrayMid recibe 2 sub-arreglos los combina, encuentra el sub-arreglo máximos que esta del medio a la izquierda, hace lo mismo, pero del medio a la derecha, encuentra estos dos sub-arreglos y los combina para tener un sub-arreglo que pasa por el medio y maximiza la suma de sus datos.\n",
        "\n",
        "## 4.2 Comprobación del teorema 1\n",
        "\n",
        "Primero para comprobar el teorema anterior usaremos la **propiedad invariante de bucle** \"*Al comienzo de la cada iteración el sub-arreglo máximo que se encuentra del medio a i tiene menor largo que el sub-arreglo de largo mitad*\" esto también aplica para el bucle que se realiza de la mitad hacia la derecha\n",
        "\n",
        "**Inicialización:** \n",
        "\n",
        "Al comienzo de la primera iteración el sub-arreglo máximo no ha sido inicializado por lo es correcto decir que su largo es menor que el sub-arreglo que se está recorriendo.\n",
        "\n",
        "**Mantención:**\n",
        "\n",
        "Al comienzo de la segunda iteración el sub-arreglo máximo ya está inicializado y tiene largo 1 por lo que es correcto decir que es menor que el sub-arreglo mitad ya que si empiezo una nueva iteración mitad > 1, también es correcto decir que al comienzo de cada iteración el sub-arreglo máximo tiene menor largo que el sub-arreglo mitad porque en la única instancia que se puede actualizar el sub-arreglo máximo es al final del bucle y si comenzara un nuevo bucle i seria mayor que mitad.\n",
        "\n",
        "Como conclusión, como la propiedad invariante del bucle es verdadera al inicio y también se mantiene en cada iteración, es correcto el teorema propuesto al principio.\n",
        "\n",
        "\n",
        "## 4.3 Teorema 2 de correctitud para la función subArrayMax\n",
        "\n",
        "El teorema para la función recursiva subArrayMax es \"*la función recibe un arreglo a[x1, x2, x3, ... , xn] y retorna un sub-arreglo del arreglo de entrada tal que la suma de sus elementos es la mayor suma posible*\"\n",
        "\n",
        "## 4.4 comprobación del teorema 2\n",
        "\n",
        "**Caso base:** el caso base para esta función es cuando el largo del arreglo es 1 por lo que al contener solo un elemento este es el sub-arreglo con la mayor suma de sus elemento.\n",
        "\n",
        "**Caso general(n > 1):** Se asume que subArrayMax es correcto para los problemas de tamaño m < n. Cuando El arreglo de entrada es de tamaño n > 1 el algoritmo divide el arreglo en 2 sub-arreglos, estos sub-arreglos son procesados por la misma función subArrayMax. Como se menciona al principio de este párrafo esta función es correcta para problemas de tamaño menores a n y al entregarles sub-arreglos de tamaño n/2 son menores a n, sus llamadas recursivas son correctas. Ahora tenemos B, C con sus sub-arreglos máximo, B y C son entregados a subArrayMid para que los combine (es decir el arreglo A) y encuentre el sub-arreglo máximo que pasa por la mitad, sabemos que esta función es correcta por el teorema 1.\n",
        "\n",
        "Finalmente, subArrayMax compara las sumas máximas de los 3 sub-arreglos máximos que le fueron entregados y retorna el sub-arreglo máximo que tiene la mayor suma.\n"
      ],
      "metadata": {
        "id": "nIsX4wIZQVDP"
      }
    },
    {
      "cell_type": "markdown",
      "source": [
        "# 5. Experimentos\n",
        "\n",
        "En el siguiente experimento veremos la comparación del tiempo de ejecución de dos formas de implementación para encontrar el sub-arreglo máximo."
      ],
      "metadata": {
        "id": "VbsSVJ-TZJvI"
      }
    },
    {
      "cell_type": "code",
      "source": [
        "from sys import maxsize\n",
        "  \n",
        "# Function to find the maximum contiguous subarray\n",
        "# and print its starting and end index\n",
        "def maxSubArraySumKadane(a,size):\n",
        "  \n",
        "    max_so_far = -maxsize - 1\n",
        "    max_ending_here = 0\n",
        "    start = 0\n",
        "    end = 0\n",
        "    s = 0\n",
        "  \n",
        "    for i in range(0,size):\n",
        "  \n",
        "        max_ending_here += a[i]\n",
        "  \n",
        "        if max_so_far < max_ending_here:\n",
        "            max_so_far = max_ending_here\n",
        "            start = s\n",
        "            end = i\n",
        "  \n",
        "        if max_ending_here < 0:\n",
        "            max_ending_here = 0\n",
        "            s = i+1\n",
        "  \n",
        "    print (\"Maximum contiguous sum is %d\"%(max_so_far))\n",
        "    print (\"Starting Index %d\"%(start))\n",
        "    print (\"Ending Index %d\"%(end))\n",
        "  \n",
        "# Driver program to test maxSubArraySum\n",
        "a = [-1,2,3,-2]\n",
        "maxSubArraySumKadane(a,len(a))"
      ],
      "metadata": {
        "colab": {
          "base_uri": "https://localhost:8080/"
        },
        "id": "fXIKxZKCZcpC",
        "outputId": "9ac26ba9-12f4-4f8d-cef5-3ffb1758a3e5"
      },
      "execution_count": 192,
      "outputs": [
        {
          "output_type": "stream",
          "name": "stdout",
          "text": [
            "Maximum contiguous sum is 5\n",
            "Starting Index 1\n",
            "Ending Index 2\n"
          ]
        }
      ]
    },
    {
      "cell_type": "code",
      "source": [
        "from numpy.core.fromnumeric import size\n",
        "import matplotlib.pyplot as plt\n",
        "import datetime\n",
        "from timeit import repeat\n",
        "import random\n",
        "\n",
        "x=[]; y=[] ; y2=[]\n",
        "\n",
        "for n in range(5,500):\n",
        "\n",
        "  a = random.sample(range(1, 1000), n)\n",
        "\n",
        "  largo = len(a)\n",
        "\n",
        "  #la función repeat está ejecutando 20 veces bubble_sort con el arreglo a y retorna el mejor tiempo obtenido.\n",
        "  t = repeat(setup=\"from __main__ import maxSubArraySumKadane\", stmt=f\"maxSubArraySumKadane({a, largo})\", repeat=1, number=10)\n",
        "\n",
        "  x.append(n)\n",
        "  y.append(t)\n",
        "\n",
        "  #t = repeat(setup=\"from __main__ import maxSubArraySuma\", stmt=f\"maxSubArraySuma({a})\", repeat=1, number=10)\n",
        "\n",
        "  #y2.append(t)\n",
        "\n",
        "\n",
        "plt.plot(x,y)\n",
        "#plt.plot(x,y2)\n",
        "\n",
        "plt.legend([\"maxSubArraySumKadane\"])\n",
        "\n",
        "plt.xlabel('n')\n",
        "plt.ylabel('time in ms')\n",
        "plt.show()"
      ],
      "metadata": {
        "colab": {
          "base_uri": "https://localhost:8080/",
          "height": 293
        },
        "id": "wzzxt2ZPZOOr",
        "outputId": "32b71f8c-6ecd-4dc0-c8dd-c8b0b430bb91"
      },
      "execution_count": 193,
      "outputs": [
        {
          "output_type": "error",
          "ename": "TypeError",
          "evalue": "ignored",
          "traceback": [
            "\u001b[0;31m---------------------------------------------------------------------------\u001b[0m",
            "\u001b[0;31mTypeError\u001b[0m                                 Traceback (most recent call last)",
            "\u001b[0;32m<ipython-input-193-9fb381a72a3b>\u001b[0m in \u001b[0;36m<module>\u001b[0;34m\u001b[0m\n\u001b[1;32m     14\u001b[0m \u001b[0;34m\u001b[0m\u001b[0m\n\u001b[1;32m     15\u001b[0m   \u001b[0;31m#la función repeat está ejecutando 20 veces bubble_sort con el arreglo a y retorna el mejor tiempo obtenido.\u001b[0m\u001b[0;34m\u001b[0m\u001b[0;34m\u001b[0m\u001b[0;34m\u001b[0m\u001b[0m\n\u001b[0;32m---> 16\u001b[0;31m   \u001b[0mt\u001b[0m \u001b[0;34m=\u001b[0m \u001b[0mrepeat\u001b[0m\u001b[0;34m(\u001b[0m\u001b[0msetup\u001b[0m\u001b[0;34m=\u001b[0m\u001b[0;34m\"from __main__ import maxSubArraySumKadane\"\u001b[0m\u001b[0;34m,\u001b[0m \u001b[0mstmt\u001b[0m\u001b[0;34m=\u001b[0m\u001b[0;34mf\"maxSubArraySumKadane({a, largo})\"\u001b[0m\u001b[0;34m,\u001b[0m \u001b[0mrepeat\u001b[0m\u001b[0;34m=\u001b[0m\u001b[0;36m1\u001b[0m\u001b[0;34m,\u001b[0m \u001b[0mnumber\u001b[0m\u001b[0;34m=\u001b[0m\u001b[0;36m10\u001b[0m\u001b[0;34m)\u001b[0m\u001b[0;34m\u001b[0m\u001b[0;34m\u001b[0m\u001b[0m\n\u001b[0m\u001b[1;32m     17\u001b[0m \u001b[0;34m\u001b[0m\u001b[0m\n\u001b[1;32m     18\u001b[0m   \u001b[0mx\u001b[0m\u001b[0;34m.\u001b[0m\u001b[0mappend\u001b[0m\u001b[0;34m(\u001b[0m\u001b[0mn\u001b[0m\u001b[0;34m)\u001b[0m\u001b[0;34m\u001b[0m\u001b[0;34m\u001b[0m\u001b[0m\n",
            "\u001b[0;32m/usr/lib/python3.7/timeit.py\u001b[0m in \u001b[0;36mrepeat\u001b[0;34m(stmt, setup, timer, repeat, number, globals)\u001b[0m\n\u001b[1;32m    236\u001b[0m            repeat=default_repeat, number=default_number, globals=None):\n\u001b[1;32m    237\u001b[0m     \u001b[0;34m\"\"\"Convenience function to create Timer object and call repeat method.\"\"\"\u001b[0m\u001b[0;34m\u001b[0m\u001b[0;34m\u001b[0m\u001b[0m\n\u001b[0;32m--> 238\u001b[0;31m     \u001b[0;32mreturn\u001b[0m \u001b[0mTimer\u001b[0m\u001b[0;34m(\u001b[0m\u001b[0mstmt\u001b[0m\u001b[0;34m,\u001b[0m \u001b[0msetup\u001b[0m\u001b[0;34m,\u001b[0m \u001b[0mtimer\u001b[0m\u001b[0;34m,\u001b[0m \u001b[0mglobals\u001b[0m\u001b[0;34m)\u001b[0m\u001b[0;34m.\u001b[0m\u001b[0mrepeat\u001b[0m\u001b[0;34m(\u001b[0m\u001b[0mrepeat\u001b[0m\u001b[0;34m,\u001b[0m \u001b[0mnumber\u001b[0m\u001b[0;34m)\u001b[0m\u001b[0;34m\u001b[0m\u001b[0;34m\u001b[0m\u001b[0m\n\u001b[0m\u001b[1;32m    239\u001b[0m \u001b[0;34m\u001b[0m\u001b[0m\n\u001b[1;32m    240\u001b[0m \u001b[0;32mdef\u001b[0m \u001b[0mmain\u001b[0m\u001b[0;34m(\u001b[0m\u001b[0margs\u001b[0m\u001b[0;34m=\u001b[0m\u001b[0;32mNone\u001b[0m\u001b[0;34m,\u001b[0m \u001b[0;34m*\u001b[0m\u001b[0;34m,\u001b[0m \u001b[0m_wrap_timer\u001b[0m\u001b[0;34m=\u001b[0m\u001b[0;32mNone\u001b[0m\u001b[0;34m)\u001b[0m\u001b[0;34m:\u001b[0m\u001b[0;34m\u001b[0m\u001b[0;34m\u001b[0m\u001b[0m\n",
            "\u001b[0;32m/usr/lib/python3.7/timeit.py\u001b[0m in \u001b[0;36mrepeat\u001b[0;34m(self, repeat, number)\u001b[0m\n\u001b[1;32m    203\u001b[0m         \u001b[0mr\u001b[0m \u001b[0;34m=\u001b[0m \u001b[0;34m[\u001b[0m\u001b[0;34m]\u001b[0m\u001b[0;34m\u001b[0m\u001b[0;34m\u001b[0m\u001b[0m\n\u001b[1;32m    204\u001b[0m         \u001b[0;32mfor\u001b[0m \u001b[0mi\u001b[0m \u001b[0;32min\u001b[0m \u001b[0mrange\u001b[0m\u001b[0;34m(\u001b[0m\u001b[0mrepeat\u001b[0m\u001b[0;34m)\u001b[0m\u001b[0;34m:\u001b[0m\u001b[0;34m\u001b[0m\u001b[0;34m\u001b[0m\u001b[0m\n\u001b[0;32m--> 205\u001b[0;31m             \u001b[0mt\u001b[0m \u001b[0;34m=\u001b[0m \u001b[0mself\u001b[0m\u001b[0;34m.\u001b[0m\u001b[0mtimeit\u001b[0m\u001b[0;34m(\u001b[0m\u001b[0mnumber\u001b[0m\u001b[0;34m)\u001b[0m\u001b[0;34m\u001b[0m\u001b[0;34m\u001b[0m\u001b[0m\n\u001b[0m\u001b[1;32m    206\u001b[0m             \u001b[0mr\u001b[0m\u001b[0;34m.\u001b[0m\u001b[0mappend\u001b[0m\u001b[0;34m(\u001b[0m\u001b[0mt\u001b[0m\u001b[0;34m)\u001b[0m\u001b[0;34m\u001b[0m\u001b[0;34m\u001b[0m\u001b[0m\n\u001b[1;32m    207\u001b[0m         \u001b[0;32mreturn\u001b[0m \u001b[0mr\u001b[0m\u001b[0;34m\u001b[0m\u001b[0;34m\u001b[0m\u001b[0m\n",
            "\u001b[0;32m/usr/lib/python3.7/timeit.py\u001b[0m in \u001b[0;36mtimeit\u001b[0;34m(self, number)\u001b[0m\n\u001b[1;32m    175\u001b[0m         \u001b[0mgc\u001b[0m\u001b[0;34m.\u001b[0m\u001b[0mdisable\u001b[0m\u001b[0;34m(\u001b[0m\u001b[0;34m)\u001b[0m\u001b[0;34m\u001b[0m\u001b[0;34m\u001b[0m\u001b[0m\n\u001b[1;32m    176\u001b[0m         \u001b[0;32mtry\u001b[0m\u001b[0;34m:\u001b[0m\u001b[0;34m\u001b[0m\u001b[0;34m\u001b[0m\u001b[0m\n\u001b[0;32m--> 177\u001b[0;31m             \u001b[0mtiming\u001b[0m \u001b[0;34m=\u001b[0m \u001b[0mself\u001b[0m\u001b[0;34m.\u001b[0m\u001b[0minner\u001b[0m\u001b[0;34m(\u001b[0m\u001b[0mit\u001b[0m\u001b[0;34m,\u001b[0m \u001b[0mself\u001b[0m\u001b[0;34m.\u001b[0m\u001b[0mtimer\u001b[0m\u001b[0;34m)\u001b[0m\u001b[0;34m\u001b[0m\u001b[0;34m\u001b[0m\u001b[0m\n\u001b[0m\u001b[1;32m    178\u001b[0m         \u001b[0;32mfinally\u001b[0m\u001b[0;34m:\u001b[0m\u001b[0;34m\u001b[0m\u001b[0;34m\u001b[0m\u001b[0m\n\u001b[1;32m    179\u001b[0m             \u001b[0;32mif\u001b[0m \u001b[0mgcold\u001b[0m\u001b[0;34m:\u001b[0m\u001b[0;34m\u001b[0m\u001b[0;34m\u001b[0m\u001b[0m\n",
            "\u001b[0;32m/usr/lib/python3.7/timeit.py\u001b[0m in \u001b[0;36minner\u001b[0;34m(_it, _timer)\u001b[0m\n",
            "\u001b[0;31mTypeError\u001b[0m: maxSubArraySumKadane() missing 1 required positional argument: 'size'"
          ]
        }
      ]
    }
  ]
}