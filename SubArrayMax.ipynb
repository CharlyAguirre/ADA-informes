{
  "nbformat": 4,
  "nbformat_minor": 0,
  "metadata": {
    "colab": {
      "name": "SubArrayMax",
      "provenance": [],
      "toc_visible": true,
      "authorship_tag": "ABX9TyPR0OCkdcjbWilIPcj2FcuU",
      "include_colab_link": true
    },
    "kernelspec": {
      "name": "python3",
      "display_name": "Python 3"
    },
    "language_info": {
      "name": "python"
    }
  },
  "cells": [
    {
      "cell_type": "markdown",
      "metadata": {
        "id": "view-in-github",
        "colab_type": "text"
      },
      "source": [
        "<a href=\"https://colab.research.google.com/github/CharlyAguirre/ADA-informes/blob/main/SubArrayMax.ipynb\" target=\"_parent\"><img src=\"https://colab.research.google.com/assets/colab-badge.svg\" alt=\"Open In Colab\"/></a>"
      ]
    },
    {
      "cell_type": "markdown",
      "source": [
        "# 1. Problema\n",
        "\n",
        "**Entrada:** El algoritmo recibe un arreglo en cual contiene dato de una secuencia de sucesos(estos no estan necesaria mente ordenados de menor a mayor), tambien recibe el indice mayor del arreglo y el indice menor del arreglo.\n",
        "\n",
        "**[x1, x2, x3, ... ,xn]**\n",
        "\n",
        "\n",
        "**Salida:** El arreglo entrega el indice menor y el indice mayor de un sub-arreglo perteneciente al arreglo que se le fue entregado en la entrada, tambien entrega la suma de los datos de este sub-arreglo.\n",
        "\n",
        "**[x1 + x2 + x3 + ... + xn] = sumaMaxima**\n",
        "\n",
        "**indice menor = posicion x1** \n",
        "\n",
        "**Indice mayor  = posicion xn**\n",
        "\n",
        "El problema del subarreglo maximo fue propuesto por Ulf Grenander en 1977, este fue propuesto como una manera simplificada a la estimacion de maxima verosimilidud. Este problema consiste en encontrar un sub-arreglo en el cual al sumar los datos que se encuentran dentro de el es la suma maxima que se puede encontrar en una cadena de datos que esta dentro de un arreglo que se te es entregado. Una de la aplicaciones que tiene este algoritmo es en la vision por computadora en el que mediante de un mapa de bits se busca encontrar el area mas brillante de una imagen.\n"
      ],
      "metadata": {
        "id": "TzhUIUH9Bq_m"
      }
    },
    {
      "cell_type": "markdown",
      "source": [
        "# 2. SubArrayMax\n",
        "\n",
        "Este algoritmo tiene varias formas de ser implementado, las cuales son: \n",
        "\n",
        "1.   Por fuerza bruta.\n",
        "2.   Programacion dinamica.\n",
        "3.   Reduccion a las rutas mas cortas.\n",
        "4.   Divide y venceras.\n",
        "\n",
        "Esta ultima sera la estudiadad e explicada en este informe.\n",
        "\n",
        "El metodo de divide y venceras consiste en ir dividiendo el promebla que se le es entregado en varios sub-problemas de este mas pequeños y asi sea mas facil a la hora de empezar a resolver estos problemas, llegados a este punto empezar a combinar las soluciones de estos problemas hasta combinar todas las soluciones obtenidas."
      ],
      "metadata": {
        "id": "nM_Q9IReE95G"
      }
    },
    {
      "cell_type": "markdown",
      "source": [
        "## 2.1 Descripcion del SubArrayMax \n",
        "\n",
        "Como fue explicado en el punto anterior usaremos la forma de implementacion de divide y venceras por lo que el algortimo sera implementado de manera recursiva,\n",
        "con al recursion nos referimos a que el algoritmo se ira llamando a si mismo una\n",
        "y otra vez hasta que se llege a un arreglo de largo 1.\n",
        "\n",
        "Una vez teniendo ya el problema dividido empezaremos a combinar las soluciones encontrada, pero con este algoritmo hay que tener cuidado al combinar todas las soluciones y decir que esta es la solucion al problema, ya que al combinar dos sub-arreglos puede ser que la suma de estos dos se menor que a la suma ya optenida de uno de ellos. Para esto debemo combinar los dos algorimos, obtener la suma de los datos de este arreglo y compararla con la suma de los dos sub-arreglos anteriores, la que sea mayor de estas 3 es la solucion a este problema, este proceso se realiza hasta llegar al primer nivel.\n",
        "\n",
        "Pero aqui no termina ya que esta solucion no toma en consideracion un sub-arreglo que pase por la mitad del arreglo que se le es entregado al algoritmo SubArrayMax por que tambien incluye una funcion para encontrar el sub-arreglo mayor que pase por el medio, la cual consiste en pararse en el medio de arreglo he ir sumado primero hacia la izquierda los datos del arreglo, cada vez que se sume un nuevo dato se compara con la suma anterior y se es mayor se guarda, esto se realiza hasta llegar al low del arreglo, despues se repite lo mismo pero desde el medio hacia la derecha. Una vez optenidos estos dos sub-arreglos se combinan para tener el sub-arreglo que pasa por el medi0.\n",
        "\n",
        "Ya para finalizar se comparan las dos sumas optenidas de los dos procesos y la que sea mayor es la solucion del problema."
      ],
      "metadata": {
        "id": "XE7r8yGnHXD7"
      }
    },
    {
      "cell_type": "code",
      "execution_count": null,
      "metadata": {
        "id": "bV9VWTVo14Q4"
      },
      "outputs": [],
      "source": [
        "def subArrayMax(a,low,high,sumaMax,verbose = false):\n",
        "\n",
        "  if(low == high):\n",
        "\n",
        "    sumaMax = a[low]\n",
        "\n",
        "    return a,low,high,sumaMax,verbose"
      ]
    }
  ]
}