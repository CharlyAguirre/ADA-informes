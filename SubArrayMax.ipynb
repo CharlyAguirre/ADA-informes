{
  "nbformat": 4,
  "nbformat_minor": 0,
  "metadata": {
    "colab": {
      "name": "SubArrayMax",
      "provenance": [],
      "toc_visible": true,
      "include_colab_link": true
    },
    "kernelspec": {
      "name": "python3",
      "display_name": "Python 3"
    },
    "language_info": {
      "name": "python"
    }
  },
  "cells": [
    {
      "cell_type": "markdown",
      "metadata": {
        "id": "view-in-github",
        "colab_type": "text"
      },
      "source": [
        "<a href=\"https://colab.research.google.com/github/CharlyAguirre/ADA-informes/blob/main/SubArrayMax.ipynb\" target=\"_parent\"><img src=\"https://colab.research.google.com/assets/colab-badge.svg\" alt=\"Open In Colab\"/></a>"
      ]
    },
    {
      "cell_type": "markdown",
      "source": [
        "# 1. Problema.\n",
        "\n",
        "**Entrada:** El algoritmo recibe un arreglo en cual contiene dato de una secuencia de sucesos(estos no estan necesaria mente ordenados de menor a mayor), tambien recibe el indice mayor del arreglo y el indice menor del arreglo.\n",
        "\n",
        "**[x1, x2, x3, ... ,xn]**\n",
        "\n",
        "\n",
        "**Salida:** El arreglo entrega el indice menor y el indice mayor de un sub-arreglo perteneciente al arreglo que se le fue entregado en la entrada, tambien entrega la suma de los datos de este sub-arreglo.\n",
        "\n",
        "**[x1 + x2 + x3 + ... + xn] = sumaMaxima**\n",
        "\n",
        "**indice menor = posicion x1** \n",
        "\n",
        "**Indice mayor  = posicion xn**\n",
        "\n"
      ],
      "metadata": {
        "id": "TzhUIUH9Bq_m"
      }
    },
    {
      "cell_type": "markdown",
      "source": [
        "![SubArrayMax.png](data:image/png;base64,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)"
      ],
      "metadata": {
        "id": "uCXEKoZOYzOg"
      }
    },
    {
      "cell_type": "markdown",
      "source": [
        "El problema del subarreglo maximo fue propuesto por Ulf Grenander en 1977, este fue propuesto como una manera simplificada a la estimacion de maxima verosimilidud. Este problema consiste en encontrar un sub-arreglo en el cual al sumar los datos que se encuentran dentro de el es la suma maxima que se puede encontrar en una cadena de datos que esta dentro de un arreglo que se te es entregado. Una de la aplicaciones que tiene este algoritmo es en la vision por computadora en el que mediante de un mapa de bits se busca encontrar el area mas brillante de una imagen."
      ],
      "metadata": {
        "id": "3HwjTqh8Y2od"
      }
    },
    {
      "cell_type": "markdown",
      "source": [
        "# 2. SubArrayMax.\n",
        "\n",
        "Este algoritmo tiene varias formas de ser implementado, las cuales son: \n",
        "\n",
        "1.   Por fuerza bruta.\n",
        "2.   Programacion dinamica.\n",
        "3.   Reduccion a las rutas mas cortas.\n",
        "4.   **Divide y venceras.**\n",
        "\n",
        "Esta ultima sera la estudiadad e explicada en este informe.\n",
        "\n",
        "El metodo de divide y venceras consiste en ir dividiendo el promebla que se le es entregado en varios sub-problemas de este mas pequeños y asi sea mas facil a la hora de empezar a resolver estos problemas, llegados a este punto empezar a combinar las soluciones de estos problemas hasta combinar todas las soluciones obtenidas."
      ],
      "metadata": {
        "id": "nM_Q9IReE95G"
      }
    },
    {
      "cell_type": "markdown",
      "source": [
        "## 2.1 Descripcion del SubArrayMax. \n",
        "\n",
        "Como fue explicado en el punto anterior usaremos la forma de implementacion de divide y venceras por lo que el algortimo sera implementado de manera recursiva, con al recursion nos referimos a que el algoritmo se ira llamando a si mismo una y otra vez hasta que se llege a un arreglo de largo 1.\n",
        "\n",
        "Una vez teniendo ya el problema dividido empezaremos a combinar las soluciones encontradas, para esto primero combinaremos los dos sub-arreglos nos entrega la recursion del algoritmo, la combinacion se hace a partir de otra funcion la cual llamaremos subArrayMid, esta funcion buscara el  sub-arreglo mayor que pase por el medio, la cual consiste en pararse en el medio de arreglo he ir sumado primero hacia la izquierda los datos del arreglo, cada vez que se sume un nuevo dato se compara con la suma anterior y se es mayor se guarda, esto se realiza hasta llegar al low del arreglo, despues se repite lo mismo pero desde el medio hacia la derecha. Una vez optenidos estos dos sub-arreglos se combinan para tener el sub-arreglo que pasa por el medio.\n",
        "\n",
        "Ya para finalizar se comparan las sumas optenidas, la del sub-arreglo de la izquierda, la del sub-arreglo de la derecha y la suma del sub-arreglo que pasa por el medio, la mayor de estas 3 sumas es la que es retornada junto con los datos correspondientes a cada sub-arreglo."
      ],
      "metadata": {
        "id": "XE7r8yGnHXD7"
      }
    },
    {
      "cell_type": "markdown",
      "source": [
        "## 2.2 Ejemplo paso a paso subArrayMax.\n",
        "\n",
        "Para ver un poco mejor lo explicado en el punto anterior haremos una simulacion paso a paso lo que tendria que hacer un algoritmos para encontrar el SubArrayMax que es implementado con el metodo de divide y venceras.\n",
        "\n",
        "Para el ejemplo usaremos el arreglo: [-3, 4, 1, -2, -3, 7, -5]\n",
        "\n",
        "Siguiendo los pasos descritos con anterioridad dividimos el arreglo en 2 hasta llegar a arreglos de largo 1.\n",
        "\n",
        "[-3, 4, 1, -2, -3, 7, -5]\n",
        "\n",
        "\n",
        "Primera divicion: **[-3, 4, 1, -2] -- [-3, 7, -5]**\n",
        "\n",
        "Segunda divicion: **[-3, 4] -- [1, -2] -- [-3, 7] -- [-5]**\n",
        "\n",
        "Tercera divicion: **[-3] -- [4] -- [1] -- [-2] -- [-3] -- [7]**\n",
        "\n",
        "Ya teniendo el arreglo dividido en sub-arreglos de largo 1 seguimos con las combinaciones y comparaciones, lo haremos de izquierda a derecha.\n",
        "\n",
        "Tenemos [-3] con **low,high = 0 y sumaMax = -3**  y lo comparamos [4] con **low,high = 1 y sumaMax = 4**. \n",
        "\n",
        "Ahora toca combinar los dos sub arreglos y obtener el sub arreglo mayor que pasa por el medio pero al ser de largo 2 tenemos [-3,4] con **low = 0 y high = 1 y sumaMax = 1**.\n",
        "\n",
        "Comparamos las sumaMax de cada sub-arreglo **-3 < 1 < 4** la funcion devuelve el sub-arreglo 4 junto con sus datos.\n",
        "\n",
        "Tenemos [1] con **low,high = 2 y sumaMax = 1**  y lo comparamos [-2] con **low,high = 3 y sumaMax = -2**.\n",
        "\n",
        "Ahora toca combinar los dos sub arreglos y obtener el sub arreglo mayor que pasa por el medio pero al ser de largo 2 tenemos [1,-2] con **low = 2 y high = 3 y sumaMax = -1**.\n",
        "\n",
        "Comparamos las sumaMax de cada sub-arreglo -2 < -1 < 1 la funcion devuelve el sub-arreglo 1 junto con sus datos.\n",
        "\n",
        "Tenemos [-3] con **low,high = 4 y sumaMax = -3**  y lo comparamos [7] con **low,high = 5 y sumaMax = 7**.\n",
        "\n",
        "Ahora toca combinar los dos sub arreglos y obtener el sub arreglo mayor que pasa por el medio pero al ser de largo 2 tenemos [-3,7] con **low = 4 y high = 5 y sumaMax = 4**\n",
        "\n",
        "Comparamos las sumaMax de cada sub-arreglo **-3 < 4 < 7** la funcion devuelve el sub-arreglo 7 junto con sus datos\n",
        "\n",
        "Con esto terminamos la tercera divicion.\n",
        "\n",
        "Ahora pasamos a la segunda divicion por lo que tenemos que comparar la combinacion de [-3, 4] y [1,-2], sabianedo ya el sub-arreglo mayor de cada uno de ellos.\n",
        "\n",
        "Al combinar los dos sub-arreglo anteriores queda [-3, 4, 1, -2], ahora nos paramos en el medio y buscamos el sub-arreglo mayor derecho y el izquierdo de este sub-arreglo el sub-arreglo de la izquierda es [4] y el sub-arreglo de la derecha es [1] y estos dos subarreglos los combinamos [4,1] con **low = 1 y high = 2, con sumaMax = 5**.\n",
        "\n",
        "Ahora esta sumaMax la comparamos con las devueltas del paso anterior que eran sumaMax = 4,  sumaMax = 1 y lo comparamos con el nuevo sub-arreglo que obtuvimos antes con sumaMax = 5. Como 1 < 4 < 5 se devuelven los datos del sub-arreglo [4,1].\n",
        "\n",
        "Seguimos con los demas sub-arreglos, ahora tenemos [-3,7] y [-5]. Al combinarlos tenemos [-3, 7, -5] y el sub-arreglo que pasa por el medio es [7,-5] con **low = 5, high = 6 y sumaMax = 2**.\n",
        "\n",
        "Pasamos al momento de la comparacion de las sumaMax, las cuales son 7, -5 y 2. Como **-5 < 2 < 7** devolvemos el sub-arreglo [7] junto con sus datos.\n",
        "\n",
        "Con esto terminamos la segunda divicion.\n",
        "\n",
        "Ahora en la primera divicion tenemos los sub-arreglos [-3, 4, 1, -2] , [-3, 7, -5], de cada uno de estos sub-arreglos tiene su sub-arregloMax y sus datos. Tenemos que combinarlos estos dos sub-arreglos y nos queda [-3, 4, 1, -2, -3, 7, -5] nos paramos en el medio para el sub-arreglo izquierdo parte del -2 y llega al -3, vamos sumando sucesibamente **-2 + 1 = -1 + 4 = 3** + (-3) = 0 si obserbas la suma -2 + 1 + 4 es mas grande que la suma de todos los numeros por lo que el sub-arregloMax izquierdo es [4, 1, -2]. \n",
        "\n",
        "Ahora vamos al sub-arreglo derecho parte del -3 y llega al -5. Empezamos **-3 + 7 = 4** + (-5) = -1. El sub-arregloMax derecho es  [-3, 7].\n",
        "\n",
        "Ya con estos sub-arreglosMax los combinamos y queda [4, 1, -2, -3, 7], con **low = 1, high = 5 y sumaMax = 7**. Los datos que teniamos con anteriodidad que eran el sub-arreglo [4,1] con **low = 1, high = 2 y sumaMax = 5**, el sub-arreglo [7] con **low, high = 5 y sumaMax = 7**.\n",
        "\n",
        "Al comparar las sumasMax quedaria **5 < 7 =< 7** por lo que se podria devolver el sub-arreglo [4, 1, -2, -3, 7] con sus datos o el sub-arreglo [7] con sus datos, ya que sus sumaMax son iguales.\n",
        "\n",
        "\n"
      ],
      "metadata": {
        "id": "bg56VzBGuXtM"
      }
    },
    {
      "cell_type": "markdown",
      "source": [
        "## 2.3 Codigo subArrayMax."
      ],
      "metadata": {
        "id": "V3HRtZinugad"
      }
    },
    {
      "cell_type": "code",
      "execution_count": 8,
      "metadata": {
        "id": "bV9VWTVo14Q4",
        "colab": {
          "base_uri": "https://localhost:8080/",
          "height": 415
        },
        "outputId": "dce624ee-3bcc-451d-b895-d62d32d993d5"
      },
      "outputs": [
        {
          "output_type": "error",
          "ename": "RecursionError",
          "evalue": "ignored",
          "traceback": [
            "\u001b[0;31m---------------------------------------------------------------------------\u001b[0m",
            "\u001b[0;31mRecursionError\u001b[0m                            Traceback (most recent call last)",
            "\u001b[0;32m<ipython-input-8-4ff4056464dc>\u001b[0m in \u001b[0;36m<module>\u001b[0;34m\u001b[0m\n\u001b[1;32m     60\u001b[0m \u001b[0mhigh\u001b[0m \u001b[0;34m=\u001b[0m \u001b[0mlen\u001b[0m\u001b[0;34m(\u001b[0m\u001b[0ma\u001b[0m\u001b[0;34m)\u001b[0m\u001b[0;34m\u001b[0m\u001b[0;34m\u001b[0m\u001b[0m\n\u001b[1;32m     61\u001b[0m \u001b[0;34m\u001b[0m\u001b[0m\n\u001b[0;32m---> 62\u001b[0;31m \u001b[0ma\u001b[0m\u001b[0;34m,\u001b[0m \u001b[0mlow\u001b[0m\u001b[0;34m,\u001b[0m \u001b[0mhigh\u001b[0m\u001b[0;34m,\u001b[0m \u001b[0msumaMax\u001b[0m \u001b[0;34m=\u001b[0m \u001b[0msubArrayMax\u001b[0m\u001b[0;34m(\u001b[0m\u001b[0ma\u001b[0m\u001b[0;34m,\u001b[0m\u001b[0mlow\u001b[0m\u001b[0;34m,\u001b[0m\u001b[0mhigh\u001b[0m\u001b[0;34m)\u001b[0m\u001b[0;34m\u001b[0m\u001b[0;34m\u001b[0m\u001b[0m\n\u001b[0m\u001b[1;32m     63\u001b[0m \u001b[0;34m\u001b[0m\u001b[0m\n\u001b[1;32m     64\u001b[0m \u001b[0mprint\u001b[0m\u001b[0;34m(\u001b[0m\u001b[0ma\u001b[0m\u001b[0;34m[\u001b[0m\u001b[0mlow\u001b[0m\u001b[0;34m:\u001b[0m\u001b[0mhigh\u001b[0m\u001b[0;34m]\u001b[0m\u001b[0;34m)\u001b[0m\u001b[0;34m\u001b[0m\u001b[0;34m\u001b[0m\u001b[0m\n",
            "\u001b[0;32m<ipython-input-8-4ff4056464dc>\u001b[0m in \u001b[0;36msubArrayMax\u001b[0;34m(a, low, high, sumaMax, verbose)\u001b[0m\n\u001b[1;32m     11\u001b[0m   \u001b[0maLeft\u001b[0m\u001b[0;34m,\u001b[0m \u001b[0mlowLeft\u001b[0m\u001b[0;34m,\u001b[0m \u001b[0mhighLeft\u001b[0m\u001b[0;34m,\u001b[0m \u001b[0msumaMaxLeft\u001b[0m \u001b[0;34m=\u001b[0m \u001b[0msubArrayMax\u001b[0m\u001b[0;34m(\u001b[0m\u001b[0ma\u001b[0m\u001b[0;34m,\u001b[0m \u001b[0mlow\u001b[0m\u001b[0;34m,\u001b[0m \u001b[0mmitad\u001b[0m\u001b[0;34m,\u001b[0m \u001b[0msumaMax\u001b[0m\u001b[0;34m)\u001b[0m\u001b[0;34m\u001b[0m\u001b[0;34m\u001b[0m\u001b[0m\n\u001b[1;32m     12\u001b[0m \u001b[0;34m\u001b[0m\u001b[0m\n\u001b[0;32m---> 13\u001b[0;31m   \u001b[0maRigh\u001b[0m\u001b[0;34m,\u001b[0m \u001b[0mlowRigh\u001b[0m\u001b[0;34m,\u001b[0m \u001b[0mhighRigh\u001b[0m\u001b[0;34m,\u001b[0m \u001b[0msumaMaxRigh\u001b[0m \u001b[0;34m=\u001b[0m \u001b[0msubArrayMax\u001b[0m\u001b[0;34m(\u001b[0m\u001b[0ma\u001b[0m\u001b[0;34m,\u001b[0m \u001b[0mmitad\u001b[0m \u001b[0;34m+\u001b[0m \u001b[0;36m1\u001b[0m\u001b[0;34m,\u001b[0m \u001b[0mhigh\u001b[0m\u001b[0;34m,\u001b[0m \u001b[0msumaMax\u001b[0m\u001b[0;34m)\u001b[0m\u001b[0;34m\u001b[0m\u001b[0;34m\u001b[0m\u001b[0m\n\u001b[0m\u001b[1;32m     14\u001b[0m \u001b[0;34m\u001b[0m\u001b[0m\n\u001b[1;32m     15\u001b[0m   \u001b[0maMid\u001b[0m\u001b[0;34m,\u001b[0m \u001b[0mlowMid\u001b[0m\u001b[0;34m,\u001b[0m \u001b[0mhighMid\u001b[0m\u001b[0;34m,\u001b[0m \u001b[0msumaMax\u001b[0m \u001b[0;34m=\u001b[0m \u001b[0msubArrayMid\u001b[0m\u001b[0;34m(\u001b[0m\u001b[0ma\u001b[0m\u001b[0;34m,\u001b[0m \u001b[0mlowLeft\u001b[0m\u001b[0;34m,\u001b[0m \u001b[0mhighRigh\u001b[0m\u001b[0;34m,\u001b[0m \u001b[0msumaMaxLeft\u001b[0m\u001b[0;34m,\u001b[0m \u001b[0msumaMaxRigh\u001b[0m\u001b[0;34m,\u001b[0m \u001b[0mverbose\u001b[0m\u001b[0;34m)\u001b[0m\u001b[0;34m\u001b[0m\u001b[0;34m\u001b[0m\u001b[0m\n",
            "\u001b[0;32m<ipython-input-8-4ff4056464dc>\u001b[0m in \u001b[0;36msubArrayMax\u001b[0;34m(a, low, high, sumaMax, verbose)\u001b[0m\n\u001b[1;32m      9\u001b[0m   \u001b[0mmitad\u001b[0m \u001b[0;34m=\u001b[0m \u001b[0mhigh\u001b[0m \u001b[0;34m//\u001b[0m \u001b[0;36m2\u001b[0m\u001b[0;34m\u001b[0m\u001b[0;34m\u001b[0m\u001b[0m\n\u001b[1;32m     10\u001b[0m \u001b[0;34m\u001b[0m\u001b[0m\n\u001b[0;32m---> 11\u001b[0;31m   \u001b[0maLeft\u001b[0m\u001b[0;34m,\u001b[0m \u001b[0mlowLeft\u001b[0m\u001b[0;34m,\u001b[0m \u001b[0mhighLeft\u001b[0m\u001b[0;34m,\u001b[0m \u001b[0msumaMaxLeft\u001b[0m \u001b[0;34m=\u001b[0m \u001b[0msubArrayMax\u001b[0m\u001b[0;34m(\u001b[0m\u001b[0ma\u001b[0m\u001b[0;34m,\u001b[0m \u001b[0mlow\u001b[0m\u001b[0;34m,\u001b[0m \u001b[0mmitad\u001b[0m\u001b[0;34m,\u001b[0m \u001b[0msumaMax\u001b[0m\u001b[0;34m)\u001b[0m\u001b[0;34m\u001b[0m\u001b[0;34m\u001b[0m\u001b[0m\n\u001b[0m\u001b[1;32m     12\u001b[0m \u001b[0;34m\u001b[0m\u001b[0m\n\u001b[1;32m     13\u001b[0m   \u001b[0maRigh\u001b[0m\u001b[0;34m,\u001b[0m \u001b[0mlowRigh\u001b[0m\u001b[0;34m,\u001b[0m \u001b[0mhighRigh\u001b[0m\u001b[0;34m,\u001b[0m \u001b[0msumaMaxRigh\u001b[0m \u001b[0;34m=\u001b[0m \u001b[0msubArrayMax\u001b[0m\u001b[0;34m(\u001b[0m\u001b[0ma\u001b[0m\u001b[0;34m,\u001b[0m \u001b[0mmitad\u001b[0m \u001b[0;34m+\u001b[0m \u001b[0;36m1\u001b[0m\u001b[0;34m,\u001b[0m \u001b[0mhigh\u001b[0m\u001b[0;34m,\u001b[0m \u001b[0msumaMax\u001b[0m\u001b[0;34m)\u001b[0m\u001b[0;34m\u001b[0m\u001b[0;34m\u001b[0m\u001b[0m\n",
            "... last 1 frames repeated, from the frame below ...\n",
            "\u001b[0;32m<ipython-input-8-4ff4056464dc>\u001b[0m in \u001b[0;36msubArrayMax\u001b[0;34m(a, low, high, sumaMax, verbose)\u001b[0m\n\u001b[1;32m      9\u001b[0m   \u001b[0mmitad\u001b[0m \u001b[0;34m=\u001b[0m \u001b[0mhigh\u001b[0m \u001b[0;34m//\u001b[0m \u001b[0;36m2\u001b[0m\u001b[0;34m\u001b[0m\u001b[0;34m\u001b[0m\u001b[0m\n\u001b[1;32m     10\u001b[0m \u001b[0;34m\u001b[0m\u001b[0m\n\u001b[0;32m---> 11\u001b[0;31m   \u001b[0maLeft\u001b[0m\u001b[0;34m,\u001b[0m \u001b[0mlowLeft\u001b[0m\u001b[0;34m,\u001b[0m \u001b[0mhighLeft\u001b[0m\u001b[0;34m,\u001b[0m \u001b[0msumaMaxLeft\u001b[0m \u001b[0;34m=\u001b[0m \u001b[0msubArrayMax\u001b[0m\u001b[0;34m(\u001b[0m\u001b[0ma\u001b[0m\u001b[0;34m,\u001b[0m \u001b[0mlow\u001b[0m\u001b[0;34m,\u001b[0m \u001b[0mmitad\u001b[0m\u001b[0;34m,\u001b[0m \u001b[0msumaMax\u001b[0m\u001b[0;34m)\u001b[0m\u001b[0;34m\u001b[0m\u001b[0;34m\u001b[0m\u001b[0m\n\u001b[0m\u001b[1;32m     12\u001b[0m \u001b[0;34m\u001b[0m\u001b[0m\n\u001b[1;32m     13\u001b[0m   \u001b[0maRigh\u001b[0m\u001b[0;34m,\u001b[0m \u001b[0mlowRigh\u001b[0m\u001b[0;34m,\u001b[0m \u001b[0mhighRigh\u001b[0m\u001b[0;34m,\u001b[0m \u001b[0msumaMaxRigh\u001b[0m \u001b[0;34m=\u001b[0m \u001b[0msubArrayMax\u001b[0m\u001b[0;34m(\u001b[0m\u001b[0ma\u001b[0m\u001b[0;34m,\u001b[0m \u001b[0mmitad\u001b[0m \u001b[0;34m+\u001b[0m \u001b[0;36m1\u001b[0m\u001b[0;34m,\u001b[0m \u001b[0mhigh\u001b[0m\u001b[0;34m,\u001b[0m \u001b[0msumaMax\u001b[0m\u001b[0;34m)\u001b[0m\u001b[0;34m\u001b[0m\u001b[0;34m\u001b[0m\u001b[0m\n",
            "\u001b[0;31mRecursionError\u001b[0m: maximum recursion depth exceeded in comparison"
          ]
        }
      ],
      "source": [
        "def subArrayMax(a, low, high, sumaMax = 0, verbose = False):\n",
        "\n",
        "  if(low == high):\n",
        "\n",
        "    sumaMax = a[low]\n",
        "\n",
        "    return a,low,high,sumaMax\n",
        "\n",
        "  mitad = high // 2 \n",
        "\n",
        "  aLeft, lowLeft, highLeft, sumaMaxLeft = subArrayMax(a, low, mitad, sumaMax)\n",
        "\n",
        "  aRigh, lowRigh, highRigh, sumaMaxRigh = subArrayMax(a, mitad + 1, high, sumaMax)\n",
        "\n",
        "  aMid, lowMid, highMid, sumaMax = subArrayMid(a, lowLeft, highRigh, sumaMaxLeft, sumaMaxRigh, verbose)\n",
        "\n",
        "  if(sumaMax == sumaMaxLeft): return aLeft, lowLeft, highLeft, sumaMaxLeft\n",
        "\n",
        "  elif(sumaMax == sumaMaxRigh): return aRigh, lowRigh, highRigh, sumaMaxRigh\n",
        "\n",
        "  return aMid, lowMid, highMid, sumaMax\n",
        "\n",
        "def subArrayMid(a, low, high, sumaMaxLeft, sumaMaxRigh, verbose):\n",
        "\n",
        "  mitad = high // 2 \n",
        "  sumaMidLeft = 0\n",
        "  sumaMidRigh = 0\n",
        "  sumaMaxMidLeft = -10000000000000000000000000\n",
        "  sumaMaxMidRigh = -10000000000000000000000000\n",
        "\n",
        "  for i in range(mitad, low):\n",
        "\n",
        "    sumaMidLeft += a[i]\n",
        "\n",
        "    if(sumaMax < sumaMidLeft):\n",
        "\n",
        "      sumaMaxMidLeft = sumaMidLeft\n",
        "      lowMid = i\n",
        "\n",
        "  for i in range(mitad +1, high):\n",
        "\n",
        "    sumaMidRigh += a[i]\n",
        "\n",
        "    if(sumaMaxMidRigh < sumaMidRigh):\n",
        "\n",
        "      sumaMaxMidRigh = sumaMidRigh\n",
        "      highMid = i\n",
        "  \n",
        "  sumaMaxMid = sumaMaxMidRigh + sumaMaxMidLeft\n",
        "\n",
        "  if(sumaMaxMid < sumaMaxLeft): return a, low, high, sumaMaxLeft\n",
        "\n",
        "  elif(sumaMaxMid < sumaMaxRigh): return a, low, high, sumaMaxRigh\n",
        "\n",
        "  return a, lowMid, highMid, sumaMax\n",
        "\n",
        "\n",
        "a = [1,2,3,-2]\n",
        "low = 0\n",
        "high = len(a)\n",
        "\n",
        "a, low, high, sumaMax = subArrayMax(a,low,high)\n",
        "\n",
        "print(a[low:high])\n",
        "\n",
        "print(sumaMax)\n"
      ]
    },
    {
      "cell_type": "markdown",
      "source": [
        "# 3. Tiempo de ejecucion \n",
        "\n",
        "## 3.1 Teorema del tiempo de ejecucion"
      ],
      "metadata": {
        "id": "H76pJGEfuwv9"
      }
    }
  ]
}