{
  "nbformat": 4,
  "nbformat_minor": 0,
  "metadata": {
    "colab": {
      "provenance": [],
      "include_colab_link": true
    },
    "kernelspec": {
      "name": "python3",
      "display_name": "Python 3"
    },
    "language_info": {
      "name": "python"
    }
  },
  "cells": [
    {
      "cell_type": "markdown",
      "metadata": {
        "id": "view-in-github",
        "colab_type": "text"
      },
      "source": [
        "<a href=\"https://colab.research.google.com/github/CharlyAguirre/ADA-informes/blob/main/RadixSort.ipynb\" target=\"_parent\"><img src=\"https://colab.research.google.com/assets/colab-badge.svg\" alt=\"Open In Colab\"/></a>"
      ]
    },
    {
      "cell_type": "markdown",
      "source": [
        "# 1. Problema de ordenamiento.\n",
        "\n",
        "**Entrada:** Un arreglo de números que puede o no estar ordenados [x1, x2, x3, ..., xn].\n",
        "\n",
        "**Salida:** El mismo arreglo de entrada con sus datos, pero ordenados de menor a mayor [x1 ≤ x2 ≤ x3 ≤ ... ≤ xn] o de mayor a menor dependiendo de la condicion que se utilice.\n",
        "\n",
        "Los problemas de ordenamiento son muy recurrentes al momento de plantear la solución a un problema, pero ¿por qué? Estos son planteados con el fin de mantener un orden en la solución, también para una correcta y fácil manipulación de estos datos al momento de ser utilizados para la resolución de un problema mayor."
      ],
      "metadata": {
        "id": "VjGnhvkaDBnw"
      }
    },
    {
      "cell_type": "markdown",
      "source": [
        "# 2. RadixSort.\n",
        "\n",
        "El algortimo RadixSort es un algoritmo para ordenar un arreglo de entreda, pero este no se basa en ordenar en base a comparaciones como lo hacen el QuickSort, el MergeSort o el InsertionSort, este lo ordena usando otro algoritmo de ordenamiento que seria el CountingSort.\n",
        "\n",
        "Una cosa a tener en cuenta es que entre mas digitos tenga el numero mas grade del arreglo de entrada mas ineficiente es el RadixSort.\n",
        "\n",
        "## 2.1 Descripcion del CountingSort.\n",
        "\n",
        "El CountingSort es un algoritmo de ordenamiento que usa un arreglo de contadores para poder ordenar el arreglo de entrada, el largo del arreglo de contadores es igual al numero mas grade del arreglo de entradar (esto puede quedar mas claro en el ejemplo de paso a paso), este arreglo de contadores se inicializa con ceros y se utiliza para primero contar cuantas veces aparece un numero en el arreglo de entredad, las veces que aparece un numero en el arreglo se guarda en la posicion(indice) igual al numero que se esta contado **(Ej: el 1 parace 3 veces, cont[1] = 3)**. Luego de haber recorredio el arreglo de entrada una ves para contar los numeros pasamos a sumar los contadores desde la posicion 1 hasta llegar a la ultima **(el contador de la posicion 2 es igual a la suma del contador de la posicion 1 y el contador de la posicion 2)**. Como ultimo paso se recorre el arreglo de contadores de atras hacia adelate **(len(cont) -> 0)**, cada dato - 1 del contador repesenta la posicion en la cual va el dato del inidice en el que se encuentra este contador**(cont[1] = 3 en la posicion 2 del arreglo de salida va el numero 1)**.\n",
        "\n",
        "Se hace del ultimo dato hasta el primero para mantener la estabilidad del algoritmo, con la estabilidad nos referimos a que si hay dos numero iguales se mantiene el orden que tenian en el arreglo de entrada.\n",
        "\n",
        "Para el caso especial de ser utilizado para un algoritmo RadixSort se crea un arreglo de contadores con largo fijo en 10.\n",
        "\n",
        "## 2.2 Descripcion del RadixSort.\n",
        "\n",
        "El RadixSort para ordenar un arreglo llama varias veces al algoritmo CountingSort, pero como saber cuantes veces lo va a llamar? La veces que es llamado el CountingSort es igual a la cantidad de digitos que tenga el numero mas grande del arreglo(**Ej: si el numero mas grande es 236, se llama 3 veces a CountingSort)**, se llama varias veces a la funcion countingSort implementada para RadixSort porque esta es modificada para que cuente y ordene el arreglo en base a un digito, primero ordena el arreglo en base a la unidad de los datos, despues por la decena, despues por la centena y asi susecivamente hasta llegar a la cantidad de digitos que tiene el numero mas grande del arreglo de entredad.\n",
        "\n"
      ],
      "metadata": {
        "id": "XlzBtJu3IQWR"
      }
    },
    {
      "cell_type": "markdown",
      "source": [
        "## 2.3 Ejemplo paso a paso del RadixSort."
      ],
      "metadata": {
        "id": "8rbdvzioVkFq"
      }
    },
    {
      "cell_type": "markdown",
      "source": [
        "## 2.4 Codigo RadixSort."
      ],
      "metadata": {
        "id": "HjXKS_JcTxgx"
      }
    },
    {
      "cell_type": "code",
      "execution_count": null,
      "metadata": {
        "colab": {
          "base_uri": "https://localhost:8080/"
        },
        "id": "3P-gFpqJ_5XV",
        "outputId": "9e76ec38-5c6a-4bc3-851e-766a6569bdd8"
      },
      "outputs": [
        {
          "output_type": "stream",
          "name": "stdout",
          "text": [
            "[2, 20, 61, 997, 1, 619]\n",
            "[1, 2, 20, 61, 619, 997]\n"
          ]
        }
      ],
      "source": [
        "\n",
        "\n",
        "def countingSortForRadix(arreglo, placeValue, verbose):\n",
        "\n",
        "    # creacion del arreglo de contadores de lagor 10\n",
        "    countArray = [0] * 10\n",
        "    inputSize = len(arreglo)\n",
        "\n",
        "    if(verbose == True)\n",
        "    {\n",
        "      print(\"Arreglo de contadores:\", countArray)\n",
        "    }\n",
        "\n",
        "    for i in range(inputSize): \n",
        "        placeElement = (arreglo[i] // placeValue) % 10\n",
        "        countArray[placeElement] += 1\n",
        "        if(verbose == True)\n",
        "        {\n",
        "          print(f'{countArray[0:i]} {countArray[i]} {countArray[i:]}')\n",
        "        }\n",
        "\n",
        "    if(verbose == True)\n",
        "    {\n",
        "      print(\"Arreglo con todos los numeros ya contados:\", countArray[])\n",
        "    }\n",
        "\n",
        "    for i in range(1, 10):\n",
        "        countArray[i] += countArray[i-1]\n",
        "        if(verbose == True)\n",
        "        {\n",
        "          print(\"Arreglo de contadores:\", countArray[])\n",
        "        }\n",
        "\n",
        "    outputArray = [0] * inputSize\n",
        "    i = inputSize - 1\n",
        "    while i >= 0:\n",
        "        currentEl = arreglo[i]\n",
        "        placeElement = (arreglo[i] // placeValue) % 10\n",
        "        countArray[placeElement] -= 1\n",
        "        newPosition = countArray[placeElement]\n",
        "        outputArray[newPosition] = currentEl\n",
        "        i -= 1\n",
        "        \n",
        "    return outputArray\n",
        "\n",
        "def radixSort(arreglo, verbose = False):\n",
        "    # Dato mas grande del arreglo\n",
        "    maxElemento = max(arreglo)\n",
        "\n",
        "    if(verbose == True)\n",
        "    {\n",
        "        print(\"El dato mas grande es:\", maxElemento)\n",
        "    }\n",
        "\n",
        "    # Ciclo repetitivo para saber cuantos digitos tiene el dato mas grande\n",
        "    Dig = 1 #cantidad de digitos del numero mas grande\n",
        "    while maxElemento > 0:\n",
        "        maxElemento /= 10\n",
        "        Dig += 1\n",
        "\n",
        "    if(verbose == True)\n",
        "    {\n",
        "        print(\"La cantidad de digitos del dato mas grande son:\", Dig)\n",
        "    }\n",
        "\n",
        "    placeVal = 1\n",
        "\n",
        "    outputArray = arreglo\n",
        "\n",
        "    #llamadas a coutingSort\n",
        "    while Dig > 0:\n",
        "        outputArray = countingSortForRadix(outputArray, placeVal)\n",
        "        placeVal *= 10  \n",
        "        Dig -= 1\n",
        "\n",
        "    return outputArray\n",
        "    \n",
        "input = [2,20,61,997,1,619]\n",
        "print(input)\n",
        "sorted = radixSort(input)\n",
        "print(sorted)"
      ]
    },
    {
      "cell_type": "markdown",
      "source": [
        "## 2.5 Ejecucion paso a paso del RadixSort (verbose = true)."
      ],
      "metadata": {
        "id": "QPLnmaXZT4zZ"
      }
    },
    {
      "cell_type": "code",
      "source": [],
      "metadata": {
        "id": "rdt_ax0_UEyS"
      },
      "execution_count": null,
      "outputs": []
    }
  ]
}