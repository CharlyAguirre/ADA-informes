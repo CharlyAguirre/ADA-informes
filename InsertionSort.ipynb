{
  "nbformat": 4,
  "nbformat_minor": 0,
  "metadata": {
    "colab": {
      "name": "InsertionSort",
      "provenance": [],
      "include_colab_link": true
    },
    "kernelspec": {
      "name": "python3",
      "display_name": "Python 3"
    },
    "language_info": {
      "name": "python"
    }
  },
  "cells": [
    {
      "cell_type": "markdown",
      "metadata": {
        "id": "view-in-github",
        "colab_type": "text"
      },
      "source": [
        "<a href=\"https://colab.research.google.com/github/CharlyAguirre/ADA-informes/blob/main/InsertionSort.ipynb\" target=\"_parent\"><img src=\"https://colab.research.google.com/assets/colab-badge.svg\" alt=\"Open In Colab\"/></a>"
      ]
    },
    {
      "cell_type": "markdown",
      "source": [
        "# 1. Problema de ordenamiento \n",
        "**Entrada:** Secuencia de números [x1, x2, x3, ... xn]\n",
        "\n",
        "**Salida:** La misma secuencia de entrada pero ordenada de menor a mayor\n",
        "\n",
        "\n",
        "El problema de ordenamiento es muy común al momento de enfrentarse a un conjunto de datos, ya que en la gran mayoría de ocasiones es más cómodo trabajar con estos datos cuando estos están ordenados "
      ],
      "metadata": {
        "id": "HM_H0qKxG5lM"
      }
    },
    {
      "cell_type": "markdown",
      "source": [
        "# 2. InsertionSort\n",
        "\n",
        "Insertion Sort es un algoritmo de ordenamiento destacado por ser muy sencillo al momento de la implementación, pero no es muy eficiente si lo comparamos con otros algoritmos de ordenamiento."
      ],
      "metadata": {
        "id": "JXLTN3sVLTlj"
      }
    },
    {
      "cell_type": "markdown",
      "source": [
        "##2.1 Descripción del InsertionSort \n",
        "\n",
        "El insetion sort recibe un arreglo en este caso usaremos como ejemplo un arreglo de números y este los ordenara de menor a mayor, este algoritmo ira comparando los números que se encuentran de izquierda a derecha y los va comprando con sus antecesores.\n",
        "\n",
        "Ejemplo tenemos: Arreglo [ 5 , 2 , 9 , 4 , 8 , 14]\n",
        "\n",
        "Lo primero que se hace es tomar el 5, este al ser el primero no tiene antecesor con el cual se comparado por lo que seguimos con el 2, este es comparado con su antecesor y al ser menor se realiza un cambio de posición entre ellos quedando:\n",
        "\n",
        "Arreglo [ **2**, **5** , 9 , 4 , 8 , 14]\n",
        "\n",
        "Continua con el siguiente que es el 9, es comparado con sus antecesores que son menores que el por lo que no se realiza un cambio, seguimos con el 4 que es comparado con el 9 y al ser menor se realiza el cambio de posición quedando:\n",
        "\n",
        "Arreglo [ 2, 5 , **4** , **9** , 8 , 14]\n",
        "\n",
        "Siguiendo con el 4 se repite el proceso anterior y este al ser menor que su antecesor se cambian de posición:\n",
        "\n",
        "Arreglo [ 2, **4** , **5** , 9 , 8 , 14]\n",
        "\n",
        "Para terminar con el 4 se compara con el 2, el ser mayor el 4 no se realiza nada, habíamos quedado en la posición donde ahora se encuentra en 9 por lo que avanzamos en el arreglo tenemos el 8, lo comparamos con el 9, el 8 al ser menor se hace el cambio:\n",
        "\n",
        "Arreglo [2 , 4 , 5 , **8** , **9** , 14]\n",
        "\n",
        "El 8 al ser mayor que su antecesor terminar las comparaciones con el 8, pasamos al último que es al 14, este es mayor que el 9 por lo que termina el proceso del InsetionSort quedando:\n",
        "\n",
        "Entrada: Arreglo [ 5 , 2 , 9 , 4 , 8 , 14]\n",
        "\n",
        "Salida: Arreglo [2 , 4 , 5 , 8 , 9 , 14]\n"
      ],
      "metadata": {
        "id": "j91O4Tl3Oavp"
      }
    },
    {
      "cell_type": "markdown",
      "source": [
        "## 2.2 Código InsetionSort "
      ],
      "metadata": {
        "id": "sAyvpCrzO9Ty"
      }
    },
    {
      "cell_type": "code",
      "source": [
        "import random\n",
        "from termcolor import colored\n",
        "import copy\n",
        "\n",
        "def insertionSort (arreglo, verbose=False):\n",
        "  \n",
        "  largo = len(arreglo)\n",
        "  cont = 0\n",
        "\n",
        "  if verbose == True: print(\"input array:\",arreglo)\n",
        "\n",
        "  for i in range (1,largo):\n",
        "\n",
        "    if verbose == True: print(\"\\nPasada\",i)\n",
        "    already_sorted = True\n",
        "\n",
        "    busq = arreglo[i] #numb a comparar\n",
        "\n",
        "    j = i-1\n",
        "\n",
        "    while j >= 0:\n",
        "      \n",
        "      cont += 1\n",
        "      cambio = False\n",
        "\n",
        "      if busq < arreglo[j]:\n",
        "        \n",
        "        arreglo[j+1] = arreglo[j]\n",
        "        arreglo[j] = busq\n",
        "\n",
        "        cambio = True\n",
        "\n",
        "        if verbose == True: \n",
        "          print(str(arreglo[:j])[1:-1],\",\",colored(f\"{str(arreglo[j:j+2])[1:-1]}\",\"red\"),\",\",str(arreglo[j+2:])[1:-1])\n",
        "\n",
        "      elif verbose == True and cambio == False:\n",
        "        print(\"Sin cambios\")\n",
        "        j = -2\n",
        "\n",
        "      elif cambio == False:\n",
        "        j = -2\n",
        "      \n",
        "      already_sorted = False\n",
        "      \n",
        "      j -= 1\n",
        "\n",
        "    if already_sorted == False and verbose == True: \n",
        "      print(\"\\nAl finalizar pasada:\")\n",
        "      print(colored(f\"{str(arreglo[:i])[1:-1]}\",\"blue\"),\",\",str(arreglo[i:])[1:-1])\n",
        "\n",
        "    if already_sorted:\n",
        "      if verbose == True: \n",
        "        print(\"is sorted!\")\n",
        "        break\n",
        "\n",
        "  if verbose == True: \n",
        "    print(\"\\noutput array:\",arreglo)\n",
        "\n",
        "  return arreglo, cont\n",
        "\n",
        "A = [10,3,8,2,9]\n",
        "print(\"Entrada: \",A)\n",
        "A, counter = insertionSort(A)\n",
        "print(\"Salida: \",A)\n",
        "print(\"# comparaciones: \", counter)\n"
      ],
      "metadata": {
        "id": "Q6HeHD4FN6Mh",
        "colab": {
          "base_uri": "https://localhost:8080/"
        },
        "outputId": "2d6bedbf-d8bf-4866-de6c-cdcd46ad0b62"
      },
      "execution_count": 53,
      "outputs": [
        {
          "output_type": "stream",
          "name": "stdout",
          "text": [
            "Entrada:  [10, 3, 8, 2, 9]\n",
            "Salida:  [2, 3, 8, 9, 10]\n",
            "# comparaciones:  8\n"
          ]
        }
      ]
    },
    {
      "cell_type": "markdown",
      "source": [
        "## 2.3 Ejecucion InsertionSort paso a paso (verbose = True)\n",
        "Al asignarle true a la variable verbose podemos observar cómo se van realizando las comparaciones mediante el algoritmo de InsertionSort"
      ],
      "metadata": {
        "id": "SbI-isoe98Mf"
      }
    },
    {
      "cell_type": "code",
      "source": [
        "import random\n",
        "\n",
        "arreglo = random.sample(range(1, 100), 6)\n",
        "arreglo, comparaciones = insertionSort(arreglo,verbose=True)"
      ],
      "metadata": {
        "colab": {
          "base_uri": "https://localhost:8080/"
        },
        "id": "Cpb3r-Sl-v6A",
        "outputId": "e81013ea-c00d-4b4a-c8e0-33987ce5089a"
      },
      "execution_count": 54,
      "outputs": [
        {
          "output_type": "stream",
          "name": "stdout",
          "text": [
            "input array: [78, 9, 12, 7, 77, 62]\n",
            "\n",
            "Pasada 1\n",
            " , \u001b[31m9, 78\u001b[0m , 12, 7, 77, 62\n",
            "\n",
            "Al finalizar pasada:\n",
            "\u001b[34m9\u001b[0m , 78, 12, 7, 77, 62\n",
            "\n",
            "Pasada 2\n",
            "9 , \u001b[31m12, 78\u001b[0m , 7, 77, 62\n",
            "Sin cambios\n",
            "\n",
            "Al finalizar pasada:\n",
            "\u001b[34m9, 12\u001b[0m , 78, 7, 77, 62\n",
            "\n",
            "Pasada 3\n",
            "9, 12 , \u001b[31m7, 78\u001b[0m , 77, 62\n",
            "9 , \u001b[31m7, 12\u001b[0m , 78, 77, 62\n",
            " , \u001b[31m7, 9\u001b[0m , 12, 78, 77, 62\n",
            "\n",
            "Al finalizar pasada:\n",
            "\u001b[34m7, 9, 12\u001b[0m , 78, 77, 62\n",
            "\n",
            "Pasada 4\n",
            "7, 9, 12 , \u001b[31m77, 78\u001b[0m , 62\n",
            "Sin cambios\n",
            "\n",
            "Al finalizar pasada:\n",
            "\u001b[34m7, 9, 12, 77\u001b[0m , 78, 62\n",
            "\n",
            "Pasada 5\n",
            "7, 9, 12, 77 , \u001b[31m62, 78\u001b[0m , \n",
            "7, 9, 12 , \u001b[31m62, 77\u001b[0m , 78\n",
            "Sin cambios\n",
            "\n",
            "Al finalizar pasada:\n",
            "\u001b[34m7, 9, 12, 62, 77\u001b[0m , 78\n",
            "\n",
            "output array: [7, 9, 12, 62, 77, 78]\n"
          ]
        }
      ]
    },
    {
      "cell_type": "markdown",
      "source": [
        "# 3. Tiempo de ejecucion del InsertionSort\n",
        "\n",
        "**Teorema** (Tiempo de ejecución)\n",
        "\n",
        "El metodo de ordenamiento del InsertionSort tiene un tiempo de ejecución en el peor de los casos de **O(n^2)** \n",
        "\n",
        "**Prueba del teorema:**\n",
        "\n",
        "Primero para probar el teorema debemos saber cual es el peor caso, para el InsertionSort el peor caso es cuando el arreglo está totalmente al revés de cómo debe ser ordenado, ejemplo debe estas de menor a mayor pero el arreglo ingresado se encuentra ordenado de mayor a menor, esto haría que debamos recorre el arreglo dos veces, primero de izquierda a derecha reordenando los datos hasta llegar a la última posición la cual te hacer recorrer todo el arreglo devuelta de derecha a izquierda hasta llegar a la primera posición.\n",
        "\n",
        "\n"
      ],
      "metadata": {
        "id": "EIiq4ML__WRg"
      }
    },
    {
      "cell_type": "markdown",
      "source": [
        "## 3.1 Ejemplo peor caso InsertionSort"
      ],
      "metadata": {
        "id": "jFIUkbCLzTUR"
      }
    },
    {
      "cell_type": "code",
      "source": [
        "arreglo = [5,4,3,2,1]\n",
        "\n",
        "arreglo, comparaciones = insertionSort (arreglo, verbose=True)\n",
        "\n",
        "print(\"# comparaciones: \", comparaciones)\n",
        "\n",
        "arreglo = [1,2,3,4,5]\n",
        "\n",
        "arreglo, comparaciones = insertionSort (arreglo, verbose=True)\n",
        "\n",
        "print(\"# comparaciones: \", comparaciones)\n"
      ],
      "metadata": {
        "colab": {
          "base_uri": "https://localhost:8080/"
        },
        "id": "1YbQqhbGvFn6",
        "outputId": "690f7808-23d7-4968-b0f2-5a85a6f291aa"
      },
      "execution_count": 55,
      "outputs": [
        {
          "output_type": "stream",
          "name": "stdout",
          "text": [
            "input array: [5, 4, 3, 2, 1]\n",
            "\n",
            "Pasada 1\n",
            " , \u001b[31m4, 5\u001b[0m , 3, 2, 1\n",
            "\n",
            "Al finalizar pasada:\n",
            "\u001b[34m4\u001b[0m , 5, 3, 2, 1\n",
            "\n",
            "Pasada 2\n",
            "4 , \u001b[31m3, 5\u001b[0m , 2, 1\n",
            " , \u001b[31m3, 4\u001b[0m , 5, 2, 1\n",
            "\n",
            "Al finalizar pasada:\n",
            "\u001b[34m3, 4\u001b[0m , 5, 2, 1\n",
            "\n",
            "Pasada 3\n",
            "3, 4 , \u001b[31m2, 5\u001b[0m , 1\n",
            "3 , \u001b[31m2, 4\u001b[0m , 5, 1\n",
            " , \u001b[31m2, 3\u001b[0m , 4, 5, 1\n",
            "\n",
            "Al finalizar pasada:\n",
            "\u001b[34m2, 3, 4\u001b[0m , 5, 1\n",
            "\n",
            "Pasada 4\n",
            "2, 3, 4 , \u001b[31m1, 5\u001b[0m , \n",
            "2, 3 , \u001b[31m1, 4\u001b[0m , 5\n",
            "2 , \u001b[31m1, 3\u001b[0m , 4, 5\n",
            " , \u001b[31m1, 2\u001b[0m , 3, 4, 5\n",
            "\n",
            "Al finalizar pasada:\n",
            "\u001b[34m1, 2, 3, 4\u001b[0m , 5\n",
            "\n",
            "output array: [1, 2, 3, 4, 5]\n",
            "# comparaciones:  10\n",
            "input array: [1, 2, 3, 4, 5]\n",
            "\n",
            "Pasada 1\n",
            "Sin cambios\n",
            "\n",
            "Al finalizar pasada:\n",
            "\u001b[34m1\u001b[0m , 2, 3, 4, 5\n",
            "\n",
            "Pasada 2\n",
            "Sin cambios\n",
            "\n",
            "Al finalizar pasada:\n",
            "\u001b[34m1, 2\u001b[0m , 3, 4, 5\n",
            "\n",
            "Pasada 3\n",
            "Sin cambios\n",
            "\n",
            "Al finalizar pasada:\n",
            "\u001b[34m1, 2, 3\u001b[0m , 4, 5\n",
            "\n",
            "Pasada 4\n",
            "Sin cambios\n",
            "\n",
            "Al finalizar pasada:\n",
            "\u001b[34m1, 2, 3, 4\u001b[0m , 5\n",
            "\n",
            "output array: [1, 2, 3, 4, 5]\n",
            "# comparaciones:  4\n"
          ]
        }
      ]
    },
    {
      "cell_type": "markdown",
      "source": [
        "Con este ejemplo podemos observar la comparación del mejor y el peor caso, en el mejor podemos observar que solo se realizan 4 comparaciones mientras que en el peor caso se realizan 10."
      ],
      "metadata": {
        "id": "45R9UuXNNz-P"
      }
    },
    {
      "cell_type": "markdown",
      "source": [
        "# 4. Correctitud\n",
        "\n",
        "### **Teorema:**\n",
        "\n",
        "El algoritmo de ordenamiento InsertionSort toma un arreglo el cual puede estar o no ordenado y genera un arreglo ordenado de menor a mayor (x1 ≤ x2 ≤ x3 … ≤ xn)\n",
        "\n",
        "### **Prueba del teorema**\n",
        "\n",
        "La **propiedad invariante** que probaremos será “*Al comienzo de cada iteración del bucle para realizar el ordenamiento el sub-arreglo[i-1] estará ordenado de menor a mayor*”\n",
        "\n",
        "**Inicialización:**\n",
        "\n",
        "Cuando comienza el bucle i = 1, por lo que el sub-arreglo seria a[0] por lo cual la propiedad si se cumpliría por el hecho de que solo contiene un solo dato.\n",
        "\n",
        "**Mantención:**\n",
        "\n",
        "Como ya vimos que en el inicio del bucle se cumple, si avanzamos con el bucle podemos observar como se va generando un sub arreglo de largo i-1 siendo i el numero de pasada en la que estamos, ahora este arreglo debe estar ordenado por condición del algoritmo ya que tomamos el dato de la posición i y lo vamos comparando con sus antecesores hasta que encontremos que el dato correspondiente a la posición i es mayor a su antecesor, por lo que decir que el sub-arreglo[ i-1] esta ordenado es correcto.  \n",
        "\n",
        "Correctitud \n",
        "\n",
        "Como conclusión, como la propiedad invariante del bucle es verdadera al inicio y también se mantiene en cada iteración, es correcto el teorema propuesto al principio.\n",
        "\n",
        "\n"
      ],
      "metadata": {
        "id": "G_UB0_tN18XS"
      }
    },
    {
      "cell_type": "markdown",
      "source": [
        "# 5. Experimientos y analisis\n",
        "\n",
        "En esta sección observaremos la comparación entre el peor caso, el mejor caso y los casos promedios del insertionSort, estos serán comparados mediante la cantidad de comparaciones hacen para poder dejar en orden de menor a mayor un arreglo que se le estrega."
      ],
      "metadata": {
        "id": "IeY7eU69fib9"
      }
    },
    {
      "cell_type": "code",
      "source": [
        "import matplotlib.pyplot as plt\n",
        "\n",
        "x=[n for n in range(5,20)] \n",
        "y1=[n*(n-1)/2 for n in range(5,20)] # worst case\n",
        "y2=[n-1 for n in range(5,20)] # best case\n",
        "y=[]; \n",
        "\n",
        "for n in range(5,20):\n",
        "  a = random.sample(range(1, 100), n)\n",
        "  a,counter = insertionSort(a)\n",
        "  y.append(counter)\n",
        "\n",
        "plt.plot(x,y)\n",
        "plt.plot(x,y1)\n",
        "plt.plot(x,y2)\n",
        "plt.legend([\"InsertionSort\", \"Peor caso teorico\", \"Mejor caso teorico\"])\n",
        "\n",
        "plt.xlabel('Largo del arreglo')\n",
        "plt.ylabel('Numero de comparaciones')\n",
        "plt.show()"
      ],
      "metadata": {
        "id": "XuDcclm5iZww",
        "outputId": "6b8a0b9d-31ca-4586-9708-b5dadfa6e782",
        "colab": {
          "base_uri": "https://localhost:8080/",
          "height": 279
        }
      },
      "execution_count": 66,
      "outputs": [
        {
          "output_type": "display_data",
          "data": {
            "text/plain": [
              "<Figure size 432x288 with 1 Axes>"
            ],
            "image/png": "[encoded data removed]"
          },
          "metadata": {
            "needs_background": "light"
          }
        }
      ]
    },
    {
      "cell_type": "markdown",
      "source": [
        "Como podemos observar en el grafico de los datos este tiene mas tendencia de acercarse al peor caso que al mejor caso por lo que este algoritmo no seria muy eficiente en términos de tiempo ya que entre más comparaciones realice el algoritmo significa que mas se demora en ordenar el arreglo que se le es entregado."
      ],
      "metadata": {
        "id": "edeZYyKJijWW"
      }
    }
  ]
}