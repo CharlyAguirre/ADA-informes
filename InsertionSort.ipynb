{
  "nbformat": 4,
  "nbformat_minor": 0,
  "metadata": {
    "colab": {
      "name": "InsertionSort",
      "provenance": [],
      "toc_visible": true,
      "include_colab_link": true
    },
    "kernelspec": {
      "name": "python3",
      "display_name": "Python 3"
    },
    "language_info": {
      "name": "python"
    }
  },
  "cells": [
    {
      "cell_type": "markdown",
      "metadata": {
        "id": "view-in-github",
        "colab_type": "text"
      },
      "source": [
        "<a href=\"https://colab.research.google.com/github/CharlyAguirre/ADA-informes/blob/main/InsertionSort.ipynb\" target=\"_parent\"><img src=\"https://colab.research.google.com/assets/colab-badge.svg\" alt=\"Open In Colab\"/></a>"
      ]
    },
    {
      "cell_type": "markdown",
      "source": [
        "# 1. Problema de ordenamiento \n",
        "**Entrada:** Secuencia de números [x1, x2, x3, ... xn]\n",
        "\n",
        "**Salida:** La misma secuencia de entrada pero ordenada de menor a mayor\n",
        "\n",
        "\n",
        "El problema de ordenamiento es muy común al momento de enfrentarse a un conjunto de datos, ya que en la gran mayoría de ocasiones es más cómodo trabajar con estos datos cuando estos están ordenados "
      ],
      "metadata": {
        "id": "HM_H0qKxG5lM"
      }
    },
    {
      "cell_type": "markdown",
      "source": [
        "# 2. InsertionSort\n",
        "\n",
        "Insertion Sort es un algoritmo de ordenamiento destacado por ser muy sencillo al momento de la implementación, pero no es muy eficiente si lo comparamos con otros algoritmos de ordenamiento."
      ],
      "metadata": {
        "id": "JXLTN3sVLTlj"
      }
    },
    {
      "cell_type": "markdown",
      "source": [
        "##2.1 Descripción del InsertionSort \n",
        "\n",
        "El insetion sort recibe un arreglo en este caso usaremos como ejemplo un arreglo de números y este los ordenara de menor a mayor, este algoritmo ira comparando los números que se encuentran de izquierda a derecha y los va comprando con sus antecesores.\n",
        "\n",
        "Ejemplo tenemos: Arreglo [ 5 , 2 , 9 , 4 , 8 , 14]\n",
        "\n",
        "Lo primero que se hace es tomar el 5, este al ser el primero no tiene antecesor con el cual se comparado por lo que seguimos con el 2, este es comparado con su antecesor y al ser menor se realiza un cambio de posición entre ellos quedando:\n",
        "\n",
        "Arreglo [ **2**, **5** , 9 , 4 , 8 , 14]\n",
        "\n",
        "Continua con el siguiente que es el 9, es comparado con sus antecesores que son menores que el por lo que no se realiza un cambio, seguimos con el 4 que es comparado con el 9 y al ser menor se realiza el cambio de posición quedando:\n",
        "\n",
        "Arreglo [ 2, 5 , **4** , **9** , 8 , 14]\n",
        "\n",
        "Siguiendo con el 4 se repite el proceso anterior y este al ser menor que su antecesor se cambian de posición:\n",
        "\n",
        "Arreglo [ 2, **4** , **5** , 9 , 8 , 14]\n",
        "\n",
        "Para terminar con el 4 se compara con el 2, el ser mayor el 4 no se realiza nada, habíamos quedado en la posición donde ahora se encuentra en 9 por lo que avanzamos en el arreglo tenemos el 8, lo comparamos con el 9, el 8 al ser menor se hace el cambio:\n",
        "\n",
        "Arreglo [2 , 4 , 5 , **8** , **9** , 14]\n",
        "\n",
        "El 8 al ser mayor que su antecesor terminar las comparaciones con el 8, pasamos al último que es al 14, este es mayor que el 9 por lo que termina el proceso del InsetionSort quedando:\n",
        "\n",
        "Entrada: Arreglo [ 5 , 2 , 9 , 4 , 8 , 14]\n",
        "\n",
        "Salida: Arreglo [2 , 4 , 5 , 8 , 9 , 14]\n"
      ],
      "metadata": {
        "id": "j91O4Tl3Oavp"
      }
    },
    {
      "cell_type": "markdown",
      "source": [
        "## 2.2 Código InsetionSort "
      ],
      "metadata": {
        "id": "sAyvpCrzO9Ty"
      }
    },
    {
      "cell_type": "code",
      "source": [
        "import random\n",
        "from termcolor import colored\n",
        "import copy\n",
        "\n",
        "def InsertionSort (arreglo, verbose=False):\n",
        "  \n",
        "  largo = len(arreglo)\n",
        "  cont = 0\n",
        "\n",
        "  if verbose == True: print(\"input array:\",arreglo)\n",
        "\n",
        "  for i in range (1,largo):\n",
        "\n",
        "    if verbose == True: print(\"\\nPasada\",i)\n",
        "    already_sorted = True\n",
        "\n",
        "    busq = arreglo[i] #numb a comparar\n",
        "\n",
        "    j = i-1\n",
        "\n",
        "    cambio = False\n",
        "\n",
        "    while j >= 0:\n",
        "      \n",
        "      cont += 1\n",
        "\n",
        "      if busq < arreglo[j]:\n",
        "        \n",
        "        arreglo[j+1] = arreglo[j]\n",
        "        arreglo[j] = busq\n",
        "\n",
        "        cambio = True\n",
        "\n",
        "        if verbose == True: \n",
        "          print(str(arreglo[:j])[1:-1],\",\",colored(f\"{str(arreglo[j:j+2])[1:-1]}\",\"red\"),\",\",str(arreglo[j+2:])[1:-1])\n",
        "\n",
        "      elif verbose == True and cambio == False:\n",
        "        print(\"Sin cambios\")\n",
        "      \n",
        "      already_sorted = False\n",
        "      \n",
        "      j -= 1\n",
        "\n",
        "    if already_sorted == False and verbose == True and cambio == True: \n",
        "      print(\"\\nAl finalizar pasada:\")\n",
        "      print(colored(f\"{str(arreglo[:largo-i])[1:-1]}\",\"blue\"),\",\",str(arreglo[largo-i:])[1:-1])\n",
        "\n",
        "    elif already_sorted == False and verbose == True and cambio == False:\n",
        "      print(\"\\nAl finalizar pasada:\")\n",
        "      print(str(arreglo)[1:-1])\n",
        "\n",
        "\n",
        "    if already_sorted:\n",
        "      if verbose == True: \n",
        "        print(\"is sorted!\")\n",
        "        break\n",
        "\n",
        "  if verbose == True: \n",
        "    print(\"\\noutput array:\",arreglo)\n",
        "\n",
        "  return arreglo, cont\n",
        "\n",
        "A = [5,8,7,1,3]\n",
        "print(\"Entrada: \",A)\n",
        "A, counter = InsertionSort(A)\n",
        "print(\"Salida: \",A)\n",
        "print(\"# comparaciones: \", counter)\n"
      ],
      "metadata": {
        "id": "Q6HeHD4FN6Mh",
        "outputId": "93808e60-3fc2-4e94-9fa5-27453f561990",
        "colab": {
          "base_uri": "https://localhost:8080/"
        }
      },
      "execution_count": 35,
      "outputs": [
        {
          "output_type": "stream",
          "name": "stdout",
          "text": [
            "Entrada:  [5, 8, 7, 1, 3]\n",
            "Salida:  [1, 3, 5, 7, 8]\n",
            "# comparaciones:  10\n"
          ]
        }
      ]
    }
  ]
}