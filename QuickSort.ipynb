{
  "nbformat": 4,
  "nbformat_minor": 0,
  "metadata": {
    "colab": {
      "provenance": [],
      "include_colab_link": true
    },
    "kernelspec": {
      "name": "python3",
      "display_name": "Python 3"
    },
    "language_info": {
      "name": "python"
    }
  },
  "cells": [
    {
      "cell_type": "markdown",
      "metadata": {
        "id": "view-in-github",
        "colab_type": "text"
      },
      "source": [
        "<a href=\"https://colab.research.google.com/github/CharlyAguirre/ADA-informes/blob/main/QuickSort.ipynb\" target=\"_parent\"><img src=\"https://colab.research.google.com/assets/colab-badge.svg\" alt=\"Open In Colab\"/></a>"
      ]
    },
    {
      "cell_type": "markdown",
      "source": [
        "# 1. Problema de ordenamiento.\n",
        "\n",
        "**Entrada:** Un arreglo de números que puede o no estar ordenados [x1, x2, x3, ..., xn].\n",
        "\n",
        "**Salida:** El mismo arreglo de entrada con sus datos, pero ordenados de menor a mayor [x1 ≤ x2 ≤ x3 ≤ ... ≤ xn] o de mayor a menor dependiendo de la condicion que se utilice.\n",
        "\n",
        "Los problemas de ordenamiento son muy recurrentes al momento de plantear la solución a un problema, pero ¿por qué? Estos son planteados con el fin de mantener un orden en la solución, también para una correcta y fácil manipulación de estos datos al momento de ser utilizados para la resolución de un problema mayor.\n"
      ],
      "metadata": {
        "id": "JJeh4sRbJURm"
      }
    },
    {
      "cell_type": "markdown",
      "source": [
        "# 2.QuickSort.\n",
        "\n",
        "El algoritmo QuickSort es un algoritmo que se aplica a los problemas de ordenamiento. Este algoritmo es implementado en base al método de divide y vencerás, esto es implementado mediante la llamada recursiva de sí mismo. también consta de una función llamada partition, que se explicara en el siguiente punto cuál es su función dentro del algoritmo. \n",
        "\n",
        "Dos puntos para destacar son que el QuickSort es el algoritmo de ordenamiento más rápido conocido hasta la fecha y que el quicksort ordena el arreglo dentro del mismo arreglo que se le es entregado por lo que no es necesario usar más espacio de la memoria al momento de realizar el ordenamiento.\n"
      ],
      "metadata": {
        "id": "Wkqgmwj5JsPU"
      }
    },
    {
      "cell_type": "markdown",
      "source": [
        "## 2.1 Descripción del QuickSort.\n",
        "\n",
        "Lo primero que hay que saber es que necesita el QuickSort para realizar su ordenamiento, los datos que necesitas son: **un arreglo de entrada, la posición inicial del arreglo y la posición final del arreglo**.\n",
        "\n",
        "Como se mencionó en el punto anterior el QuickSort cuenta con una función a la cual se le llama **partition**, esta función es la encargada de ordenar el arreglo mediante un pivote que se escoge dentro del arreglo, el pivote no es más que un dato perteneciente al arreglo, pero la eficiencia del algoritmo depende totalmente del pivote que se escoge ya que las comparaciones se hacen con este pivote. Primero el pivote se intercambia por el último dato del arreglo y ahora empezamos a comparar los datos con el pivote, si el dato que se compara es menor que el pivote este se coloca en un sub-arreglo a la izquierda y si es mayor en un sub-arreglo a la derecha del sub-arreglo a la izquierda, estos dos sub-arreglos se obtienen mediante el manejo de los índices. Una vez que se terminan los datos a comparar el pivote es colocado entre los dos arreglos y esta función **retorna la posición del pivote**. Esto se puede hacer un poco complicado solo con palabras, pero en el ejemplo del siguiente punto se verá menor.\n",
        "\n",
        "Ya explicada la función partition solo falta el cómo funcionan las llamadas recursivas de este algoritmo. Estas recursiones son para poder dividir el arreglo en 2, pero estas no hacen partiendo el largo en dos (n//2), estas se hacen mediante la posición del pivote que es retornada de la función partition, por lo que un sub-arreglo es desde el inicio hasta el pivote y el otro sub-arreglo es desde el pivote+1 hasta el final. Esto se realiza hasta que los largos de esto arreglo sean 1.\n"
      ],
      "metadata": {
        "id": "O2wMHS2tOFXV"
      }
    },
    {
      "cell_type": "markdown",
      "source": [
        "## 2.2 Ejemplo paso a paso del QuickSort.\n",
        "\n",
        "Para este ejemplo arreglo = [4,9,12,3,5,1]\n",
        "\n",
        "Se llama a la función partition y empieza el algoritmo.\n",
        "\n",
        "Para escoger el pivote usaremos como función pivote = arreglo[inicio].\n",
        "\n",
        "El pivote en el arreglo de ejemplo seria **(4)**. \n",
        "\n",
        "Índice de inicio del sub-arreglo derecho i = 0, esto lo usaremos para después de comparar todo el arreglo intercambiar el dato de la posición i con la del pivote.\n",
        "\n",
        "Intercambiamos la posición del pivote con la del ultima posición del arreglo.\n",
        "\n",
        "Por lo que el arreglo quedaría [1,9,12,3,5,**4**].\n",
        "\n",
        "La primera comparación seria **1 < 4**.\n",
        "\n",
        "Se aumentan la i y pasa a ser 1.\n",
        "\n",
        "Se inicializa el sub-arreglo izquierdo [(1),9,12,3,5,**4**] .\n",
        "\n",
        "La siguiente comparación seria **9 > 4**.\n",
        "\n",
        "Se mantiene la i.\n",
        "\n",
        "Se inicializa el sub-arreglo derecho [(1),(9),12,3,5,**4**].\n",
        "\n",
        "La siguiente comparación seria **12 > 4**.\n",
        "\n",
        "Se mantiene la i.\n",
        "\n",
        "Se actualiza el sub-arreglo derecho [(1),(9,12),3,5,**4**].\n",
        "\n",
        "La siguiente comparación seria **3 < 4**.\n",
        "\n",
        "Se intercambia la posición del 3 con la posición del 9.\n",
        "\n",
        "Se aumentan la i y pasa a ser 2.\n",
        "\n",
        "Se actualizan los dos sub-arreglos [(1,3),(12,9),5,**4**].\n",
        "\n",
        "La siguiente comparación seria **5 > 4**.\n",
        "\n",
        "Se mantiene la i.\n",
        "\n",
        "Se actualiza el sub-arreglo derecho [(1,3),(12,9,5),**4**].\n",
        "\n",
        "Ahora ya con los dos sub-arreglos completos se intercambia la posición del pivote con el dato de la posición i.\n",
        "\n",
        "Se actualiza el arreglo [1,3,4,9,5,12].\n",
        "\n",
        "La función partition devuelve la **posición del pivote que es 2 esta posición es la que guarda la i**.\n",
        "\n",
        "Ahora se llama de forma recursiva el QuickSort para el sub-arreglo izquierdo [1,3,4] y para el sub-arreglo derecho [9,5,12].\n",
        "\n",
        "Seguimos con sub-arreglo izquierdo [1,3,4].\n",
        "\n",
        "El pivote es el **(1)**.\n",
        "\n",
        "Índice del final del sub-arreglo izquierdo i = 0.\n",
        "\n",
        "Intercambiamos la posición del pivote con la del ultima posición del arreglo.\n",
        "\n",
        "Por lo que el arreglo quedaría [4,3,**1**].\n",
        "\n",
        "La primera comparación de este sub-arreglo seria **4 > 1**.\n",
        "\n",
        "Se mantiene la i.\n",
        "\n",
        "Se inicializa el sub-arreglo derecho [(4),3,**1**].\n",
        "\n",
        "La siguiente comparación seria **3 > 1**.\n",
        "\n",
        "Se mantiene la i.\n",
        "\n",
        "Se actualiza el sub-arreglo derecho [(4,3),**1**].\n",
        "\n",
        "Ahora ya con todas las comparaciones de este sub-arreglo intercambiamos la posición del 1 con la del 4 ya que la posición del 4 es el inicio del sub-arreglo derecho [1,3,4], el return de esta función es la posición del 1 que se guarda en la j.\n",
        "\n",
        "Se llama de forma recursiva el QuickSort para el sub-arreglo izquierdo [1], como tiene largo 1 se entiende que esta ordenado y se retorna.\n",
        "\n",
        "Se llama el QuickSort de forma recursiva para el sub-arreglo derecho [3,4].\n",
        "\n",
        "El pivote es **3**.\n",
        "\n",
        "El pivote pasa a la última posición [4,**3**].\n",
        "\n",
        "La primera comparación de este sub-arreglo seria **4 > 3**.\n",
        "\n",
        "se mantiene i.\n",
        "\n",
        "Se inicializa el sub-arreglo derecho [(4),**3**], pero como es la última comparación se intercambian las posiciones entre estos dos datos quedando [3,4]. Al separar este sub-arreglo en 2 quedarían sub-arreglos de largo 1 por lo que se entiende que están ordenados.\n",
        "\n",
        "Seguimos con sub-arreglo derecho [9,5,12].\n",
        "\n",
        "El pivote es el **(9)**.\n",
        "\n",
        "Índice de inicio del sub-arreglo izquierdo i = 0.\n",
        "\n",
        "El pivote pasa a la última posición [12,5,**9**].\n",
        "\n",
        "La primera comparación de este sub-arreglo seria **12 > 9**.\n",
        "\n",
        "Se mantiene la i.\n",
        "\n",
        "Se inicializa el sub-arreglo derecho [(12),5,**9**].\n",
        "\n",
        "La siguiente comparación seria **5 < 9**.\n",
        "\n",
        "Se intercambia la posición del 5 con la posición del 12.\n",
        "\n",
        "Se aumentan la i y pasa a ser 1.\n",
        "\n",
        "Se inicializa el sub-arreglo izquierdo [(5),(12),**9**].\n",
        "\n",
        "Ahora se intercambia la posición del pivote con la posición del 12 en este caso por lo que el sub-arreglo pasa a ser [5,9,12].\n",
        "\n",
        "El sub-arreglo derecho queda con un solo dato que sería [12] por lo que se entiende que esta ordenado.\n",
        "\n",
        "Se llama el QuickSort de forma recursiva para el sub-arreglo derecho [5,9].\n",
        "\n",
        "El pivote es **5**.\n",
        "\n",
        "El pivote pasa a la última posición [9,**5**].\n",
        "\n",
        "La primera comparación de este sub-arreglo seria **9 > 5**.\n",
        "\n",
        "se mantiene i.\n",
        "\n",
        "Se inicializa el sub-arreglo derecho [(9),**5**], pero como es la última comparación se intercambian las posiciones entre estos dos datos quedando [5,9]. Al separar este sub-arreglo en 2 quedarían sub-arreglos de largo 1 por lo que se entiende que están ordenados. Con esto terminamos con las comparaciones quedando lo siguiente. \n",
        "\n",
        "El arreglo principal: [1, 3, 4, 5, 9, 12].\n",
        "\n"
      ],
      "metadata": {
        "id": "1Qg6nc4nN2yh"
      }
    },
    {
      "cell_type": "markdown",
      "source": [
        "## 2.3 Código del QuickSort."
      ],
      "metadata": {
        "id": "wxPNf1Jy0nx_"
      }
    },
    {
      "cell_type": "code",
      "source": [
        "from numpy import less\n",
        "import random\n",
        "from termcolor import colored\n",
        "import copy\n",
        "\n",
        "def quicksort(arreglo, izquierda, derecha, cont = 0, verbose = False):\n",
        "    if len(arreglo) == 1: #Condicion para terminar las recursiones.\n",
        "        return cont\n",
        "\n",
        "    if izquierda < derecha:\n",
        "        posPivote, cont= particionPivoteDere(izquierda, derecha, arreglo, cont, verbose)\n",
        "        cont = quicksort(arreglo, izquierda, posPivote-1, cont, verbose)  # llamada recusiva del sub-arreglo izquierdo.\n",
        "        cont = quicksort(arreglo, posPivote+1, derecha, cont, verbose)  # Rllamada recusiva del sub-arreglo derecho.\n",
        "\n",
        "    return cont\n",
        "\n",
        "#Partition escojiendo el ultimo dato como pivote.\n",
        "def particionPivoteDere(izquierda, derecha, arreglo, cont, verbose):\n",
        "\n",
        "    pivote, ptr = arreglo[derecha], izquierda\n",
        "\n",
        "    if(verbose == True):\n",
        "\n",
        "      print(\"El sub-arreglo a ordenar es:\", arreglo[:derecha+1])\n",
        "\n",
        "      print(\"Pivote seleccionado:\", pivote)\n",
        "      print(\"Inidice donde termine el sub-arreglo izqui y empieza el sub-arreglo derecho:\", ptr)\n",
        "\n",
        "    for i in range(izquierda, derecha):\n",
        "\n",
        "        if(verbose == True):\n",
        "\n",
        "            print(\"Comparamos:\", arreglo[i], \"con el pivote\", pivote)\n",
        "\n",
        "        cont += 1\n",
        "\n",
        "        if arreglo[i] <= pivote:\n",
        "\n",
        "            if(verbose == True):\n",
        "\n",
        "              print(\"El pivote es mayor que el numero a comparar:\", arreglo[i], \"<=\" , pivote)\n",
        "\n",
        "              print(\"Aumentamos el indice:\", ptr + 1 )\n",
        "\n",
        "            # Swapping values smaller than the pivot to the front\n",
        "            arreglo[i], arreglo[ptr] = arreglo[ptr], arreglo[i]\n",
        "            ptr += 1\n",
        "\n",
        "        elif(verbose == True):\n",
        "\n",
        "            print(\"El pivote es menor que el numero a comparar:\", arreglo[i], \">\" , pivote)\n",
        "\n",
        "            print(\"El inice se mantiene\")\n",
        "\n",
        "    # Finally swapping the last element with the pointer indexed number\n",
        "    arreglo[ptr], arreglo[derecha] = arreglo[derecha], arreglo[ptr]\n",
        "\n",
        "    if(verbose == True):\n",
        "\n",
        "      print(\"Movemos el pivote a la posicion del indice:\", ptr)\n",
        "\n",
        "      print(\"Arreglo de salida del partition:\", arreglo)\n",
        "      print(\" \")\n",
        "\n",
        "    return ptr, cont\n",
        "\n",
        "#Partition escojiendo el primer dato como pivote.\n",
        "def particionPivoteIzqui(izquierda, derecha, arreglo, cont, verbose):\n",
        "\n",
        "    pivote, ptr = arreglo[izquierda], izquierda #cambiar luego\n",
        "\n",
        "    arreglo[ptr], arreglo[derecha] = arreglo[derecha], arreglo[ptr]\n",
        "\n",
        "    for i in range(izquierda, derecha):\n",
        "        if arreglo[i] <= pivote:\n",
        "\n",
        "            arreglo[i], arreglo[ptr] = arreglo[ptr], arreglo[i]\n",
        "            ptr += 1\n",
        "\n",
        "    arreglo[ptr], arreglo[derecha] = arreglo[derecha], arreglo[ptr]\n",
        "\n",
        "    return ptr, cont\n",
        "\n",
        "def particionPivoteMediana(izquierda, derecha, arreglo, cont):\n",
        "\n",
        "    posRandom = random.sample(range(izquierda, derecha), 3)\n",
        "\n",
        "    a = max(arreglo[posRandom[0]],arreglo[posRandom[1]],arreglo[posRandom[2]])\n",
        "\n",
        "    b = min(arreglo[posRandom[0]],arreglo[posRandom[1]],arreglo[posRandom[2]])\n",
        "\n",
        "    for i in range(0,2):\n",
        "\n",
        "      if(arreglo[posRandom[i]] != a and arreglo[posRandom[i]] != b):\n",
        "\n",
        "        pivote, ptr = arreglo[posRandom[i]], izquierda\n",
        "        arreglo[posRandom[i]], arreglo[derecha] = arreglo[derecha], arreglo[posRandom[i]]\n",
        "\n",
        "      elif(arreglo[posRandom[i]] != a and arreglo[posRandom[i]] == b):\n",
        "\n",
        "        pivote, ptr = b, izquierda\n",
        "        arreglo[ptr], arreglo[derecha] = arreglo[derecha], arreglo[ptr]\n",
        "        arreglo[posRandom[i]], arreglo[derecha] = arreglo[derecha], arreglo[posRandom[i]]\n",
        "\n",
        "      elif(arreglo[posRandom[i]] == a and arreglo[posRandom[i]] != b):\n",
        "\n",
        "        pivote, ptr = b, izquierda\n",
        "        arreglo[posRandom[i]], arreglo[derecha] = arreglo[derecha], arreglo[posRandom[i]]\n",
        "\n",
        "\n",
        "    for i in range(izquierda, derecha):\n",
        "\n",
        "        cont += 1\n",
        "\n",
        "        if arreglo[i] <= pivote:\n",
        "\n",
        "            arreglo[i], arreglo[ptr] = arreglo[ptr], arreglo[i]\n",
        "            ptr += 1\n",
        "\n",
        "    arreglo[ptr], arreglo[derecha] = arreglo[derecha], arreglo[ptr]\n",
        "\n",
        "    return ptr, cont\n",
        "\n",
        "arregloInicial = [4,9,12,3,5,1]\n",
        "print(\"Entrada: \",arregloInicial)\n",
        "\n",
        "cont = quicksort(arregloInicial, 0 ,len(arregloInicial)-1)\n",
        "\n",
        "print(\"Después de ordenarlo:\", arregloInicial)\n",
        "\n",
        "print(\"Comparaciones realizadas:\", cont)"
      ],
      "metadata": {
        "colab": {
          "base_uri": "https://localhost:8080/"
        },
        "id": "iJUSxu9mMFrI",
        "outputId": "7779f56b-ceeb-4e64-af71-08d8866ce296"
      },
      "execution_count": 166,
      "outputs": [
        {
          "output_type": "stream",
          "name": "stdout",
          "text": [
            "Entrada:  [4, 9, 12, 3, 5, 1]\n",
            "Después de ordenarlo: [1, 3, 4, 5, 9, 12]\n",
            "Comparaciones realizadas: 12\n"
          ]
        }
      ]
    },
    {
      "cell_type": "markdown",
      "source": [
        "## 2.4 Ejecución paso a paso del QuickSort (verbose = True).\n",
        "\n",
        "En este punto le ingresaremos true a la variable verbose para que el algoritmo nos muestre el paso a pasa al momento de ordenar un arreglo random."
      ],
      "metadata": {
        "id": "nJ3ZYBIVbXPH"
      }
    },
    {
      "cell_type": "code",
      "source": [
        "import random\n",
        "arreglo = random.sample(range(-100, 100), 6)\n",
        "\n",
        "print(\"Arreglo de entrada : \", arreglo)\n",
        "print(\" \")\n",
        "\n",
        "largo = len(arreglo)\n",
        "\n",
        "cont = quicksort(arreglo, 0, largo-1, verbose=True)\n",
        "\n",
        "print(\"Arreglo de salida : \", arreglo)\n",
        "print(\"Comparaciones realizadas:\", cont)"
      ],
      "metadata": {
        "colab": {
          "base_uri": "https://localhost:8080/"
        },
        "id": "TWc2CXIZ0BKm",
        "outputId": "fe1754ac-d60a-446e-c018-6080b4ecba07"
      },
      "execution_count": 150,
      "outputs": [
        {
          "output_type": "stream",
          "name": "stdout",
          "text": [
            "Arreglo de entrada :  [13, -23, -46, 9, 16, -6]\n",
            " \n",
            "El sub-arreglo a ordenar es: [13, -23, -46, 9, 16, -6]\n",
            "Pivote seleccionado: -6\n",
            "Inidice donde termine el sub-arreglo izqui y empieza el sub-arreglo derecho: 0\n",
            "Comparamos: 13 con el pivote -6\n",
            "El pivote es menor que el numero a comparar: 13 > -6\n",
            "El inice se mantiene\n",
            "Comparamos: -23 con el pivote -6\n",
            "El pivote es mayor que el numero a comparar: -23 <= -6\n",
            "Aumentamos el indice: 1\n",
            "Comparamos: -46 con el pivote -6\n",
            "El pivote es mayor que el numero a comparar: -46 <= -6\n",
            "Aumentamos el indice: 2\n",
            "Comparamos: 9 con el pivote -6\n",
            "El pivote es menor que el numero a comparar: 9 > -6\n",
            "El inice se mantiene\n",
            "Comparamos: 16 con el pivote -6\n",
            "El pivote es menor que el numero a comparar: 16 > -6\n",
            "El inice se mantiene\n",
            "Movemos el pivote a la posicion del indice: 2\n",
            "Arreglo de salida del partition: [-23, -46, -6, 9, 16, 13]\n",
            " \n",
            "El sub-arreglo a ordenar es: [-23, -46]\n",
            "Pivote seleccionado: -46\n",
            "Inidice donde termine el sub-arreglo izqui y empieza el sub-arreglo derecho: 0\n",
            "Comparamos: -23 con el pivote -46\n",
            "El pivote es menor que el numero a comparar: -23 > -46\n",
            "El inice se mantiene\n",
            "Movemos el pivote a la posicion del indice: 0\n",
            "Arreglo de salida del partition: [-46, -23, -6, 9, 16, 13]\n",
            " \n",
            "El sub-arreglo a ordenar es: [-46, -23, -6, 9, 16, 13]\n",
            "Pivote seleccionado: 13\n",
            "Inidice donde termine el sub-arreglo izqui y empieza el sub-arreglo derecho: 3\n",
            "Comparamos: 9 con el pivote 13\n",
            "El pivote es mayor que el numero a comparar: 9 <= 13\n",
            "Aumentamos el indice: 4\n",
            "Comparamos: 16 con el pivote 13\n",
            "El pivote es menor que el numero a comparar: 16 > 13\n",
            "El inice se mantiene\n",
            "Movemos el pivote a la posicion del indice: 4\n",
            "Arreglo de salida del partition: [-46, -23, -6, 9, 13, 16]\n",
            " \n",
            "Arreglo de salida :  [-46, -23, -6, 9, 13, 16]\n",
            "Comparaciones realizadas: 8\n"
          ]
        }
      ]
    },
    {
      "cell_type": "markdown",
      "source": [
        "# 3. Tiempo de ejecución. \n",
        "\n",
        "## 3.1 Teorema para el tiempo de ejecución.\n",
        "\n",
        "El tiempo de ejecución de manera teórica tiene el algoritmo del QuickSort para ordenar un arreglo es en notación O es de **O(n log n)** para el mejor caso y \n",
        "el tiempo de ejecución para el peor caso es de **O(n^2)**.\n",
        "\n",
        "## 3.2 comprobación del teorema para el mejor caso.\n",
        "\n",
        "Primero tenemos que saber cuál es el mejor caso. El mejor caso es cuando la llamada recursiva del QuickSort está completamente balanceada, es decir que a cada llamada recursiva se le entrega un sub-arreglo de largo n/2 por lo que función de recurrencia para el mejor caso **T(n) = 2T(n/2) + O(n)**.\n",
        "\n",
        "Ahora teniendo la función recursiva explicara que representa cada dato en ella. Primero empecemos por lo que representa **O(n)**, este es el tiempo de ejecución de la función partition, este siempre será **O(n)** porque dentro de sus procesos se encuentra un ciclo repetitivo el cual recorre los n elementos del arreglo que se le entregan. Ahora pasemos a lo que representa **2T(n/2)**, El primer dos es la cantidad de veces que se llama a la función QuickSort, el parámetro n/2 representa en cuanto se divide el arreglo que se le entrega al QuickSort.\n",
        "\n",
        "Ya con la función recursiva de explicada tenemos que sacar el tiempo de ejecución, por la forma que tiene esta fórmula la mejor manera es ocupando el teorema maestro, este teorema propone que mediante una fórmula que sea **T(n) ≤ aT(n/b) + O(n^d)** existen 3 casos para el cálculo de recurrencia. \n",
        "\n",
        "\n",
        "1.   Si a = b^d --> en notación O será O(n^d log n)\n",
        "2.   Si a < b^d --> en notación O será O(n^d)\n",
        "3.   Si a > b^d --> en notación O será O(n^log base b a)\n",
        "\n",
        "Para aplicar este teorema vemos que nuestra **a = 2, b = 2 y d = 1** por lo que estamos en el primer caso por lo siguiente **2 = 2^1** lo cual es correcto por lo que nuestro tiempo de ejecución en notación O seria O(n log n).\n",
        "\n",
        "Gracias a lo obtenido por el teorema maestro podemos concluir que nuestro teorema en el tiempo de ejecución para el mejor caso es correcto.\n",
        "\n",
        "## 3.3 Comprobación del teorema para el peor caso.\n",
        "\n",
        "Primero tenemos que saber cuál es el peor caso para el QuickSort. El peor caso es cuando sucesivamente los pivotes sé que escogen son el dato mayor del sub-arreglo que recibe el QuickSort, esto se debe a que la llamada recursiva del quicksort será llamada para los datos de n-1 y así sucesivamente hasta llegar a 1, esto nos dejaría con una función de recurrencia para el peor caso de **T(n) = T(n-1) + T(0) + O(n)**.\n",
        "\n",
        "Si analizamos el árbol de recursión de este caso nos da que su altura es de n, y como ya sabemos la función partition tiene un tiempo de ejecución de O(n) (esto fue explicado en la comprobación anterior), también hay que saber que la función partition es llamada en cada nivel del árbol por lo que es llamada n veces (n*n) por lo cual nos dejaría un tiempo de ejecución de O(n^2).\n",
        "\n",
        "Con lo anterior podemos concluir que nuestro teorema para el tiempo de ejecución en el peor caso es correcto.\n"
      ],
      "metadata": {
        "id": "UmHdR4mWLnTt"
      }
    },
    {
      "cell_type": "markdown",
      "source": [
        "# 4. Correctitud del QuickSort.\n",
        "\n",
        "Para este algoritmo realizaremos dos teoremas de correctitud, uno función partition del algoritmo y otro para la función recursiva que sería el QuickSort\n",
        "\n",
        "## 4.1 Teorema 1 de correctitud para la función Partition\n",
        "\n",
        "La función Partition recibe un sub-arreglo, el inicio del sub-arreglo y el final del sub-arreglo y la función partition devuelve una posición, a la izquierda de esta posición solo se encuentran datos menores al dato en la posición retornada y a la derecha de esta posición se encuentran solo datos mayores al dato de la posición retornada.\n",
        "\n",
        "## 4.2 Comprobación del teorema 1\n",
        "\n",
        "Primero para comprobar el teorema anterior usaremos la **propiedad invariante de bucle** \"*Al comienzo de la cada iteración el sub-arreglo izquierda --> i-1 tiene los datos más pequeños y el sub-arreglo i --> derecha tiene los datos más grandes*\".\n",
        "\n",
        "**Inicialización:** \n",
        "\n",
        "Al comienzo de la primera iteración estos dos sub-arreglos no han sido inicializados ya que no se ha realizado ninguna comparación por lo que se puede afirmar que el teorema es correcto.\n",
        "\n",
        "**Mantención:**\n",
        "\n",
        "Cuando se avanzan en la iteraciones estos dos sub-arreglo se empiezan a llenar con los datos del sub-arreglo que entra, el sub-arreglo izquierda->i-1 siempre tiene los datos más pequeños porque la i solo se aumenta si el dato que se compara con el pivote es menor, pero puedes pensar si antes de esta dato que es más pequeño se encuentra uno que es más grande que el pivote esto no se cumple, pues si pasa esto el algoritmo cambia las posición del dato más pequeños con el dato de la posición i para que esta condición siempre se cumpla.\n",
        "\n",
        "**Correctitud:**\n",
        "\n",
        "Como conclusión, como la propiedad invariante del bucle es verdadera al inicio y también se mantiene en cada iteración, es correcto el teorema propuesto al principio.\n",
        "\n",
        "## 4.3 Teorema 2 de correctitud para la función QuickSort\n",
        "\n",
        "El teorema para la función recursiva QuickSort es \"la función recibe un arreglo a[x1, x2, x3, ... , xn] y retorna el mismo arreglo de entrada pero con sus datos ordenados de menor a mayor [x1 ≤ x2 ≤ x3 ≤ ... ≤ xn] \"\n",
        "\n",
        "## 4.4 comprobación del teorema 2\n",
        "\n",
        "**Caso base:** El caso base para esta función es cuando el largo del arreglo es 1 por lo que al contener solo un elemento por lo que se puede concluir que esta ordenado.\n",
        "\n",
        "**Caso general (n > 1):** Se asume que QuickSort es correcto para los problemas de tamaño m < n. Cuando El arreglo de entrada es de tamaño n > 1 el algoritmo llama a la función partition para que mediante un pivote deje dentro del arreglo a la izquierda del pivote los datos más pequeños y a la derecha del pivote los datos más grandes y por último retorna la posición del pivote (sabemos que la función partition es correcta por el teorema 1). Con esta posición se llama recursivamente 2 veces a Quicksort y les entrega sub-arreglos, uno que va desde el inicio del arreglo hasta la posición del pivote y otro que va desde la posición del pivote + 1 hasta el final del arreglo, con esto dividimos el problema en 2 y por lo mencionado al inicio de este párrafo sabemos que el QuickSort es correcto para cualquier problema menor a n por lo que las llamadas recursivas son correctas.\n",
        "\n",
        "Con lo mencionado anterior mente en el caso base y en el caso general podemos concluir que el teorema 2 es correcto.\n"
      ],
      "metadata": {
        "id": "yzhK62LWYFLu"
      }
    },
    {
      "cell_type": "markdown",
      "source": [
        "# 5. Experimentos varios"
      ],
      "metadata": {
        "id": "mtzhZE9Nz69n"
      }
    },
    {
      "cell_type": "markdown",
      "source": [
        "## 5.1 Comparación entre el mejor, el peor y el caso promedio del QuickSort (comparaciones realizadas)\n",
        "\n",
        "En este experimento se compararan en un gráfico el mejor caso teórico que es **(n log2 n)**, el peor caso teórico el cual es **(n^2)** y la implementación del código QuickSort.\n"
      ],
      "metadata": {
        "id": "pmX1GOzLoaBZ"
      }
    },
    {
      "cell_type": "code",
      "source": [
        "def quicksort2(arreglo, izquierda, derecha, cont = 0, verbose = False):\n",
        "    if len(arreglo) == 1:\n",
        "        return cont\n",
        "\n",
        "    if izquierda < derecha:\n",
        "        posPivote, cont = particionPivoteMediana(izquierda, derecha, arreglo, cont)\n",
        "        cont = quicksort(arreglo, izquierda, posPivote-1, cont, verbose)\n",
        "        cont = quicksort(arreglo, posPivote+1, derecha, cont, verbose)\n",
        "\n",
        "    return cont"
      ],
      "metadata": {
        "id": "g3CsUJRCt2o3"
      },
      "execution_count": 135,
      "outputs": []
    },
    {
      "cell_type": "code",
      "source": [
        "import matplotlib.pyplot as plt\n",
        "import random\n",
        "import math\n",
        "\n",
        "x=[n for n in range(5,20)] \n",
        "y1=[n^2 for n in range(5,20)]; # worst case\n",
        "y2=[n * math.log2(n) for n in range(5,20)] # best/worst case\n",
        "y=[]; \n",
        "\n",
        "\n",
        "\n",
        "for n in range(5,20):\n",
        "  contador = 0\n",
        "  arregloRandom= random.sample(range(1, 100), n)\n",
        "  arr = arregloRandom\n",
        "\n",
        "  largo = len(arregloRandom) - 1\n",
        "\n",
        "  counter = quicksort(arr, 0, largo)\n",
        "  y.append(counter)\n",
        "\n",
        "\n",
        "plt.plot(x,y)\n",
        "plt.plot(x,y1)\n",
        "plt.plot(x,y2)\n",
        "plt.legend([\"QuickSort caso promedio\",\"Quicksort mejor caso teorico\",\"QuickSort peor caso teorico\"])\n",
        "\n",
        "plt.xlabel('n')\n",
        "plt.ylabel('number of operations')\n",
        "plt.show()"
      ],
      "metadata": {
        "colab": {
          "base_uri": "https://localhost:8080/",
          "height": 279
        },
        "id": "g0leet8Mt-uX",
        "outputId": "cb1d3776-24ce-4f07-f496-40f550c0740e"
      },
      "execution_count": 180,
      "outputs": [
        {
          "output_type": "display_data",
          "data": {
            "text/plain": [
              "<Figure size 432x288 with 1 Axes>"
            ],
            "image/png": "[encoded data removed]"
          },
          "metadata": {
            "needs_background": "light"
          }
        }
      ]
    },
    {
      "cell_type": "markdown",
      "source": [
        "## 5.2 Comparación entre dos métodos para el partition (tiempo de ejecución)\n",
        "\n",
        "En este experimento se compararán el tiempo de ejecución entre una función partition que usa como **pivote el último dato del arreglo** y una función partition que usa como **pivote la mediana de 3 datos random del arreglo**.\n"
      ],
      "metadata": {
        "id": "6yMcOAXgiIW-"
      }
    },
    {
      "cell_type": "code",
      "source": [
        "from numpy.core.fromnumeric import size\n",
        "import matplotlib.pyplot as plt\n",
        "import datetime\n",
        "from timeit import repeat\n",
        "import random\n",
        "\n",
        "x=[]; y=[]; y2=[]\n",
        "\n",
        "cont = 0\n",
        "\n",
        "for n in range(5,500):\n",
        "\n",
        "  a = random.sample(range(1, 1000), n)\n",
        "  arr = a\n",
        "\n",
        "  largo = len(a) - 1\n",
        "\n",
        "  #la función repeat está ejecutando 20 veces bubble_sort con el arreglo a y retorna el mejor tiempo obtenido.\n",
        "  t = repeat(setup=\"from __main__ import quicksort\", stmt=f\"quicksort({arr},{0},{largo})\", repeat=1, number=10)\n",
        "  t2 = repeat(setup=\"from __main__ import quicksort2\", stmt=f\"quicksort2({a},{0},{largo})\", repeat=1, number=10)\n",
        "\n",
        "  x.append(n)\n",
        "  y.append(t)\n",
        "  y2.append(t2)\n",
        "\n",
        "plt.plot(x,y)\n",
        "plt.plot(x,y2)\n",
        "\n",
        "plt.legend([\"QuickSort como pivote el ulitmo dato\",\"Quicksort como pivote la mediana de 3 datos random\"])\n",
        "\n",
        "plt.xlabel('n')\n",
        "plt.ylabel('time in ms')\n",
        "plt.show()"
      ],
      "metadata": {
        "colab": {
          "base_uri": "https://localhost:8080/",
          "height": 279
        },
        "id": "QmqsasM4jMKu",
        "outputId": "af05a50b-5514-4e84-a649-c81bb9b84f69"
      },
      "execution_count": 169,
      "outputs": [
        {
          "output_type": "display_data",
          "data": {
            "text/plain": [
              "<Figure size 432x288 with 1 Axes>"
            ],
            "image/png": "[encoded data removed]"
          },
          "metadata": {
            "needs_background": "light"
          }
        }
      ]
    },
    {
      "cell_type": "markdown",
      "source": [
        "En este grafico podemos observar que las dos implementaciones del partition son muy parecidas, pero en algunas ocasiones uno se demora más en ejecutarse que el otro, esto se debe a que todo depende del dato que toque al momento de escoger el pivote ya que puede que justo escojamos el mayor o el menor dato de todo el arreglo y nos haga que el árbol de recursión se encuentre desbalanceado y esto significa que tengamos que hacer más llamadas recursivas."
      ],
      "metadata": {
        "id": "9iDOqLws_KEj"
      }
    },
    {
      "cell_type": "markdown",
      "source": [
        "## 5.3 Comparación MergeSort v/s QuickSort (tiempo de ejecución).\n",
        "\n",
        "En este experimento se realizará una comparación entre los tiempos de ejecución de dos algoritmos de ordenamiento, uno será el MergeSort y el otro será el QuickSort que es el estudiado en este informe.\n"
      ],
      "metadata": {
        "id": "veAPLIQjaYoa"
      }
    },
    {
      "cell_type": "code",
      "source": [
        "#Codigo para realizar los experimentos.\n",
        "\n",
        "def MergeSort(arreglo, cont, verbose = False):\n",
        "  \n",
        "  mitad = len(arreglo) // 2\n",
        "\n",
        "  if len(arreglo) < 2:\n",
        "      return arreglo, cont\n",
        "\n",
        "  arregloDere, cont = MergeSort(arreglo[:mitad], cont, verbose)\n",
        "\n",
        "  arregloIzqui, cont = MergeSort(arreglo[mitad:], cont, verbose)\n",
        "\n",
        "  arreglo, cont = merge(arregloDere, arregloIzqui, cont, verbose)\n",
        "\n",
        "  return arreglo, cont\n",
        "\n",
        "def merge(arregloDere, arregloIzqui, cont, verbose):\n",
        "\n",
        "  i,j = 0,0\n",
        "\n",
        "  arreglo = [] \n",
        "\n",
        "  while(i < len(arregloDere) and j < len(arregloIzqui)):\n",
        "\n",
        "    cont +=1 \n",
        "\n",
        "    if (arregloDere[i] < arregloIzqui[j]):\n",
        "\n",
        "      arreglo.append(arregloDere[i])\n",
        "      i += 1 \n",
        "    else:\n",
        "        \n",
        "      arreglo.append(arregloIzqui[j])\n",
        "      j += 1\n",
        "\n",
        "  arreglo += arregloDere[i:]\n",
        "  arreglo += arregloIzqui[j:]\n",
        "\n",
        "  return arreglo, cont"
      ],
      "metadata": {
        "id": "m-r3rXXG0TA4"
      },
      "execution_count": 46,
      "outputs": []
    },
    {
      "cell_type": "code",
      "source": [
        "from numpy.core.fromnumeric import size\n",
        "import matplotlib.pyplot as plt\n",
        "import datetime\n",
        "from timeit import repeat\n",
        "import random\n",
        "\n",
        "x=[]; y=[]; y2=[]\n",
        "\n",
        "cont = 0\n",
        "\n",
        "for n in range(5,500):\n",
        "\n",
        "  a = random.sample(range(1, 1000), n)\n",
        "  arr = a\n",
        "\n",
        "  largo = len(a) - 1\n",
        "\n",
        "  #la función repeat está ejecutando 20 veces bubble_sort con el arreglo a y retorna el mejor tiempo obtenido.\n",
        "  t = repeat(setup=\"from __main__ import quicksort\", stmt=f\"quicksort({arr},{0},{largo})\", repeat=1, number=10)\n",
        "  t2 = repeat(setup=\"from __main__ import MergeSort\", stmt=f\"MergeSort({a},{cont},{largo})\", repeat=1, number=10)\n",
        "\n",
        "  x.append(n)\n",
        "  y.append(t)\n",
        "  y2.append(t2)\n",
        "\n",
        "plt.plot(x,y)\n",
        "plt.plot(x,y2)\n",
        "\n",
        "plt.legend([\"QuickSort\",\"MergeSort\"])\n",
        "\n",
        "plt.xlabel('n')\n",
        "plt.ylabel('time in ms')\n",
        "plt.show()"
      ],
      "metadata": {
        "colab": {
          "base_uri": "https://localhost:8080/",
          "height": 279
        },
        "id": "wzzxt2ZPZOOr",
        "outputId": "8ff8a600-5fa3-4579-87c1-50e096ef65b8"
      },
      "execution_count": 171,
      "outputs": [
        {
          "output_type": "display_data",
          "data": {
            "text/plain": [
              "<Figure size 432x288 with 1 Axes>"
            ],
            "image/png": "[encoded data removed]"
          },
          "metadata": {
            "needs_background": "light"
          }
        }
      ]
    },
    {
      "cell_type": "markdown",
      "source": [
        "Como se puede observar el MergeSort tiene peor tiempo de ejecución que el QuickSort, pero por que existe esta diferencia si de manera teórica los dos algoritmos tienen complejidad temporal **O(n log n)**? Puede que el MergeSort y el QuickSort realicen las mismas comparaciones pero MergeSort tiene que realizar más pasos al momento de entregar un arreglo con los datos ordenados, ya que el MergeSort utiliza un arreglo nuevo al que debe ir insertando los datos de dos sub-arreglos en orden y el QuickSort realiza cambios de posiciones entre los datos en el mismo arreglo."
      ],
      "metadata": {
        "id": "ChOgS4mNfEDm"
      }
    }
  ]
}