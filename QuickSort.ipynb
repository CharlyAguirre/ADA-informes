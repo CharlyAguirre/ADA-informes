{
  "nbformat": 4,
  "nbformat_minor": 0,
  "metadata": {
    "colab": {
      "provenance": [],
      "toc_visible": true,
      "authorship_tag": "ABX9TyPWhvpLw9uI9Ckjmwu+HfGQ",
      "include_colab_link": true
    },
    "kernelspec": {
      "name": "python3",
      "display_name": "Python 3"
    },
    "language_info": {
      "name": "python"
    }
  },
  "cells": [
    {
      "cell_type": "markdown",
      "metadata": {
        "id": "view-in-github",
        "colab_type": "text"
      },
      "source": [
        "<a href=\"https://colab.research.google.com/github/CharlyAguirre/ADA-informes/blob/main/QuickSort.ipynb\" target=\"_parent\"><img src=\"https://colab.research.google.com/assets/colab-badge.svg\" alt=\"Open In Colab\"/></a>"
      ]
    },
    {
      "cell_type": "markdown",
      "source": [
        "# 1. Problema de ordenamiento.\n",
        "\n",
        "**Entrada:** Un arreglo de números que puede o no estar ordenados [x1, x2, x3, ..., xn].\n",
        "\n",
        "**Salida:** El mismo arreglo de entrada con sus datos, pero ordenados de menor a mayor [x1 ≤ x2 ≤ x3 ≤ ... ≤ xn] o de mayor a menor dependiendo de la condicion que se utilice.\n",
        "\n",
        "Los problemas de ordenamiento son muy recurrentes al momento de plantear la solución a un problema, pero ¿por qué? Estos son planteados con el fin de mantener un orden en la solución, también para una correcta y fácil manipulación de estos datos al momento de ser utilizados para la resolución de un problema mayor.\n"
      ],
      "metadata": {
        "id": "JJeh4sRbJURm"
      }
    },
    {
      "cell_type": "markdown",
      "source": [
        "# 2.QuickSort.\n",
        "\n",
        "El algoritmo QuickSort es un algoritmo que se aplica a los problemas de ordemanamiento. Este algoritmo es implementado en base al metodo de divide y venceras, esto es implemetado mediante la llamada recursiva de si mismo. Tambien consta de una funcion llamada partition, que se explicara en el siguiente punto cual es su funcion dentro del algoritmo. \n",
        "\n",
        "Dos puntos a destacar son que el QuickSort es el algoritmo de ordenamiento mas rapido conocido hasta la fecha y que el quicksort ordena el arreglo dentro del mismo arreglo que se le es entregado por lo que no es necesario usar mas espacio de la memoria al momento de realizar el ordenamiento."
      ],
      "metadata": {
        "id": "Wkqgmwj5JsPU"
      }
    },
    {
      "cell_type": "markdown",
      "source": [
        "## 2.1 Descripcion del QuickSort.\n",
        "\n",
        "Lo primero que hay que saber es que necesita el QuickSort para realizar su ordenamiento, los datos que necesitas son: **un arreglo de entrada, la posicion inicial del arreglo y la posicion final del arreglo**.\n",
        "\n",
        "Como se menciono en el punto anterior el QuickSort cuenta con una funcion a la cual se le llama **partition**, esta funcion es la encargada de ordenar el arreglo mediante un pivote que se escoje dentro del arreglo, el pivote no es mas que solo un numero dentro del arreglo, pero la eficiencia del algoritmo depende totalmente del pivote que se escoje ya que las comparaciones se hacen con este pivote. Primero el pivote se intercambia por el ultimo dato del arreglo y ahora empezamos a comparar los datos con el pivote, si el dato que se compara es menor que el pivote este se coloca en un sub-arreglo a la izquierda y si es mayor en un sub-arreglo a la derecha del sub-arreglo a la izquierda, estos dos sub-arreglos se optienen mediante el manejo de los indices. Una vez que se terminan los datos a comparar el pivote es colocado entre los dos arreglos y esta funcion **retorna la posicion del pivote**. Esto se puede hacer un poco complicado solo con palabras pero en el ejemplo del siguiente punto se vera menor.\n",
        "\n",
        "Ya explicada la funcion partition solo falta el como funcionan las llamadas recusivas de este algoritmo. Estas recursiones son para poder dividir el arreglo en 2, pero estas no hacen partiendo el largo en dos (n//2), estas se hacen miendiante la posicion del pivote que es retornada de la funcion partition, por lo que un sub-arreglo es desde el inicio hasta el pivote y el otro sub-arreglo es desde el pivote+1 hasta el final. Esto se realiza hasta que los largos de esto arreglo sean 1."
      ],
      "metadata": {
        "id": "O2wMHS2tOFXV"
      }
    },
    {
      "cell_type": "markdown",
      "source": [
        "## 2.2 Ejemplo paso a paso del QuickSort.\n",
        "\n",
        "Para este ejemplo arreglo = [4,9,12,3,5,1]\n",
        "\n",
        "Se llama a la funcion partition y empieza el algortimo.\n",
        "\n",
        "Para escojer el pivote usaremos como funcion pivote = arreglo[inicio].\n",
        "\n",
        "El pivote en el arreglo de ejemplo seria **(4)**. \n",
        "\n",
        "Inidice de inicio del sub-arreglo izquierdo i = 0.\n",
        "Inidice de inicio del sub-arreglo derecho j = 0.\n",
        "Final del sub-arreglo derecho k = 0.\n",
        "\n",
        "Por lo que el arreglo quedaria [1,9,12,3,5,**4**].\n",
        "\n",
        "La primera comparacion seria **1 < 4**.\n",
        "\n",
        "Se inicializa el sub-arreglo izquierdo [(1),9,12,3,5,**4**] .\n",
        "\n",
        "La siguiente comparacion seria **9 > 4**.\n",
        "\n",
        "Se aumentan la j y la k, pasan a ser 1.\n",
        "\n",
        "Se inicializa el sub-arreglo derecho [(1),(9),12,3,5,**4**].\n",
        "\n",
        "La siguiente comparacion seria **12 > 4**.\n",
        "\n",
        "Se aumenta la k y pasa a ser 2.\n",
        "\n",
        "Se actualiza el sub-arreglo derecho [(1),(9,12),3,5,**4**].\n",
        "\n",
        "La siguiente comparacion seria **3 < 4**.\n",
        "\n",
        "Se intercambia la posicion del 3 con la posicion del 9.\n",
        "\n",
        "Se aumenta la k = 3 y se aunmenta la j = 2.\n",
        "\n",
        "Se actualizan los dos sub-arreglos [(1,3),(12,9),5,**4**].\n",
        "\n",
        "La siguiente comparacion seria **5 > 4**.\n",
        "\n",
        "Se aumenta la k = 4.\n",
        "\n",
        "Se actualiza el sub-arreglo derecho [(1,3),(12,9,5),**4**].\n",
        "\n",
        "Ahora ya con los dos sub arreglos completos se intercambia la posicion del pivote con la primera posicion del sub-arreglo derecho\n",
        "\n",
        "Se actualiza el arreglo [1,3,4,9,5,12].\n",
        "\n",
        "La funcion partition devuelve la **posicion del pivote que es 2**.\n",
        "\n",
        "Ahora se llama de forma recursiva el QuickSort para el sub-arreglo izquierdo[1,3,4] y para el sub-arreglo derecho[9,5,12].\n",
        "\n",
        "Seguimos con sub-arreglo izquierdo[1,3,4], pivote es el **(1)**\n",
        "\n",
        "\n",
        "Seguimos con sub-arreglo derecho[9,5,12].\n",
        "\n",
        "Pivote es el **(9)**.\n",
        "\n",
        "Inidice de inicio del sub-arreglo izquierdo i = 0.\n",
        "Inidice de inicio del sub-arreglo derecho j = 0.\n",
        "Final del sub-arreglo derecho k = 0.\n",
        "\n",
        "El pivote pasa a la ultima posicion [12,5,9].\n",
        "\n",
        "La siguiente comparacion seria **12 > 9**.\n",
        "\n",
        "La j y la k se mantienen.\n",
        "\n",
        "Se inicializa el sub-arreglo derecho [(12),5,9].\n",
        "\n",
        "La siguiente comparacion seria **5 < 9**.\n",
        "\n",
        "Se intercambia la posicion del 5 con la posicion del 12.\n",
        "\n",
        "La j y la k pasan a ser 1.\n",
        "\n",
        "Se inicializa el sub-arreglo izquierdo [(5),(12),9].\n",
        "\n",
        "Ahora se intercambia la posicion del pivote con la posicion del 12 en este caso por lo que el sub-arreglo pasa a ser [5,9,12]\n",
        "\n",
        "El arreglo principal:[1, 3, 4, 5, 9, 12].\n"
      ],
      "metadata": {
        "id": "1Qg6nc4nN2yh"
      }
    },
    {
      "cell_type": "code",
      "source": [
        "def quicksort(arreglo, izquierda, derecha):\n",
        "    if izquierda < derecha:\n",
        "        indiceParticion = particion(arreglo, izquierda, derecha)\n",
        "        quicksort(arreglo, izquierda, indiceParticion)\n",
        "        quicksort(arreglo, indiceParticion + 1, derecha)\n",
        "\n",
        "\n",
        "def particion(arreglo, izquierda, derecha):\n",
        "    pivote = arreglo[izquierda]\n",
        "    while True:\n",
        "        # Mientras cada elemento desde la izquierda esté en orden (sea menor que el\n",
        "        # pivote) continúa avanzando el índice\n",
        "        while arreglo[izquierda] < pivote:\n",
        "            izquierda += 1\n",
        "\n",
        "        # Mientras cada elemento desde la derecha esté en orden (sea mayor que el\n",
        "        # pivote) continúa disminuyendo el índice\n",
        "        while arreglo[derecha] > pivote:\n",
        "            derecha -= 1\n",
        "\n",
        "        \"\"\"\n",
        "            Si la izquierda es mayor o igual que la derecha significa que no\n",
        "            necesitamos hacer ningún intercambio\n",
        "            de variables, pues los elementos ya están en orden (al menos en esta\n",
        "            iteración)\n",
        "        \"\"\"\n",
        "        if izquierda >= derecha:\n",
        "            # Indicar \"en dónde nos quedamos\" para poder dividir el arreglo de nuevo\n",
        "            # y ordenar los demás elementos\n",
        "            return derecha\n",
        "        else:\n",
        "            # Nota: yo sé que el else no hace falta por el return de arriba, pero así el algoritmo es más claro\n",
        "            \"\"\"\n",
        "                Si las variables quedaron \"lejos\" (es decir, la izquierda no superó ni\n",
        "                alcanzó a la derecha)\n",
        "                significa que se detuvieron porque encontraron un valor que no estaba\n",
        "                en orden, así que lo intercambiamos\n",
        "            \"\"\"\n",
        "            arreglo[izquierda], arreglo[derecha] = arreglo[derecha], arreglo[izquierda]\n",
        "            \"\"\"\n",
        "                Ya intercambiamos, pero seguimos avanzando los índices\n",
        "            \"\"\"\n",
        "            izquierda += 1\n",
        "            derecha -= 1\n",
        "\n",
        "arregloInicial = [4,9,12,3,5,1]\n",
        "print(\"Entrada: \",arregloInicial)\n",
        "\n",
        "quicksort(arregloInicial, 0 , len(arregloInicial)-1)\n",
        "\n",
        "print(\"Después de ordenarlo:\", arregloInicial)"
      ],
      "metadata": {
        "colab": {
          "base_uri": "https://localhost:8080/"
        },
        "id": "iJUSxu9mMFrI",
        "outputId": "f4e405ce-675c-4798-e9d1-c85b59b67691"
      },
      "execution_count": 8,
      "outputs": [
        {
          "output_type": "stream",
          "name": "stdout",
          "text": [
            "Entrada:  [4, 9, 12, 3, 5, 1]\n",
            "Después de ordenarlo:  [1, 3, 4, 5, 9, 12]\n"
          ]
        }
      ]
    },
    {
      "cell_type": "code",
      "source": [
        "from numpy.core.fromnumeric import size\n",
        "import matplotlib.pyplot as plt\n",
        "import datetime\n",
        "from timeit import repeat\n",
        "import random\n",
        "\n",
        "x=[]; y=[]\n",
        "\n",
        "for n in range(5,500):\n",
        "\n",
        "  a = random.sample(range(1, 1000), n)\n",
        "\n",
        "  largo = len(a) - 1\n",
        "\n",
        "  #la función repeat está ejecutando 20 veces bubble_sort con el arreglo a y retorna el mejor tiempo obtenido.\n",
        "  t = repeat(setup=\"from __main__ import quicksort\", stmt=f\"quicksort({a,0,largo})\", repeat=1, number=10)\n",
        "\n",
        "  x.append(n)\n",
        "  y.append(t)\n",
        "\n",
        "\n",
        "plt.plot(x,y)\n",
        "plt.plot(x,y2)\n",
        "\n",
        "plt.legend([\"QuickSort\"])\n",
        "\n",
        "plt.xlabel('n')\n",
        "plt.ylabel('time in ms')\n",
        "plt.show()"
      ],
      "metadata": {
        "colab": {
          "base_uri": "https://localhost:8080/",
          "height": 293
        },
        "id": "wzzxt2ZPZOOr",
        "outputId": "2f2f62c6-b752-4cc4-d088-8ad28cbf14f8"
      },
      "execution_count": 12,
      "outputs": [
        {
          "output_type": "error",
          "ename": "TypeError",
          "evalue": "ignored",
          "traceback": [
            "\u001b[0;31m---------------------------------------------------------------------------\u001b[0m",
            "\u001b[0;31mTypeError\u001b[0m                                 Traceback (most recent call last)",
            "\u001b[0;32m<ipython-input-12-207086000a69>\u001b[0m in \u001b[0;36m<module>\u001b[0;34m\u001b[0m\n\u001b[1;32m     14\u001b[0m \u001b[0;34m\u001b[0m\u001b[0m\n\u001b[1;32m     15\u001b[0m   \u001b[0;31m#la función repeat está ejecutando 20 veces bubble_sort con el arreglo a y retorna el mejor tiempo obtenido.\u001b[0m\u001b[0;34m\u001b[0m\u001b[0;34m\u001b[0m\u001b[0;34m\u001b[0m\u001b[0m\n\u001b[0;32m---> 16\u001b[0;31m   \u001b[0mt\u001b[0m \u001b[0;34m=\u001b[0m \u001b[0mrepeat\u001b[0m\u001b[0;34m(\u001b[0m\u001b[0msetup\u001b[0m\u001b[0;34m=\u001b[0m\u001b[0;34m\"from __main__ import quicksort\"\u001b[0m\u001b[0;34m,\u001b[0m \u001b[0mstmt\u001b[0m\u001b[0;34m=\u001b[0m\u001b[0;34mf\"quicksort({a,0,largo})\"\u001b[0m\u001b[0;34m,\u001b[0m \u001b[0mrepeat\u001b[0m\u001b[0;34m=\u001b[0m\u001b[0;36m1\u001b[0m\u001b[0;34m,\u001b[0m \u001b[0mnumber\u001b[0m\u001b[0;34m=\u001b[0m\u001b[0;36m10\u001b[0m\u001b[0;34m)\u001b[0m\u001b[0;34m\u001b[0m\u001b[0;34m\u001b[0m\u001b[0m\n\u001b[0m\u001b[1;32m     17\u001b[0m \u001b[0;34m\u001b[0m\u001b[0m\n\u001b[1;32m     18\u001b[0m   \u001b[0mx\u001b[0m\u001b[0;34m.\u001b[0m\u001b[0mappend\u001b[0m\u001b[0;34m(\u001b[0m\u001b[0mn\u001b[0m\u001b[0;34m)\u001b[0m\u001b[0;34m\u001b[0m\u001b[0;34m\u001b[0m\u001b[0m\n",
            "\u001b[0;32m/usr/lib/python3.7/timeit.py\u001b[0m in \u001b[0;36mrepeat\u001b[0;34m(stmt, setup, timer, repeat, number, globals)\u001b[0m\n\u001b[1;32m    236\u001b[0m            repeat=default_repeat, number=default_number, globals=None):\n\u001b[1;32m    237\u001b[0m     \u001b[0;34m\"\"\"Convenience function to create Timer object and call repeat method.\"\"\"\u001b[0m\u001b[0;34m\u001b[0m\u001b[0;34m\u001b[0m\u001b[0m\n\u001b[0;32m--> 238\u001b[0;31m     \u001b[0;32mreturn\u001b[0m \u001b[0mTimer\u001b[0m\u001b[0;34m(\u001b[0m\u001b[0mstmt\u001b[0m\u001b[0;34m,\u001b[0m \u001b[0msetup\u001b[0m\u001b[0;34m,\u001b[0m \u001b[0mtimer\u001b[0m\u001b[0;34m,\u001b[0m \u001b[0mglobals\u001b[0m\u001b[0;34m)\u001b[0m\u001b[0;34m.\u001b[0m\u001b[0mrepeat\u001b[0m\u001b[0;34m(\u001b[0m\u001b[0mrepeat\u001b[0m\u001b[0;34m,\u001b[0m \u001b[0mnumber\u001b[0m\u001b[0;34m)\u001b[0m\u001b[0;34m\u001b[0m\u001b[0;34m\u001b[0m\u001b[0m\n\u001b[0m\u001b[1;32m    239\u001b[0m \u001b[0;34m\u001b[0m\u001b[0m\n\u001b[1;32m    240\u001b[0m \u001b[0;32mdef\u001b[0m \u001b[0mmain\u001b[0m\u001b[0;34m(\u001b[0m\u001b[0margs\u001b[0m\u001b[0;34m=\u001b[0m\u001b[0;32mNone\u001b[0m\u001b[0;34m,\u001b[0m \u001b[0;34m*\u001b[0m\u001b[0;34m,\u001b[0m \u001b[0m_wrap_timer\u001b[0m\u001b[0;34m=\u001b[0m\u001b[0;32mNone\u001b[0m\u001b[0;34m)\u001b[0m\u001b[0;34m:\u001b[0m\u001b[0;34m\u001b[0m\u001b[0;34m\u001b[0m\u001b[0m\n",
            "\u001b[0;32m/usr/lib/python3.7/timeit.py\u001b[0m in \u001b[0;36mrepeat\u001b[0;34m(self, repeat, number)\u001b[0m\n\u001b[1;32m    203\u001b[0m         \u001b[0mr\u001b[0m \u001b[0;34m=\u001b[0m \u001b[0;34m[\u001b[0m\u001b[0;34m]\u001b[0m\u001b[0;34m\u001b[0m\u001b[0;34m\u001b[0m\u001b[0m\n\u001b[1;32m    204\u001b[0m         \u001b[0;32mfor\u001b[0m \u001b[0mi\u001b[0m \u001b[0;32min\u001b[0m \u001b[0mrange\u001b[0m\u001b[0;34m(\u001b[0m\u001b[0mrepeat\u001b[0m\u001b[0;34m)\u001b[0m\u001b[0;34m:\u001b[0m\u001b[0;34m\u001b[0m\u001b[0;34m\u001b[0m\u001b[0m\n\u001b[0;32m--> 205\u001b[0;31m             \u001b[0mt\u001b[0m \u001b[0;34m=\u001b[0m \u001b[0mself\u001b[0m\u001b[0;34m.\u001b[0m\u001b[0mtimeit\u001b[0m\u001b[0;34m(\u001b[0m\u001b[0mnumber\u001b[0m\u001b[0;34m)\u001b[0m\u001b[0;34m\u001b[0m\u001b[0;34m\u001b[0m\u001b[0m\n\u001b[0m\u001b[1;32m    206\u001b[0m             \u001b[0mr\u001b[0m\u001b[0;34m.\u001b[0m\u001b[0mappend\u001b[0m\u001b[0;34m(\u001b[0m\u001b[0mt\u001b[0m\u001b[0;34m)\u001b[0m\u001b[0;34m\u001b[0m\u001b[0;34m\u001b[0m\u001b[0m\n\u001b[1;32m    207\u001b[0m         \u001b[0;32mreturn\u001b[0m \u001b[0mr\u001b[0m\u001b[0;34m\u001b[0m\u001b[0;34m\u001b[0m\u001b[0m\n",
            "\u001b[0;32m/usr/lib/python3.7/timeit.py\u001b[0m in \u001b[0;36mtimeit\u001b[0;34m(self, number)\u001b[0m\n\u001b[1;32m    175\u001b[0m         \u001b[0mgc\u001b[0m\u001b[0;34m.\u001b[0m\u001b[0mdisable\u001b[0m\u001b[0;34m(\u001b[0m\u001b[0;34m)\u001b[0m\u001b[0;34m\u001b[0m\u001b[0;34m\u001b[0m\u001b[0m\n\u001b[1;32m    176\u001b[0m         \u001b[0;32mtry\u001b[0m\u001b[0;34m:\u001b[0m\u001b[0;34m\u001b[0m\u001b[0;34m\u001b[0m\u001b[0m\n\u001b[0;32m--> 177\u001b[0;31m             \u001b[0mtiming\u001b[0m \u001b[0;34m=\u001b[0m \u001b[0mself\u001b[0m\u001b[0;34m.\u001b[0m\u001b[0minner\u001b[0m\u001b[0;34m(\u001b[0m\u001b[0mit\u001b[0m\u001b[0;34m,\u001b[0m \u001b[0mself\u001b[0m\u001b[0;34m.\u001b[0m\u001b[0mtimer\u001b[0m\u001b[0;34m)\u001b[0m\u001b[0;34m\u001b[0m\u001b[0;34m\u001b[0m\u001b[0m\n\u001b[0m\u001b[1;32m    178\u001b[0m         \u001b[0;32mfinally\u001b[0m\u001b[0;34m:\u001b[0m\u001b[0;34m\u001b[0m\u001b[0;34m\u001b[0m\u001b[0m\n\u001b[1;32m    179\u001b[0m             \u001b[0;32mif\u001b[0m \u001b[0mgcold\u001b[0m\u001b[0;34m:\u001b[0m\u001b[0;34m\u001b[0m\u001b[0;34m\u001b[0m\u001b[0m\n",
            "\u001b[0;32m/usr/lib/python3.7/timeit.py\u001b[0m in \u001b[0;36minner\u001b[0;34m(_it, _timer)\u001b[0m\n",
            "\u001b[0;31mTypeError\u001b[0m: quicksort() missing 2 required positional arguments: 'izquierda' and 'derecha'"
          ]
        }
      ]
    }
  ]
}