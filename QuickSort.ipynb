{
  "nbformat": 4,
  "nbformat_minor": 0,
  "metadata": {
    "colab": {
      "provenance": [],
      "toc_visible": true,
      "include_colab_link": true
    },
    "kernelspec": {
      "name": "python3",
      "display_name": "Python 3"
    },
    "language_info": {
      "name": "python"
    }
  },
  "cells": [
    {
      "cell_type": "markdown",
      "metadata": {
        "id": "view-in-github",
        "colab_type": "text"
      },
      "source": [
        "<a href=\"https://colab.research.google.com/github/CharlyAguirre/ADA-informes/blob/main/QuickSort.ipynb\" target=\"_parent\"><img src=\"https://colab.research.google.com/assets/colab-badge.svg\" alt=\"Open In Colab\"/></a>"
      ]
    },
    {
      "cell_type": "markdown",
      "source": [
        "# 1. Problema de ordenamiento.\n",
        "\n",
        "**Entrada:** Un arreglo de números que puede o no estar ordenados [x1, x2, x3, ..., xn].\n",
        "\n",
        "**Salida:** El mismo arreglo de entrada con sus datos, pero ordenados de menor a mayor [x1 ≤ x2 ≤ x3 ≤ ... ≤ xn] o de mayor a menor dependiendo de la condicion que se utilice.\n",
        "\n",
        "Los problemas de ordenamiento son muy recurrentes al momento de plantear la solución a un problema, pero ¿por qué? Estos son planteados con el fin de mantener un orden en la solución, también para una correcta y fácil manipulación de estos datos al momento de ser utilizados para la resolución de un problema mayor.\n"
      ],
      "metadata": {
        "id": "JJeh4sRbJURm"
      }
    },
    {
      "cell_type": "markdown",
      "source": [
        "# 2.QuickSort.\n",
        "\n",
        "El algoritmo QuickSort es un algoritmo que se aplica a los problemas de ordemanamiento. Este algoritmo es implementado en base al metodo de divide y venceras, esto es implemetado mediante la llamada recursiva de si mismo. Tambien consta de una funcion llamada partition, que se explicara en el siguiente punto cual es su funcion dentro del algoritmo. \n",
        "\n",
        "Dos puntos a destacar son que el QuickSort es el algoritmo de ordenamiento mas rapido conocido hasta la fecha y que el quicksort ordena el arreglo dentro del mismo arreglo que se le es entregado por lo que no es necesario usar mas espacio de la memoria al momento de realizar el ordenamiento."
      ],
      "metadata": {
        "id": "Wkqgmwj5JsPU"
      }
    },
    {
      "cell_type": "markdown",
      "source": [
        "## 2.1 Descripcion del QuickSort.\n",
        "\n",
        "Lo primero que hay que saber es que necesita el QuickSort para realizar su ordenamiento, los datos que necesitas son: **un arreglo de entrada, la posicion inicial del arreglo y la posicion final del arreglo**.\n",
        "\n",
        "Como se menciono en el punto anterior el QuickSort cuenta con una funcion a la cual se le llama **partition**, esta funcion es la encargada de ordenar el arreglo mediante un pivote que se escoje dentro del arreglo, el pivote no es mas que solo un numero dentro del arreglo, pero la eficiencia del algoritmo depende totalmente del pivote que se escoje ya que las comparaciones se hacen con este pivote. Primero el pivote se intercambia por el ultimo dato del arreglo y ahora empezamos a comparar los datos con el pivote, si el dato que se compara es menor que el pivote este se coloca en un sub-arreglo a la izquierda y si es mayor en un sub-arreglo a la derecha del sub-arreglo a la izquierda, estos dos sub-arreglos se optienen mediante el manejo de los indices. Una vez que se terminan los datos a comparar el pivote es colocado entre los dos arreglos y esta funcion **retorna la posicion del pivote**. Esto se puede hacer un poco complicado solo con palabras pero en el ejemplo del siguiente punto se vera menor.\n",
        "\n",
        "Ya explicada la funcion partition solo falta el como funcionan las llamadas recusivas de este algoritmo. Estas recursiones son para poder dividir el arreglo en 2, pero estas no hacen partiendo el largo en dos (n//2), estas se hacen miendiante la posicion del pivote que es retornada de la funcion partition, por lo que un sub-arreglo es desde el inicio hasta el pivote y el otro sub-arreglo es desde el pivote+1 hasta el final. Esto se realiza hasta que los largos de esto arreglo sean 1."
      ],
      "metadata": {
        "id": "O2wMHS2tOFXV"
      }
    },
    {
      "cell_type": "markdown",
      "source": [
        "## 2.2 Ejemplo paso a paso del QuickSort.\n",
        "\n",
        "Para este ejemplo arreglo = [4,9,12,3,5,1]\n",
        "\n",
        "Se llama a la funcion partition y empieza el algortimo.\n",
        "\n",
        "Para escojer el pivote usaremos como funcion pivote = arreglo[inicio].\n",
        "\n",
        "El pivote en el arreglo de ejemplo seria **(4)**. \n",
        "\n",
        "Inidice de inicio del sub-arreglo derecho i = 0, esto lo usaremos para despues de comparar todo el arreglo intercambiar el dato de la posicion i con la del pivote\n",
        "\n",
        "Intercambiamos la posicion del pivote con la del ultima posicion del arreglo.\n",
        "\n",
        "Por lo que el arreglo quedaria [1,9,12,3,5,**4**].\n",
        "\n",
        "La primera comparacion seria **1 < 4**.\n",
        "\n",
        "Se aumentan la i y pasa a ser 1.\n",
        "\n",
        "Se inicializa el sub-arreglo izquierdo [(1),9,12,3,5,**4**] .\n",
        "\n",
        "La siguiente comparacion seria **9 > 4**.\n",
        "\n",
        "Se mantiene la i.\n",
        "\n",
        "Se inicializa el sub-arreglo derecho [(1),(9),12,3,5,**4**].\n",
        "\n",
        "La siguiente comparacion seria **12 > 4**.\n",
        "\n",
        "Se mantiene la i.\n",
        "\n",
        "Se actualiza el sub-arreglo derecho [(1),(9,12),3,5,**4**].\n",
        "\n",
        "La siguiente comparacion seria **3 < 4**.\n",
        "\n",
        "Se intercambia la posicion del 3 con la posicion del 9.\n",
        "\n",
        "Se aumentan la i y pasa a ser 2.\n",
        "\n",
        "Se actualizan los dos sub-arreglos [(1,3),(12,9),5,**4**].\n",
        "\n",
        "La siguiente comparacion seria **5 > 4**.\n",
        "\n",
        "Se mantiene la i.\n",
        "\n",
        "Se actualiza el sub-arreglo derecho [(1,3),(12,9,5),**4**].\n",
        "\n",
        "Ahora ya con los dos sub arreglos completos se intercambia la posicion del pivote con el dato de la posicion i.\n",
        "\n",
        "Se actualiza el arreglo [1,3,4,9,5,12].\n",
        "\n",
        "La funcion partition devuelve la **posicion del pivote que es 2 esta posicion es la que guarda la i**.\n",
        "\n",
        "Ahora se llama de forma recursiva el QuickSort para el sub-arreglo izquierdo[1,3,4] y para el sub-arreglo derecho[9,5,12].\n",
        "\n",
        "Seguimos con sub-arreglo izquierdo[1,3,4].\n",
        "\n",
        "El pivote es el **(1)**\n",
        "\n",
        "Inidice del final del sub-arreglo izquierdo i = 0.\n",
        "\n",
        "Intercambiamos la posicion del pivote con la del ultima posicion del arreglo.\n",
        "\n",
        "Por lo que el arreglo quedaria [4,3,**1**].\n",
        "\n",
        "La primera comparacion de este sub-arreglo seria **4 > 1**.\n",
        "\n",
        "Se mantiene la i.\n",
        "\n",
        "Se inicializa el sub-arreglo derecho [(4),3,**1**].\n",
        "\n",
        "La siguiente comparacion seria **3 > 1**.\n",
        "\n",
        "Se mantiene la i.\n",
        "\n",
        "Se actualiza el sub-arreglo derecho [(4,3),**1**]\n",
        "\n",
        "Ahora ya con todas las comparaciones de este sub-arreglo intercambiamos la posicion del 1 con la del 4 ya que la posiscion del 4 es el inicio del sub-arreglo derecho [1,3,4], el return de esta funcion es la posicion del 1 que se guarda en la j.\n",
        "\n",
        "Se llama de forma recursiva el QuickSort para el sub-arreglo izquierdo[1], como tiene largo 1 se entiende que esta ordenado y se retorna.\n",
        "\n",
        "Se llama el QuickSort de forma recursiva para el sub-arreglo derecho[3,4].\n",
        "\n",
        "El pivote es **3**.\n",
        "\n",
        "El pivote pasa a la ultima posicion [4,**3**].\n",
        "\n",
        "La primera comparacion de este sub-arreglo seria **4 > 3**.\n",
        "\n",
        "se mantiene i.\n",
        "\n",
        "Se inicializa el sub-arreglo derecho [(4),**3**], pero como es la ultima comparacion se intercambian las posiciones entre estos dos datos quedando [3,4]. Al separar este sub-arreglo en 2 quedarian sub-arreglos de largo 1 por lo que se entiende que estan ordenados\n",
        "\n",
        "Seguimos con sub-arreglo derecho[9,5,12].\n",
        "\n",
        "El pivote es el **(9)**.\n",
        "\n",
        "Inidice de inicio del sub-arreglo izquierdo i = 0.\n",
        "\n",
        "El pivote pasa a la ultima posicion [12,5,**9**].\n",
        "\n",
        "La primera comparacion de este sub-arreglo seria **12 > 9**.\n",
        "\n",
        "Se mantiene la i.\n",
        "\n",
        "Se inicializa el sub-arreglo derecho [(12),5,**9**].\n",
        "\n",
        "La siguiente comparacion seria **5 < 9**.\n",
        "\n",
        "Se intercambia la posicion del 5 con la posicion del 12.\n",
        "\n",
        "Se aumentan la i y pasa a ser 1.\n",
        "\n",
        "Se inicializa el sub-arreglo izquierdo [(5),(12),**9**].\n",
        "\n",
        "Ahora se intercambia la posicion del pivote con la posicion del 12 en este caso por lo que el sub-arreglo pasa a ser [5,9,12].\n",
        "\n",
        "El sub-arreglo derecho queda con un solo dato que seria [12] por lo que se entiende que esta ordenado.\n",
        "\n",
        "Se llama el QuickSort de forma recursiva para el sub-arreglo derecho[5,9].\n",
        "\n",
        "El pivote es **5**.\n",
        "\n",
        "El pivote pasa a la ultima posicion [9,**5**].\n",
        "\n",
        "La primera comparacion de este sub-arreglo seria **9 > 5**.\n",
        "\n",
        "se mantiene i.\n",
        "\n",
        "Se inicializa el sub-arreglo derecho [(9),**5**], pero como es la ultima comparacion se intercambian las posiciones entre estos dos datos quedando [5,9]. Al separar este sub-arreglo en 2 quedarian sub-arreglos de largo 1 por lo que se entiende que estan ordenados. Con esto terminamos con las comparaciones quedando lo siguiente. \n",
        "\n",
        "El arreglo principal:[1, 3, 4, 5, 9, 12].\n"
      ],
      "metadata": {
        "id": "1Qg6nc4nN2yh"
      }
    },
    {
      "cell_type": "markdown",
      "source": [
        "## 2.3 Codigo del QuickSort."
      ],
      "metadata": {
        "id": "wxPNf1Jy0nx_"
      }
    },
    {
      "cell_type": "code",
      "source": [
        "from numpy import less\n",
        "import random\n",
        "from termcolor import colored\n",
        "import copy\n",
        "\n",
        "def quicksort(arreglo, izquierda, derecha, cont = 0, verbose = False):\n",
        "    if len(arreglo) == 1: #Condicion para terminar las recursiones.\n",
        "        return cont\n",
        "\n",
        "    if izquierda < derecha:\n",
        "        posPivote, cont= particionPivoteDere(izquierda, derecha, arreglo, cont, verbose)\n",
        "        cont = quicksort(arreglo, izquierda, posPivote-1, cont, verbose)  # llamada recusiva del sub-arreglo izquierdo.\n",
        "        cont = quicksort(arreglo, posPivote+1, derecha, cont, verbose)  # Rllamada recusiva del sub-arreglo derecho.\n",
        "\n",
        "    return cont\n",
        "\n",
        "#Partition escojiendo el ultimo dato como pivote.\n",
        "def particionPivoteDere(izquierda, derecha, arreglo, cont, verbose):\n",
        "\n",
        "    pivote, ptr = arreglo[derecha], izquierda\n",
        "\n",
        "    if(verbose == True):\n",
        "\n",
        "      print(\"El sub-arreglo a ordenar es:\", arreglo[izquierda:])\n",
        "\n",
        "      print(\"Pivote seleccionado:\", pivote)\n",
        "      print(\"Inidice donde termine el sub-arreglo izqui y empieza el sub-arreglo derecho:\", ptr)\n",
        "\n",
        "    for i in range(izquierda, derecha):\n",
        "\n",
        "        if(verbose == True):\n",
        "\n",
        "            print(\"Comparamos:\", arreglo[i], \"con el pivote\", pivote)\n",
        "\n",
        "        cont += 1\n",
        "\n",
        "        if arreglo[i] <= pivote:\n",
        "\n",
        "            if(verbose == True):\n",
        "\n",
        "              print(\"El pivote es mayor que el numero a comparar:\", arreglo[i], \"<=\" , pivote)\n",
        "\n",
        "              print(\"Aumentamos el indice:\", ptr + 1 )\n",
        "\n",
        "            # Swapping values smaller than the pivot to the front\n",
        "            arreglo[i], arreglo[ptr] = arreglo[ptr], arreglo[i]\n",
        "            ptr += 1\n",
        "\n",
        "        elif(verbose == True):\n",
        "\n",
        "            print(\"El pivote es menor que el numero a comparar:\", arreglo[i], \">\" , pivote)\n",
        "\n",
        "            print(\"El inice se mantiene\")\n",
        "\n",
        "    # Finally swapping the last element with the pointer indexed number\n",
        "    arreglo[ptr], arreglo[derecha] = arreglo[derecha], arreglo[ptr]\n",
        "\n",
        "    if(verbose == True):\n",
        "\n",
        "      print(\"Movemos el pivote a la posicion del indice:\", ptr)\n",
        "\n",
        "      print(\"Arreglo de salida del partition:\", arreglo)\n",
        "      print(\" \")\n",
        "\n",
        "    return ptr, cont\n",
        "\n",
        "#Partition escojiendo el primer dato como pivote.\n",
        "def particionPivoteIzqui(izquierda, derecha, arreglo, cont, verbose):\n",
        "\n",
        "    pivote, ptr = arreglo[izquierda], izquierda #cambiar luego\n",
        "\n",
        "    arreglo[ptr], arreglo[derecha] = arreglo[derecha], arreglo[ptr]\n",
        "\n",
        "    for i in range(izquierda, derecha):\n",
        "        if arreglo[i] <= pivote:\n",
        "\n",
        "            arreglo[i], arreglo[ptr] = arreglo[ptr], arreglo[i]\n",
        "            ptr += 1\n",
        "\n",
        "    arreglo[ptr], arreglo[derecha] = arreglo[derecha], arreglo[ptr]\n",
        "\n",
        "    return ptr, cont\n",
        "\n",
        "def particionPivoteMediana(izquierda, derecha, arreglo, cont):\n",
        "\n",
        "    posRandom = random.sample(range(izquierda, derecha), 3)\n",
        "\n",
        "    a = max(arreglo[posRandom[0]],arreglo[posRandom[1]],arreglo[posRandom[2]])\n",
        "\n",
        "    b = min(arreglo[posRandom[0]],arreglo[posRandom[1]],arreglo[posRandom[2]])\n",
        "\n",
        "    for i in range(0,2):\n",
        "\n",
        "      if(arreglo[posRandom[i]] != a and arreglo[posRandom[i]] != b):\n",
        "\n",
        "        pivote, ptr = arreglo[posRandom[i]], izquierda\n",
        "        arreglo[posRandom[i]], arreglo[derecha] = arreglo[derecha], arreglo[posRandom[i]]\n",
        "\n",
        "      elif(arreglo[posRandom[i]] != a and arreglo[posRandom[i]] == b):\n",
        "\n",
        "        pivote, ptr = b, izquierda\n",
        "        arreglo[ptr], arreglo[derecha] = arreglo[derecha], arreglo[ptr]\n",
        "        arreglo[posRandom[i]], arreglo[derecha] = arreglo[derecha], arreglo[posRandom[i]]\n",
        "\n",
        "      elif(arreglo[posRandom[i]] == a and arreglo[posRandom[i]] != b):\n",
        "\n",
        "        pivote, ptr = b, izquierda\n",
        "        arreglo[posRandom[i]], arreglo[derecha] = arreglo[derecha], arreglo[posRandom[i]]\n",
        "\n",
        "\n",
        "    for i in range(izquierda, derecha):\n",
        "\n",
        "        cont += 1\n",
        "\n",
        "        if arreglo[i] <= pivote:\n",
        "\n",
        "            arreglo[i], arreglo[ptr] = arreglo[ptr], arreglo[i]\n",
        "            ptr += 1\n",
        "\n",
        "    arreglo[ptr], arreglo[derecha] = arreglo[derecha], arreglo[ptr]\n",
        "\n",
        "    return ptr, cont\n",
        "\n",
        "arregloInicial = [4,9,12,3,5,1]\n",
        "print(\"Entrada: \",arregloInicial)\n",
        "\n",
        "cont = quicksort(arregloInicial, 0 ,len(arregloInicial)-1)\n",
        "\n",
        "print(\"Después de ordenarlo:\", arregloInicial)\n",
        "\n",
        "print(\"Comparaciones realizadas:\", cont)"
      ],
      "metadata": {
        "colab": {
          "base_uri": "https://localhost:8080/"
        },
        "id": "iJUSxu9mMFrI",
        "outputId": "359cab10-2dc1-425a-b46b-4f470fd1f5d2"
      },
      "execution_count": 134,
      "outputs": [
        {
          "output_type": "stream",
          "name": "stdout",
          "text": [
            "Entrada:  [4, 9, 12, 3, 5, 1]\n",
            "Después de ordenarlo: [1, 3, 4, 5, 9, 12]\n",
            "Comparaciones realizadas: 12\n"
          ]
        }
      ]
    },
    {
      "cell_type": "markdown",
      "source": [
        "## 2.4 Ejecución paso a paso del QuickSort (verbose = True)\n",
        "\n",
        "En este punto le ingresaremos true a la variable verbose para que el algoritmo nos muestre el paso a pasa al momento de ordenar un arreglo random."
      ],
      "metadata": {
        "id": "nJ3ZYBIVbXPH"
      }
    },
    {
      "cell_type": "code",
      "source": [
        "import random\n",
        "arreglo = random.sample(range(-100, 100), 6)\n",
        "\n",
        "print(\"Arreglo de entrada : \", arreglo)\n",
        "print(\" \")\n",
        "\n",
        "largo = len(arreglo)\n",
        "\n",
        "cont = quicksort(arreglo, 0, largo-1, verbose=True)\n",
        "\n",
        "print(\"Arreglo de salida : \", arreglo)\n",
        "print(\"Comparaciones realizadas:\", cont)"
      ],
      "metadata": {
        "id": "TWc2CXIZ0BKm",
        "outputId": "a097843e-90e9-4eb0-92d8-2c8a4325461e",
        "colab": {
          "base_uri": "https://localhost:8080/"
        }
      },
      "execution_count": 91,
      "outputs": [
        {
          "output_type": "stream",
          "name": "stdout",
          "text": [
            "Arreglo de entrada :  [-97, -10, -90, 71, -27, 80]\n",
            " \n",
            "El sub-arreglo a ordenar es: [-97, -10, -90, 71, -27, 80]\n",
            "Pivote seleccionado: 80\n",
            "Inidice donde termine el sub-arreglo izqui y empieza el sub-arreglo derecho: 0\n",
            "Comparamos: -97 con el pivote 80\n",
            "El pivote es mayor que el numero a comparar: -97 <= 80\n",
            "Aumentamos el indice: 1\n",
            "Comparamos: -10 con el pivote 80\n",
            "El pivote es mayor que el numero a comparar: -10 <= 80\n",
            "Aumentamos el indice: 2\n",
            "Comparamos: -90 con el pivote 80\n",
            "El pivote es mayor que el numero a comparar: -90 <= 80\n",
            "Aumentamos el indice: 3\n",
            "Comparamos: 71 con el pivote 80\n",
            "El pivote es mayor que el numero a comparar: 71 <= 80\n",
            "Aumentamos el indice: 4\n",
            "Comparamos: -27 con el pivote 80\n",
            "El pivote es mayor que el numero a comparar: -27 <= 80\n",
            "Aumentamos el indice: 5\n",
            "Movemos el pivote a la posicion del indice: 5\n",
            "Arreglo de salida del partition: [-97, -10, -90, 71, -27, 80]\n",
            " \n",
            "El sub-arreglo a ordenar es: [-97, -10, -90, 71, -27, 80]\n",
            "Pivote seleccionado: -27\n",
            "Inidice donde termine el sub-arreglo izqui y empieza el sub-arreglo derecho: 0\n",
            "Comparamos: -97 con el pivote -27\n",
            "El pivote es mayor que el numero a comparar: -97 <= -27\n",
            "Aumentamos el indice: 1\n",
            "Comparamos: -10 con el pivote -27\n",
            "El pivote es menor que el numero a comparar: -10 > -27\n",
            "El inice se mantiene\n",
            "Comparamos: -90 con el pivote -27\n",
            "El pivote es mayor que el numero a comparar: -90 <= -27\n",
            "Aumentamos el indice: 2\n",
            "Comparamos: 71 con el pivote -27\n",
            "El pivote es menor que el numero a comparar: 71 > -27\n",
            "El inice se mantiene\n",
            "Movemos el pivote a la posicion del indice: 2\n",
            "Arreglo de salida del partition: [-97, -90, -27, 71, -10, 80]\n",
            " \n",
            "El sub-arreglo a ordenar es: [-97, -90, -27, 71, -10, 80]\n",
            "Pivote seleccionado: -90\n",
            "Inidice donde termine el sub-arreglo izqui y empieza el sub-arreglo derecho: 0\n",
            "Comparamos: -97 con el pivote -90\n",
            "El pivote es mayor que el numero a comparar: -97 <= -90\n",
            "Aumentamos el indice: 1\n",
            "Movemos el pivote a la posicion del indice: 1\n",
            "Arreglo de salida del partition: [-97, -90, -27, 71, -10, 80]\n",
            " \n",
            "El sub-arreglo a ordenar es: [71, -10, 80]\n",
            "Pivote seleccionado: -10\n",
            "Inidice donde termine el sub-arreglo izqui y empieza el sub-arreglo derecho: 3\n",
            "Comparamos: 71 con el pivote -10\n",
            "El pivote es menor que el numero a comparar: 71 > -10\n",
            "El inice se mantiene\n",
            "Movemos el pivote a la posicion del indice: 3\n",
            "Arreglo de salida del partition: [-97, -90, -27, -10, 71, 80]\n",
            " \n",
            "Arreglo de salida :  [-97, -90, -27, -10, 71, 80]\n",
            "Comparaciones realizadas: 11\n"
          ]
        }
      ]
    },
    {
      "cell_type": "markdown",
      "source": [
        "# 3. Tiempo de ejecución \n",
        "\n",
        "## 3.1 Teorema para el tiempo de ejecución\n",
        "\n",
        "El tiempo de ejecución de manera teórica tiene el algoritmo del QuickSort para ordenar un arreglo es en notación O es de **O(n log n)** para el promedio de los casos es.\n",
        "\n",
        "## 3.2 comprobación del teorema\n",
        "\n",
        "Primero armamos la función de recurrencia **T(n) = T(k) + T(n-k) + O(n)**, pero te puedes preguntar ¿Como llegamos a esta?\n",
        "\n",
        "Primero que representa **O(n)**, este es el tiempo de ejecucion de la funcion partition, este siempre sera **O(n)** porque dentro de sus procesos se encuentra un ciclo repetitivo el cual recorre los n elementos del arrglo que se le entregan. "
      ],
      "metadata": {
        "id": "UmHdR4mWLnTt"
      }
    },
    {
      "cell_type": "markdown",
      "source": [],
      "metadata": {
        "id": "w625WA0_Lba7"
      }
    },
    {
      "cell_type": "markdown",
      "source": [
        "# 4. Correctitud del QuickSort."
      ],
      "metadata": {
        "id": "yzhK62LWYFLu"
      }
    },
    {
      "cell_type": "markdown",
      "source": [
        "# 5.Experimentos varios."
      ],
      "metadata": {
        "id": "mtzhZE9Nz69n"
      }
    },
    {
      "cell_type": "markdown",
      "source": [
        "## 5.1 Comparacion entre dos metodos para el partition(comparaciones realizadas)\n",
        "\n",
        "En este experimento se compararan la canditad de comparaciones que realiza el QuickSort, pero uno con una funcion partition que usa como **pivote el ultimo dato del arreglo** y otro QuickSort que tiene una funcion partition que usa como **pivote la mediana de 3 datos random del arreglo**."
      ],
      "metadata": {
        "id": "pmX1GOzLoaBZ"
      }
    },
    {
      "cell_type": "code",
      "source": [
        "def quicksort2(arreglo, izquierda, derecha, cont = 0, verbose = False):\n",
        "    if len(arreglo) == 1:\n",
        "        return cont\n",
        "\n",
        "    if izquierda < derecha:\n",
        "        posPivote, cont = particionPivoteMediana(izquierda, derecha, arreglo, cont)\n",
        "        cont = quicksort(arreglo, izquierda, posPivote-1, cont, verbose)\n",
        "        cont = quicksort(arreglo, posPivote+1, derecha, cont, verbose)\n",
        "\n",
        "    return cont"
      ],
      "metadata": {
        "id": "g3CsUJRCt2o3"
      },
      "execution_count": 135,
      "outputs": []
    },
    {
      "cell_type": "code",
      "source": [
        "import matplotlib.pyplot as plt\n",
        "import random\n",
        "import math\n",
        "\n",
        "x=[n for n in range(5,20)] \n",
        "y1=[]; # worst case\n",
        "y2=[n * math.log2(n) for n in range(5,20)] # best/worst case\n",
        "y=[]; \n",
        "\n",
        "\n",
        "\n",
        "for n in range(5,20):\n",
        "  contador = 0\n",
        "  arregloRandom= random.sample(range(1, 100), n)\n",
        "  arr = arregloRandom\n",
        "\n",
        "  largo = len(arregloRandom) - 1\n",
        "\n",
        "  counter = quicksort(arr, 0, largo)\n",
        "  y.append(counter)\n",
        "\n",
        "  counter = quicksort2(arregloRandom, 0, largo)\n",
        "  y1.append(counter)\n",
        "\n",
        "plt.plot(x,y)\n",
        "plt.plot(x,y1)\n",
        "plt.legend([\"QuickSort como pivote el ulitmo dato\",\"Quicksort como pivote la mediana de 3 datos random\"])\n",
        "\n",
        "plt.xlabel('n')\n",
        "plt.ylabel('number of operations')\n",
        "plt.show()"
      ],
      "metadata": {
        "id": "g0leet8Mt-uX",
        "outputId": "1365ac8b-85a3-4ecc-fe5e-22b3da353d3b",
        "colab": {
          "base_uri": "https://localhost:8080/",
          "height": 279
        }
      },
      "execution_count": 138,
      "outputs": [
        {
          "output_type": "display_data",
          "data": {
            "text/plain": [
              "<Figure size 432x288 with 1 Axes>"
            ],
            "image/png": "[encoded data removed]"
          },
          "metadata": {
            "needs_background": "light"
          }
        }
      ]
    },
    {
      "cell_type": "markdown",
      "source": [
        "## 5.2 Comparacion entre dos metodos para el partition(tiempo de ejecucion)\n",
        "\n",
        "En este experimento se compararan el tiempo de ejecucion entre una funcion partition que usa como **pivote el ultimo dato del arreglo** y una funcion partition que usa como **pivote la mediana de 3 datos random del arreglo**."
      ],
      "metadata": {
        "id": "6yMcOAXgiIW-"
      }
    },
    {
      "cell_type": "code",
      "source": [
        "from numpy.core.fromnumeric import size\n",
        "import matplotlib.pyplot as plt\n",
        "import datetime\n",
        "from timeit import repeat\n",
        "import random\n",
        "\n",
        "x=[]; y=[]; y2=[]\n",
        "\n",
        "cont = 0\n",
        "\n",
        "for n in range(5,500):\n",
        "\n",
        "  a = random.sample(range(1, 1000), n)\n",
        "  arr = a\n",
        "\n",
        "  largo = len(a) - 1\n",
        "\n",
        "  #la función repeat está ejecutando 20 veces bubble_sort con el arreglo a y retorna el mejor tiempo obtenido.\n",
        "  t = repeat(setup=\"from __main__ import quicksort\", stmt=f\"quicksort({arr},{0},{largo})\", repeat=1, number=10)\n",
        "  t2 = repeat(setup=\"from __main__ import quicksort2\", stmt=f\"quicksort2({a},{0},{largo})\", repeat=1, number=10)\n",
        "\n",
        "  x.append(n)\n",
        "  y.append(t)\n",
        "  y2.append(t2)\n",
        "\n",
        "plt.plot(x,y)\n",
        "plt.plot(x,y2)\n",
        "\n",
        "plt.legend([\"QuickSort como pivote el ulitmo dato\",\"Quicksort como pivote la mediana de 3 datos random\"])\n",
        "\n",
        "plt.xlabel('n')\n",
        "plt.ylabel('time in ms')\n",
        "plt.show()"
      ],
      "metadata": {
        "id": "QmqsasM4jMKu",
        "outputId": "d8f7fdb8-18be-4b11-96ea-bce60fcd3353",
        "colab": {
          "base_uri": "https://localhost:8080/",
          "height": 279
        }
      },
      "execution_count": 141,
      "outputs": [
        {
          "output_type": "display_data",
          "data": {
            "text/plain": [
              "<Figure size 432x288 with 1 Axes>"
            ],
            "image/png": "[encoded data removed]"
          },
          "metadata": {
            "needs_background": "light"
          }
        }
      ]
    },
    {
      "cell_type": "markdown",
      "source": [
        "## 5.3 Comparacion MergeSort v/s QuickSort (tiempo de ejecucion)."
      ],
      "metadata": {
        "id": "veAPLIQjaYoa"
      }
    },
    {
      "cell_type": "markdown",
      "source": [
        "En este experimento se realizara una comparacion entre los tiempos de ejecucion de dos algoritmos de ordenamiento, uno sera el MergeSort y el otro sera el QuickSort que es el estudiado en este informe."
      ],
      "metadata": {
        "id": "gViM-iW4j0ui"
      }
    },
    {
      "cell_type": "code",
      "source": [
        "#Codigo para realizar los experimentos.\n",
        "\n",
        "def MergeSort(arreglo, cont, verbose = False):\n",
        "  \n",
        "  mitad = len(arreglo) // 2\n",
        "\n",
        "  if len(arreglo) < 2:\n",
        "      return arreglo, cont\n",
        "\n",
        "  arregloDere, cont = MergeSort(arreglo[:mitad], cont, verbose)\n",
        "\n",
        "  arregloIzqui, cont = MergeSort(arreglo[mitad:], cont, verbose)\n",
        "\n",
        "  arreglo, cont = merge(arregloDere, arregloIzqui, cont, verbose)\n",
        "\n",
        "  return arreglo, cont\n",
        "\n",
        "def merge(arregloDere, arregloIzqui, cont, verbose):\n",
        "\n",
        "  i,j = 0,0\n",
        "\n",
        "  arreglo = [] \n",
        "\n",
        "  while(i < len(arregloDere) and j < len(arregloIzqui)):\n",
        "\n",
        "    cont +=1 \n",
        "\n",
        "    if (arregloDere[i] < arregloIzqui[j]):\n",
        "\n",
        "      arreglo.append(arregloDere[i])\n",
        "      i += 1 \n",
        "    else:\n",
        "        \n",
        "      arreglo.append(arregloIzqui[j])\n",
        "      j += 1\n",
        "\n",
        "  arreglo += arregloDere[i:]\n",
        "  arreglo += arregloIzqui[j:]\n",
        "\n",
        "  return arreglo, cont"
      ],
      "metadata": {
        "id": "m-r3rXXG0TA4"
      },
      "execution_count": 46,
      "outputs": []
    },
    {
      "cell_type": "code",
      "source": [
        "from numpy.core.fromnumeric import size\n",
        "import matplotlib.pyplot as plt\n",
        "import datetime\n",
        "from timeit import repeat\n",
        "import random\n",
        "\n",
        "x=[]; y=[]; y2=[]\n",
        "\n",
        "cont = 0\n",
        "\n",
        "for n in range(5,500):\n",
        "\n",
        "  a = random.sample(range(1, 1000), n)\n",
        "  arr = a\n",
        "\n",
        "  largo = len(a) - 1\n",
        "\n",
        "  #la función repeat está ejecutando 20 veces bubble_sort con el arreglo a y retorna el mejor tiempo obtenido.\n",
        "  t = repeat(setup=\"from __main__ import quicksort\", stmt=f\"quicksort({arr},{0},{largo})\", repeat=1, number=10)\n",
        "  t2 = repeat(setup=\"from __main__ import MergeSort\", stmt=f\"MergeSort({a},{cont},{largo})\", repeat=1, number=10)\n",
        "\n",
        "  x.append(n)\n",
        "  y.append(t)\n",
        "  y2.append(t2)\n",
        "\n",
        "plt.plot(x,y)\n",
        "plt.plot(x,y2)\n",
        "\n",
        "plt.legend([\"QuickSort\",\"MergeSort\"])\n",
        "\n",
        "plt.xlabel('n')\n",
        "plt.ylabel('time in ms')\n",
        "plt.show()"
      ],
      "metadata": {
        "colab": {
          "base_uri": "https://localhost:8080/",
          "height": 0
        },
        "id": "wzzxt2ZPZOOr",
        "outputId": "a6026d7a-d303-417b-d4b3-8505d74917ef"
      },
      "execution_count": 53,
      "outputs": [
        {
          "output_type": "display_data",
          "data": {
            "text/plain": [
              "<Figure size 432x288 with 1 Axes>"
            ],
            "image/png": "[encoded data removed]"
          },
          "metadata": {
            "needs_background": "light"
          }
        }
      ]
    },
    {
      "cell_type": "markdown",
      "source": [
        "Como se puede observar el MergeSort tiene peor tiempo de ejecucion que el QuickSort, pero por que existe esta diferencia si de manera teorica los dos algoritmos tienen complejidad temporal **O(n log n)**? Puede que el MergeSort y el QuickSort realicen las mismas comparaciones pero MergeSort tiene que realizar mas pasos al momento de entregar un arreglo con los datos ordenados,ya que el MergeSort utiliza un arreglo nuevo al que debe ir insertando los datos de dos sub-arreglos en orden y el QuickSort realiza cambios de posiciones entre los datos en el mismo arreglo."
      ],
      "metadata": {
        "id": "ChOgS4mNfEDm"
      }
    }
  ]
}